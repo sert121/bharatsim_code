{
  "nbformat": 4,
  "nbformat_minor": 0,
  "metadata": {
    "colab": {
      "name": "Final_Checks.ipynb",
      "provenance": [],
      "authorship_tag": "ABX9TyNkt1MLicTcsUFBhRvJrGJJ"
    },
    "kernelspec": {
      "name": "python3",
      "display_name": "Python 3"
    },
    "language_info": {
      "name": "python"
    }
  },
  "cells": [
    {
      "cell_type": "markdown",
      "metadata": {
        "id": "paTDs68-5lSf"
      },
      "source": [
        "# Set decimal points to 3 while printing in notebook"
      ]
    },
    {
      "cell_type": "code",
      "metadata": {
        "id": "R0-DPNtP5kT3"
      },
      "source": [
        "# pd.set_option('display.float_format', lambda x: '%.3f' % x)"
      ],
      "execution_count": null,
      "outputs": []
    },
    {
      "cell_type": "markdown",
      "metadata": {
        "id": "ysl3UBDO5rVl"
      },
      "source": [
        "# Plot for Age/Height, Age/Weight, Height/Weight in source IHDS and in synthpop"
      ]
    },
    {
      "cell_type": "code",
      "metadata": {
        "id": "ykayzJON2kgA"
      },
      "source": [
        "fig, axes = plt.subplots(1, 2, figsize=(12,4),sharey=True)\n",
        "fig.suptitle('Comparison of Age vs Height')\n",
        "\n",
        "sns.regplot(ax=axes[0], x = \"Age\", y='Weight', data=source_df, fit_reg = False, scatter_kws={\"alpha\": 0.2})\n",
        "axes[0].set_title('Age vs Weight in Source MH-IHDS-II')\n",
        "\n",
        "sns.regplot(ax=axes[1], x = \"Age\", y='Weight', data=df.sample(n=10000), fit_reg = False, scatter_kws={\"alpha\": 0.2})\n",
        "axes[1].set_title('Age vs Weight in Sample Synthpop 10k Mumbai')"
      ],
      "execution_count": null,
      "outputs": []
    },
    {
      "cell_type": "code",
      "metadata": {
        "id": "9YozRBAC2pW0"
      },
      "source": [
        "fig, axes = plt.subplots(1, 2, figsize=(12,4),sharey=True)\n",
        "# fig.suptitle('Comparison of Age vs Height')\n",
        "\n",
        "sns.regplot(ax=axes[0], x = \"Age\", y='Height', data=source_df, fit_reg = False, scatter_kws={\"alpha\": 0.2})\n",
        "axes[0].set_title('Age vs Height in Source MH-IHDS-II')\n",
        "\n",
        "sns.regplot(ax=axes[1], x = \"Age\", y='Height', data=df.sample(n=10000), fit_reg = False, scatter_kws={\"alpha\": 0.2})\n",
        "axes[1].set_title('Age vs Height in Sample Synthpop 10k Mumbai')"
      ],
      "execution_count": null,
      "outputs": []
    },
    {
      "cell_type": "code",
      "metadata": {
        "id": "-99p0ikE2sG8"
      },
      "source": [
        "fig, axes = plt.subplots(1, 2, figsize=(12,4),sharey=True)\n",
        "# fig.suptitle('Comparison of Age vs Height')\n",
        "\n",
        "sns.regplot(ax=axes[0], x = \"Height\", y='Weight', data=source_df, fit_reg = False, scatter_kws={\"alpha\": 0.2})\n",
        "axes[0].set_title('Height vs Weight in Source MH-IHDS-II')\n",
        "\n",
        "sns.regplot(ax=axes[1], x = \"Height\", y='Weight', data=df.sample(n=10000), fit_reg = False, scatter_kws={\"alpha\": 0.2})\n",
        "axes[1].set_title('Height vs Weight in Sample Synthpop 10k Mumbai')"
      ],
      "execution_count": null,
      "outputs": []
    },
    {
      "cell_type": "markdown",
      "metadata": {
        "id": "sWJI4N-G3imp"
      },
      "source": [
        "# Histograms for Age, weight and height in synthpop and source IHDS"
      ]
    },
    {
      "cell_type": "code",
      "metadata": {
        "id": "MFwarEN73gXB"
      },
      "source": [
        "sns.displot(data=df_ahw['Age'], kind='hist',\n",
        "            height=6, aspect=1.4, bins=10)\n",
        "sns.displot(data=df_ahw['Height'], kind='hist',\n",
        "            height=6, aspect=1.4, bins=10)\n",
        "sns.displot(data=df_ahw['Weight'], kind='hist',\n",
        "            height=6, aspect=1.4, bins=10)"
      ],
      "execution_count": null,
      "outputs": []
    },
    {
      "cell_type": "code",
      "metadata": {
        "id": "2H_m7XuK3rrX"
      },
      "source": [
        "source_df_ahw = source_df[['Age','Height','Weight']]\n",
        "source_df_ahw.hist(bins=10)"
      ],
      "execution_count": null,
      "outputs": []
    },
    {
      "cell_type": "markdown",
      "metadata": {
        "id": "MrbFOxBg4cEv"
      },
      "source": [
        "# Check count of homebound by gender in 60>age>=20"
      ]
    },
    {
      "cell_type": "code",
      "metadata": {
        "id": "iByNnaaI4PFV"
      },
      "source": [
        "# df[(df['JobLabel'] == 'Homebound') & (df['Age'] >= 20) & (df['Age'] < 60)]['SexLabel'].value_counts() \n"
      ],
      "execution_count": null,
      "outputs": []
    },
    {
      "cell_type": "markdown",
      "metadata": {
        "id": "nnVtR9wf4t3H"
      },
      "source": [
        "# Check the ratio of homebound by gender"
      ]
    },
    {
      "cell_type": "code",
      "metadata": {
        "id": "q65Gi3n34tIm"
      },
      "source": [
        "df[df['JobLabel']=='Homebound']['SexLabel'].value_counts() / len(df)"
      ],
      "execution_count": null,
      "outputs": []
    },
    {
      "cell_type": "markdown",
      "metadata": {
        "id": "SOiHF_Cw43zA"
      },
      "source": [
        "# Female to male ratio in the synthpop - for age < 18"
      ]
    },
    {
      "cell_type": "code",
      "metadata": {
        "id": "M7R8CPwp44tc"
      },
      "source": [
        "# df['SexLabel'].value_counts()/len(df)\n",
        "\n",
        "df[(df['Age'] >= 0 & df['Age'] < 18)\n",
        "df['SexLabel'].value_counts()/len(df)"
      ],
      "execution_count": null,
      "outputs": []
    },
    {
      "cell_type": "markdown",
      "metadata": {
        "id": "YQRqw1fU4-Xh"
      },
      "source": [
        "# Histogram for SexLabel in IHDS and in synthpop"
      ]
    },
    {
      "cell_type": "code",
      "metadata": {
        "id": "7nTj0LM25Ff7"
      },
      "source": [
        "plt.figure(figsize=(6,4))\n",
        "# plt.ylim([0, 800])\n",
        "plt.title(\"Histogram for SexLabel in Source MH-IHDS with Age\")\n",
        "myplot = sns.histplot(data=source_df , x=\"Age\", hue=\"SexLabel\", multiple=\"dodge\", bins=10)"
      ],
      "execution_count": null,
      "outputs": []
    },
    {
      "cell_type": "code",
      "metadata": {
        "id": "7VhIccgo4_K5"
      },
      "source": [
        "plt.figure(figsize=(6,4))\n",
        "# plt.ylim([0, 800])\n",
        "plt.title(\"Histogram for SexLabel in Entire Synthpop with Age\")\n",
        "myplot = sns.histplot(data=df , x=\"Age\", hue=\"SexLabel\", multiple=\"dodge\", bins=10)"
      ],
      "execution_count": null,
      "outputs": []
    },
    {
      "cell_type": "markdown",
      "metadata": {
        "id": "Xlw_FgpP5aa8"
      },
      "source": [
        "# Check the age, height and weight columns for any anomalies"
      ]
    },
    {
      "cell_type": "code",
      "metadata": {
        "id": "Q1D6zAqF5Zt7"
      },
      "source": [
        "df['Age'].describe(), df['Height'].describe(), df['Weight'].describe()"
      ],
      "execution_count": null,
      "outputs": []
    },
    {
      "cell_type": "markdown",
      "metadata": {
        "id": "-1UQg2Qe5jvM"
      },
      "source": [
        "# Histogram of students in school"
      ]
    },
    {
      "cell_type": "code",
      "metadata": {
        "id": "aCQEbWMp5-j5"
      },
      "source": [
        "# plt.hist(sample_df[sample_df['school_id']>0]['Age'])\n",
        "# plot_school_df = sample_df[sample_df['school_id']>0]['Age']\n",
        "myplot = sns.histplot(data=sample_df[sample_df['school_id']>0] , x=\"Age\", bins=10)"
      ],
      "execution_count": null,
      "outputs": []
    },
    {
      "cell_type": "markdown",
      "metadata": {
        "id": "ZiGiBwzv6EBJ"
      },
      "source": [
        "# Few other check"
      ]
    },
    {
      "cell_type": "code",
      "metadata": {
        "id": "Njogcz_-6Df4"
      },
      "source": [
        "# df['WorkPlaceID'].describe()\n",
        "\n",
        "# df['WorkPlaceID'].isnull().values.any()\n",
        "# df['WorkPlaceID'].isnull().sum().sum()\n",
        "\n",
        "# df['WorkPlaceID'].isnull().T.any().T.sum()"
      ],
      "execution_count": null,
      "outputs": []
    },
    {
      "cell_type": "code",
      "metadata": {
        "id": "5F5L69mZ6m7W"
      },
      "source": [
        "# Check household sizes\n",
        "hh_size = df.groupby(['HHID', 'H_Lat', 'H_Lon']).size().reset_index(name='counts')\n",
        "hh_size['counts'].value_counts()"
      ],
      "execution_count": null,
      "outputs": []
    },
    {
      "cell_type": "code",
      "metadata": {
        "id": "Xc6bXEYS6zpX"
      },
      "source": [
        "# df[df['Age'] == 0]['school_id'].describe()\n",
        "df[df['Age'] < 3]['JobLabel'].describe()\n",
        "# df[df['Age'] < 3]['JobLabel'].unique()"
      ],
      "execution_count": null,
      "outputs": []
    },
    {
      "cell_type": "code",
      "metadata": {
        "id": "khOjEhRf64nG"
      },
      "source": [
        "df[df['JobLabel']=='Homebound']['school_lat'].describe()"
      ],
      "execution_count": null,
      "outputs": []
    },
    {
      "cell_type": "code",
      "metadata": {
        "id": "gg4wyisY687t"
      },
      "source": [
        "df[df['JobLabel']=='Student'].describe()"
      ],
      "execution_count": null,
      "outputs": []
    },
    {
      "cell_type": "code",
      "metadata": {
        "id": "Ai-a8ujc7FRs"
      },
      "source": [
        "# Verify Adherence_to_Intervention\n",
        "var1 = 'Adherence_to_Intervention'\n",
        "print((df[var1].value_counts()))\n",
        "print(df[var1][0:10])\n",
        "print(df[var1].min())\n",
        "df[var1].max()"
      ],
      "execution_count": null,
      "outputs": []
    },
    {
      "cell_type": "code",
      "metadata": {
        "id": "KKcJicky7K24"
      },
      "source": [
        "# Verify students\n",
        "\n",
        "# JobLabel: Student, JobID: 199 W_LAT and W_LON should be nan\n",
        "\n",
        "print(df[(df.WorkPlaceID==0) & (df.school_id!=0)]['JobID'].describe())\n",
        "\n",
        "# for homebound people: School_id=0, school_lat=nan, school_long=nan, \n",
        "# workplace_id=0, W_LAT=nan, W_LON=nan, \n",
        "# essential worker=0\n",
        "\n",
        "print(df[(df.WorkPlaceID==0) & (df.school_id==0)]['school_lat'].describe())\n",
        "print(df[(df.WorkPlaceID==0) & (df.school_id==0)]['school_long'].describe())\n",
        "\n",
        "print(df[(df.WorkPlaceID==0) & (df.school_id==0)]['WorkPlaceID'].describe())\n",
        "print(df[(df.WorkPlaceID==0) & (df.school_id==0)]['W_Lat'].describe())\n",
        "print(df[(df.WorkPlaceID==0) & (df.school_id==0)]['W_Lon'].describe())\n",
        "\n",
        "print(df[(df.WorkPlaceID==0) & (df.school_id==0)]['essential_worker'].describe())"
      ],
      "execution_count": null,
      "outputs": []
    },
    {
      "cell_type": "code",
      "metadata": {
        "id": "RjVluY4r7Tm5"
      },
      "source": [
        "# Print M/F ratio for the entire dataset\n",
        "\n",
        "df.groupby('SexLabel').agg({'SexLabel': ['count']})\n",
        "# Sex_Label_Summary = df.groupby('SexLabel').agg({'SexLabel': ['count']}).apply(lambda x: x/x.sum())\n",
        "# Sex_Label_Summary.to_csv('/content/drive/MyDrive/PhD_Data/Synth_Pop/Analysis/Pune_Ward_SexLabel_Summary.csv') "
      ],
      "execution_count": null,
      "outputs": []
    },
    {
      "cell_type": "code",
      "metadata": {
        "id": "kinKy1cs7cni"
      },
      "source": [
        "# Count the no of wards in Mumbai- should be 24\n",
        "\n",
        "len(df['AdminUnitName'].value_counts())"
      ],
      "execution_count": null,
      "outputs": []
    },
    {
      "cell_type": "markdown",
      "metadata": {
        "id": "gBuLS1AU7qwE"
      },
      "source": [
        "# Prepare ward-wise statistics"
      ]
    },
    {
      "cell_type": "code",
      "metadata": {
        "id": "GTuQdew07nqI"
      },
      "source": [
        "ward_wise = df[['AdminUnitName', 'SexLabel', 'Age', 'Height', 'Weight', 'HHID', 'JobLabel','WorkPlaceID', 'W_Lat', 'W_Lon', 'essential_worker','PublicTransport_Jobs','school_id','school_lat', 'school_long', 'Adherence_to_Intervention']]"
      ],
      "execution_count": null,
      "outputs": []
    },
    {
      "cell_type": "code",
      "metadata": {
        "id": "LAW0Lk8h7vqb"
      },
      "source": [
        "ward_wise.groupby('AdminUnitName').count()"
      ],
      "execution_count": null,
      "outputs": []
    },
    {
      "cell_type": "code",
      "metadata": {
        "id": "9aIB3TWt766p"
      },
      "source": [
        "# Get ward-wise count of Households (unique)\n",
        "ward_wise.groupby(['AdminUnitName']).agg({\"HHID\": \"nunique\"}).reset_index().to_csv(\"ward_wise_HH.csv\")\n",
        "\n",
        "# Get ward-wise count of Workplaces (unique)\n",
        "ward_wise_wkplace.groupby(['AdminUnitName']).agg({\"WorkPlaceID\": \"nunique\"}).reset_index().to_csv(\"ward_wise_uniq_wkplace.csv\")\n",
        "\n",
        "# Get ward-wise count of essential workers\n",
        "ward_wise_essential_worker = ward_wise[ward_wise['essential_worker'] != 0]\n",
        "ward_wise_essential_worker.groupby(['AdminUnitName']).count().reset_index()[['AdminUnitName','SexLabel']].to_csv(\"ward_wise_essential_worker.csv\")\n"
      ],
      "execution_count": null,
      "outputs": []
    },
    {
      "cell_type": "code",
      "metadata": {
        "id": "j8S0CSme80KD"
      },
      "source": [
        "# ward_wise.count().reset_index().to_csv(\"ward_wise_count.csv\", index=False)\n",
        "# ward_wise.mean().reset_index().to_csv(\"ward_wise_mean.csv\", index=False)"
      ],
      "execution_count": null,
      "outputs": []
    },
    {
      "cell_type": "markdown",
      "metadata": {
        "id": "CRut9uYC87H2"
      },
      "source": [
        "# Prepare for gpd plots"
      ]
    },
    {
      "cell_type": "code",
      "metadata": {
        "id": "jjgnx3qo88Be"
      },
      "source": [
        "world = gpd.read_file('/content/drive/MyDrive/PhD_Data/Synth_Pop/Analysis/Source_Files/Mumbai_Ward_Shape_Files/Mumbai.shp')\n"
      ],
      "execution_count": null,
      "outputs": []
    },
    {
      "cell_type": "markdown",
      "metadata": {
        "id": "XUEVIRFz9BwH"
      },
      "source": [
        "Plot School LatLon- For Mumbai takes around 11m 30s minutes"
      ]
    },
    {
      "cell_type": "code",
      "metadata": {
        "id": "TjpPkqfd9Df2"
      },
      "source": [
        "# Uncomment one of the following- to select on 10k or the entire synthpop\n",
        "\n",
        "# plot_sample_df = df.sample(n=10000)\n",
        "# plot_sample_df = df\n",
        "\n",
        "\n",
        "\n",
        "geometry = [Point(xy) for xy in zip(plot_sample_df['school_long'], plot_sample_df['school_lat'])]\n",
        "gdf = GeoDataFrame(plot_sample_df, geometry=geometry)  \n",
        "\n",
        "#this is a  map of Mumbai ward-wise on which we plot the lat long for the given entity\n",
        "\n",
        "gdf.plot(ax=world.plot(figsize=(20, 12), color='blue'), marker='o', color='red', markersize=5);\n",
        "\n",
        "plt.title(\"Distribution of Schools in Sample Synthpop 10k Mumbai\")\n",
        "plt.savefig('/content/drive/MyDrive/PhD_Data/Synth_Pop/Analysis/Mumbai/Mumbai_School.jpg')"
      ],
      "execution_count": null,
      "outputs": []
    },
    {
      "cell_type": "markdown",
      "metadata": {
        "id": "tU9dj3O69tMb"
      },
      "source": [
        "Plot Households LatLong- Current config takes around 3 minutes"
      ]
    },
    {
      "cell_type": "code",
      "metadata": {
        "id": "uqL9Hj5d9akf"
      },
      "source": [
        "\n",
        "\n",
        "geometry = [Point(xy) for xy in zip(plot_sample_df['H_Lon'], plot_sample_df['H_Lat'])]\n",
        "gdf = GeoDataFrame(plot_sample_df, geometry=geometry)  \n",
        "\n",
        "#this is a  map of Mumbai ward-wise on which we plot the lat long for the given entity\n",
        "\n",
        "gdf.plot(ax=world.plot(figsize=(20, 12), color='blue'), marker='o', color='red', markersize=5);\n",
        "\n",
        "plt.title(\"Distribution of Households in Sample Synthpop 10k Mumbai\")\n",
        "plt.savefig('/content/drive/MyDrive/PhD_Data/Synth_Pop/Analysis/Mumbai/Mumbai_Household.jpg')\n"
      ],
      "execution_count": null,
      "outputs": []
    },
    {
      "cell_type": "markdown",
      "metadata": {
        "id": "2H8q-QRi9pcK"
      },
      "source": [
        "Plot Workplace LatLong- Current config takes around 3 minutes"
      ]
    },
    {
      "cell_type": "code",
      "metadata": {
        "id": "GEb5xT5N9eC5"
      },
      "source": [
        "\n",
        "\n",
        "geometry = [Point(xy) for xy in zip(plot_sample_df['W_Lon'], plot_sample_df['W_Lat'])]\n",
        "gdf = GeoDataFrame(plot_sample_df, geometry=geometry)  \n",
        "\n",
        "#this is a  map of Mumbai ward-wise on which we plot the lat long for the given geometry\n",
        "\n",
        "gdf.plot(ax=world.plot(figsize=(20, 12), color='blue'), marker='o', color='red', markersize=5);\n",
        "\n",
        "plt.title(\"Distribution of Workplaces in Sample Synthpop 10k Mumbai\")\n",
        "plt.savefig('/content/drive/MyDrive/PhD_Data/Synth_Pop/Analysis/Mumbai/Mumbai_Workplace.jpg')"
      ],
      "execution_count": null,
      "outputs": []
    },
    {
      "cell_type": "markdown",
      "metadata": {
        "id": "iT-8sQV39ylg"
      },
      "source": [
        "# Finally save the df into the specified format and a 10k sample"
      ]
    },
    {
      "cell_type": "code",
      "metadata": {
        "id": "ocRrKn2A9zPX"
      },
      "source": [
        "!pwd"
      ],
      "execution_count": null,
      "outputs": []
    },
    {
      "cell_type": "code",
      "metadata": {
        "id": "GVSgO9nN91nS"
      },
      "source": [
        "# Save the dataframe as CSV to the specified folder, confirm the location with the previous cell's output\n",
        "\n",
        "\n",
        "df[['Age', 'Height', 'Weight', 'PSUID' ,'M_Fever', 'M_Cough', 'M_Diarrhea',\n",
        "       'M_Cataract', 'M_TB', 'M_High_BP', 'M_Heart_disease', 'M_Diabetes',\n",
        "       'M_Leprosy', 'M_Cancer', 'M_Asthma', 'M_Polio', 'M_Paralysis',\n",
        "       'M_Epilepsy', 'SexLabel', 'StateLabel', 'Religion', 'Caste', 'District',\n",
        "       'JobLabel', 'JobID', 'essential_worker', 'PublicTransport_Jobs',\n",
        "       'AdminUnitName', 'AdminUnitLatitude', 'AdminUnitLongitude', 'H_Lat',\n",
        "       'H_Lon', 'HHID', 'Agent_ID', 'WorkPlaceID', 'W_Lat', 'W_Lon',\n",
        "       'school_id', 'school_lat', 'school_long', 'public_place_id',\n",
        "       'public_place_lat', 'public_place_long', 'Adherence_to_Intervention']].to_csv(\"Mumbai_Synthpop_v1_2.csv\",index=False)"
      ],
      "execution_count": null,
      "outputs": []
    },
    {
      "cell_type": "code",
      "metadata": {
        "id": "Yka5Z5Hh-CTr"
      },
      "source": [
        "df[['Age', 'Height', 'Weight', 'PSUID' ,'M_Fever', 'M_Cough', 'M_Diarrhea',\n",
        "       'M_Cataract', 'M_TB', 'M_High_BP', 'M_Heart_disease', 'M_Diabetes',\n",
        "       'M_Leprosy', 'M_Cancer', 'M_Asthma', 'M_Polio', 'M_Paralysis',\n",
        "       'M_Epilepsy', 'SexLabel', 'StateLabel', 'Religion', 'Caste', 'District',\n",
        "       'JobLabel', 'JobID', 'essential_worker', 'PublicTransport_Jobs',\n",
        "       'AdminUnitName', 'AdminUnitLatitude', 'AdminUnitLongitude', 'H_Lat',\n",
        "       'H_Lon', 'HHID', 'Agent_ID', 'WorkPlaceID', 'W_Lat', 'W_Lon',\n",
        "       'school_id', 'school_lat', 'school_long', 'public_place_id',\n",
        "       'public_place_lat', 'public_place_long', 'Adherence_to_Intervention']].sample(n=10000).to_csv(\"Mumbai_Synthpop_v1_2_Sample_10k.csv\",index=False)"
      ],
      "execution_count": null,
      "outputs": []
    }
  ]
}