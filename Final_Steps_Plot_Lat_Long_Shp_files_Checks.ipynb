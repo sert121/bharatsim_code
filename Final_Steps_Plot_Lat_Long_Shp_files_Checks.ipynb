{
  "nbformat": 4,
  "nbformat_minor": 0,
  "metadata": {
    "colab": {
      "name": "Mumbai Plot_Lat_Long_Shp_files.ipynb",
      "provenance": [],
      "collapsed_sections": [
        "W4rvKoy-n0L7",
        "fj4p9WC8omGY",
        "eJ3YgScdcWul",
        "In27h2G8cdAV",
        "1RP5V44uFX4n",
        "VGcrvUl5FMA5",
        "Fi_O0SHIErjF",
        "gk71BoUGUI8C",
        "d0Hrm9Bk5p1l",
        "1eaLSdch5vDq",
        "BZ-t4Gyb5zwc",
        "WMEd9zxc5-qU",
        "fSDurOMc5OqM",
        "QuL7R4345YqE",
        "adwuoteh6TWj",
        "AlGUTbg27GJV",
        "WN0JoGHK7P8z",
        "yS2DZTT48VLZ",
        "hAEWwuRXmzkB",
        "lSMWDi68AUpq",
        "xOiTMS8OAht_",
        "EgKg8fytB0_B",
        "jlz5ilPsrbmX",
        "ALvv3N4VGORg",
        "3IsykkxmIPBH",
        "kbKzlS8FoT9n",
        "TLv9Xt-Xokji",
        "sAuvOSqGFsH9",
        "geel2WByowSV",
        "wxcmwhty8jwF",
        "zvWX1cxeops5",
        "Vho_rIdQ9jNz",
        "FkSmiHVBHd8s",
        "Edmr5FuhXrQL",
        "enQxVph3ERFh",
        "m6rPoFV_JBk8",
        "RUK1muiLJILB",
        "3qF100oTJ020",
        "OpgtQzDJJ3tW",
        "AVLNDBVbKH9M",
        "ZEN6GxEDPCje",
        "xcxwkmGJDuv3",
        "FkbvVl_l4Y4D",
        "RZF87JTR5IRP",
        "AJ4GdExN5NmM",
        "NBtaMsz55iPA",
        "Ae4M3H0sE0BD",
        "HHyqtdaHpbdJ"
      ],
      "machine_shape": "hm",
      "include_colab_link": true
    },
    "kernelspec": {
      "display_name": "Python 3",
      "name": "python3"
    },
    "language_info": {
      "name": "python"
    }
  },
  "cells": [
    {
      "cell_type": "markdown",
      "metadata": {
        "id": "view-in-github",
        "colab_type": "text"
      },
      "source": [
        "<a href=\"https://colab.research.google.com/github/sert121/bharatsim_code/blob/main/Final_Steps_Plot_Lat_Long_Shp_files_Checks.ipynb\" target=\"_parent\"><img src=\"https://colab.research.google.com/assets/colab-badge.svg\" alt=\"Open In Colab\"/></a>"
      ]
    },
    {
      "cell_type": "markdown",
      "metadata": {
        "id": "W4rvKoy-n0L7"
      },
      "source": [
        "#Mount GDrive"
      ]
    },
    {
      "cell_type": "code",
      "metadata": {
        "colab": {
          "base_uri": "https://localhost:8080/"
        },
        "id": "4RyVbac79nkK",
        "outputId": "34b16ba4-092b-4fe5-dc5f-6674258146fc"
      },
      "source": [
        "from google.colab import drive\n",
        "drive.mount('/content/drive')"
      ],
      "execution_count": null,
      "outputs": [
        {
          "output_type": "stream",
          "text": [
            "Mounted at /content/drive\n"
          ],
          "name": "stdout"
        }
      ]
    },
    {
      "cell_type": "markdown",
      "metadata": {
        "id": "JBgKm8wg_f9t"
      },
      "source": [
        "%cd works to change directory not !cs\n"
      ]
    },
    {
      "cell_type": "code",
      "metadata": {
        "colab": {
          "base_uri": "https://localhost:8080/"
        },
        "id": "SQNyspqc94a2",
        "outputId": "099e7f84-cc5e-4de1-e4f7-a420b490a207"
      },
      "source": [
        "%cd /content/drive/MyDrive/PhD_Data/Synth_Pop/Mumbai/"
      ],
      "execution_count": null,
      "outputs": [
        {
          "output_type": "stream",
          "text": [
            "/content/drive/MyDrive/PhD_Data/Synth_Pop/Mumbai\n"
          ],
          "name": "stdout"
        }
      ]
    },
    {
      "cell_type": "code",
      "metadata": {
        "colab": {
          "base_uri": "https://localhost:8080/"
        },
        "id": "wzYMTQAO_Rnt",
        "outputId": "c9f22d89-a44f-4bbf-eead-38cc1518a891"
      },
      "source": [
        "!pwd"
      ],
      "execution_count": null,
      "outputs": [
        {
          "output_type": "stream",
          "text": [
            "/content/drive/MyDrive/PhD_Data/Synth_Pop/Mumbai\n"
          ],
          "name": "stdout"
        }
      ]
    },
    {
      "cell_type": "markdown",
      "metadata": {
        "id": "fj4p9WC8omGY"
      },
      "source": [
        "# Reset the colab default UTC to IST time\n",
        "\n"
      ]
    },
    {
      "cell_type": "code",
      "metadata": {
        "colab": {
          "base_uri": "https://localhost:8080/"
        },
        "id": "DwB5BEqAoSlq",
        "outputId": "85d4f5b6-c82c-4966-c239-817b0dbf9a57"
      },
      "source": [
        "!rm /etc/localtime\n",
        "!ln -s /usr/share/zoneinfo/Asia/Kolkata /etc/localtime\n",
        "!date"
      ],
      "execution_count": null,
      "outputs": [
        {
          "output_type": "stream",
          "text": [
            "Tue Jun 22 18:41:30 IST 2021\n"
          ],
          "name": "stdout"
        }
      ]
    },
    {
      "cell_type": "code",
      "metadata": {
        "colab": {
          "base_uri": "https://localhost:8080/"
        },
        "id": "RskajAhuMN1j",
        "outputId": "68eec128-24df-4d9f-ea3b-66811483a92e"
      },
      "source": [
        "!ls -lth"
      ],
      "execution_count": null,
      "outputs": [
        {
          "output_type": "stream",
          "text": [
            "total 7.3G\n",
            "-rw------- 1 root root 2.4M Jun 14 11:51  Mumbai_Synthpop_v1_1_Sample_10k.csv\n",
            "-rw------- 1 root root 2.2K May 26 20:56  Mumbai_Ward_Wise_Stats_Updated.csv\n",
            "-rw------- 1 root root 2.2K May 26 19:26  Mumbai_Ward_Wise_Stats.csv\n",
            "-rw------- 1 root root 578M May 25 18:36  Mumbai_Synthpop_v1_2.tar.gz\n",
            "-rw------- 1 root root 2.4M May 25 18:32  Mumbai_Synthpop_v1_2_Sample_10k.csv\n",
            "-rw------- 1 root root 3.0G May 25 18:27  Mumbai_Synthpop_v1_2.csv\n",
            "drwx------ 2 root root 4.0K May 25 12:39 'Test Data'\n",
            "drwx------ 2 root root 4.0K May 23 15:07  checkpoints\n",
            "-rw------- 1 root root 488M May 23 15:05  Mumbai_Synthpop_v1_1.tar.gz\n",
            "-rw------- 1 root root 2.9G May 23 14:58  Mumbai_Synthpop_v1_1.csv\n",
            "-rw------- 1 root root 446M May 23 11:38  Mumbai_Synthpop_v1.tar.gz\n"
          ],
          "name": "stdout"
        }
      ]
    },
    {
      "cell_type": "code",
      "metadata": {
        "colab": {
          "base_uri": "https://localhost:8080/"
        },
        "id": "w166a5ZOdxpv",
        "outputId": "b75a58bb-1f09-4563-8264-eed3ec8903ae"
      },
      "source": [
        "# %cd ../"
      ],
      "execution_count": null,
      "outputs": [
        {
          "output_type": "stream",
          "text": [
            "/content/drive/My Drive/PhD_Data/Synth_Pop/Mumbai\n"
          ],
          "name": "stdout"
        }
      ]
    },
    {
      "cell_type": "code",
      "metadata": {
        "colab": {
          "base_uri": "https://localhost:8080/"
        },
        "id": "sZdvC39Qd1bf",
        "outputId": "7078e10d-57cb-48ac-c2b9-0be30ee42832"
      },
      "source": [
        "!ls -ltr"
      ],
      "execution_count": null,
      "outputs": [
        {
          "output_type": "stream",
          "text": [
            "total 7574349\n",
            "-rw------- 1 root root  466852682 May 23 11:38  Mumbai_Synthpop_v1.tar.gz\n",
            "-rw------- 1 root root 3044384665 May 23 14:58  Mumbai_Synthpop_v1_1.csv\n",
            "-rw------- 1 root root    2445574 May 23 15:04  Mumbai_Synthpop_v1_1_Sample_10k.csv\n",
            "-rw------- 1 root root  511081398 May 23 15:05  Mumbai_Synthpop_v1_1.tar.gz\n",
            "drwx------ 2 root root       4096 May 23 15:07  checkpoints\n",
            "drwx------ 2 root root       4096 May 25 12:39 'Test Data'\n",
            "-rw------- 1 root root 3123529329 May 25 18:27  Mumbai_Synthpop_v1_2.csv\n",
            "-rw------- 1 root root    2509734 May 25 18:32  Mumbai_Synthpop_v1_2_Sample_10k.csv\n",
            "-rw------- 1 root root  605319747 May 25 18:36  Mumbai_Synthpop_v1_2.tar.gz\n"
          ],
          "name": "stdout"
        }
      ]
    },
    {
      "cell_type": "code",
      "metadata": {
        "id": "Zq2VnABXd5ZM"
      },
      "source": [
        "# test_df = pd.read_csv(\"mumbai_apply_final_fixes.csv\", delimiter=',', skiprows=0, low_memory=False)"
      ],
      "execution_count": null,
      "outputs": []
    },
    {
      "cell_type": "markdown",
      "metadata": {
        "id": "eJ3YgScdcWul"
      },
      "source": [
        "# Regression on Age for Height, Weight- From Kshitij"
      ]
    },
    {
      "cell_type": "code",
      "metadata": {
        "id": "9d8rSJCTF_oy"
      },
      "source": [
        "ihds_df = pd.read_stata(\"/content/drive/MyDrive/PhD_Data/Synth_Pop/Analysis/Source_Files/36151-0001-Data.dta\")\n",
        "columns_to_keep = ['RO3', 'RO5', 'HHID', 'HHSPLITID', 'ID11', 'ID13', 'AP5', 'AP8', 'STATEID', 'DISTRICT', 'PSUID', 'MB4', 'MB5', 'MB6', 'MB7', 'MB8', 'MB9', 'MB10', 'MB11', 'MB12', 'MB13', 'MB14', 'MB15', 'MB16', 'MB17']\n",
        "columns_rename_dict = {'RO3': 'Sex', 'RO5': 'Age', 'HHID': 'HHID', 'ID11': 'Religion', 'ID13': 'Caste', 'AP5': 'Height', 'AP8': 'Weight', 'STATEID': 'State', 'DISTID': 'District', 'PSUID': 'PSUID', 'MB4': 'M_Fever', 'MB5': 'M_Cough', 'MB6': 'M_Diarrhea', 'MB7': 'M_Cataract', 'MB8': 'M_TB', 'MB9': 'M_High_BP', 'MB10': 'M_Heart_disease', 'MB11': 'M_Diabetes', 'MB12': 'M_Leprosy', 'MB13': 'M_Cancer', 'MB14': 'M_Asthma', 'MB15': 'M_Polio', 'MB16': 'M_Paralysis', 'MB17': 'M_Epilepsy'}\n",
        "ihds_df = ihds_df[columns_to_keep].rename(columns=columns_rename_dict)"
      ],
      "execution_count": null,
      "outputs": []
    },
    {
      "cell_type": "code",
      "metadata": {
        "id": "7NaCnlAjGdWA"
      },
      "source": [
        "boundary_ihds_df = ihds_df[ihds_df['DISTRICT']=='Pune']\n",
        "boundary_ihds_df = boundary_ihds_df[['Age', 'Height', 'Weight', 'Sex']].dropna().reset_index(drop=True)"
      ],
      "execution_count": null,
      "outputs": []
    },
    {
      "cell_type": "code",
      "metadata": {
        "id": "PJoSHc4tGgTO"
      },
      "source": [
        "boundary_ihds_age_male_subset = boundary_ihds_df[boundary_ihds_df['Sex']=='Male 1']\n",
        "boundary_ihds_age_female_subset = boundary_ihds_df[boundary_ihds_df['Sex']=='Female 2']"
      ],
      "execution_count": null,
      "outputs": []
    },
    {
      "cell_type": "code",
      "metadata": {
        "id": "jZXBpjy7GjPh"
      },
      "source": [
        "female_weights_poly = np.polyfit(pow(boundary_ihds_age_female_subset['Age'], 1/4), boundary_ihds_age_female_subset['Weight'], deg=8)\n",
        "female_heights_poly = np.polyfit(pow(boundary_ihds_age_female_subset['Age'], 1/4), boundary_ihds_age_female_subset['Height'], deg=8)\n",
        "male_weights_poly = np.polyfit(pow(boundary_ihds_age_male_subset['Age'], 1/4), boundary_ihds_age_male_subset['Weight'], deg=8)\n",
        "male_heights_poly = np.polyfit(pow(boundary_ihds_age_male_subset['Age'], 1/4), boundary_ihds_age_male_subset['Height'], deg=8)"
      ],
      "execution_count": null,
      "outputs": []
    },
    {
      "cell_type": "code",
      "metadata": {
        "id": "w8soDqPSGp_R"
      },
      "source": [
        "female_index = df['SexLabel']=='Female'\n",
        "\n",
        "female_weights = np.polyval(female_weights_poly, pow(df[female_index]['Age'].apply(lambda x : min(x,75)),1/4))\n",
        "female_weights = np.round(female_weights+np.random.normal(0, 0.5, size = female_weights.shape), 2)\n",
        "\n",
        "df.loc[female_index, 'Weight'] = female_weights"
      ],
      "execution_count": null,
      "outputs": []
    },
    {
      "cell_type": "code",
      "metadata": {
        "id": "xelU09sWHKqJ"
      },
      "source": [
        "male_index = df['SexLabel']=='Male'\n",
        "male_weights = np.polyval(female_weights_poly, pow(df[male_index]['Age'].apply(lambda x : min(x,75)),1/4))\n",
        "male_weights = np.round(male_weights+np.random.normal(0, 0.5, size = male_weights.shape), 2) + 5\n",
        "\n",
        "\n",
        "df.loc[male_index, 'Weight'] = male_weights"
      ],
      "execution_count": null,
      "outputs": []
    },
    {
      "cell_type": "markdown",
      "metadata": {
        "id": "In27h2G8cdAV"
      },
      "source": [
        "# Install geopandas"
      ]
    },
    {
      "cell_type": "code",
      "metadata": {
        "colab": {
          "base_uri": "https://localhost:8080/"
        },
        "id": "WUROa_sxhyyT",
        "outputId": "bea4441c-524c-4e51-d499-2c35e2064766"
      },
      "source": [
        "!pip3 install geopandas"
      ],
      "execution_count": null,
      "outputs": [
        {
          "output_type": "stream",
          "text": [
            "Collecting geopandas\n",
            "\u001b[?25l  Downloading https://files.pythonhosted.org/packages/d7/bf/e9cefb69d39155d122b6ddca53893b61535fa6ffdad70bf5ef708977f53f/geopandas-0.9.0-py2.py3-none-any.whl (994kB)\n",
            "\u001b[K     |████████████████████████████████| 1.0MB 13.8MB/s \n",
            "\u001b[?25hCollecting fiona>=1.8\n",
            "\u001b[?25l  Downloading https://files.pythonhosted.org/packages/9c/fc/9807326c37a6bfb2393ae3e1cca147aa74844562c4d5daa782d6e97ad2bc/Fiona-1.8.20-cp37-cp37m-manylinux1_x86_64.whl (15.4MB)\n",
            "\u001b[K     |████████████████████████████████| 15.4MB 286kB/s \n",
            "\u001b[?25hCollecting pyproj>=2.2.0\n",
            "\u001b[?25l  Downloading https://files.pythonhosted.org/packages/11/1d/1c54c672c2faf08d28fe78e15d664c048f786225bef95ad87b6c435cf69e/pyproj-3.1.0-cp37-cp37m-manylinux2010_x86_64.whl (6.6MB)\n",
            "\u001b[K     |████████████████████████████████| 6.6MB 34.0MB/s \n",
            "\u001b[?25hRequirement already satisfied: shapely>=1.6 in /usr/local/lib/python3.7/dist-packages (from geopandas) (1.7.1)\n",
            "Requirement already satisfied: pandas>=0.24.0 in /usr/local/lib/python3.7/dist-packages (from geopandas) (1.1.5)\n",
            "Requirement already satisfied: setuptools in /usr/local/lib/python3.7/dist-packages (from fiona>=1.8->geopandas) (57.0.0)\n",
            "Requirement already satisfied: attrs>=17 in /usr/local/lib/python3.7/dist-packages (from fiona>=1.8->geopandas) (21.2.0)\n",
            "Requirement already satisfied: six>=1.7 in /usr/local/lib/python3.7/dist-packages (from fiona>=1.8->geopandas) (1.15.0)\n",
            "Requirement already satisfied: certifi in /usr/local/lib/python3.7/dist-packages (from fiona>=1.8->geopandas) (2021.5.30)\n",
            "Collecting click-plugins>=1.0\n",
            "  Downloading https://files.pythonhosted.org/packages/e9/da/824b92d9942f4e472702488857914bdd50f73021efea15b4cad9aca8ecef/click_plugins-1.1.1-py2.py3-none-any.whl\n",
            "Collecting cligj>=0.5\n",
            "  Downloading https://files.pythonhosted.org/packages/73/86/43fa9f15c5b9fb6e82620428827cd3c284aa933431405d1bcf5231ae3d3e/cligj-0.7.2-py3-none-any.whl\n",
            "Requirement already satisfied: click>=4.0 in /usr/local/lib/python3.7/dist-packages (from fiona>=1.8->geopandas) (7.1.2)\n",
            "Collecting munch\n",
            "  Downloading https://files.pythonhosted.org/packages/cc/ab/85d8da5c9a45e072301beb37ad7f833cd344e04c817d97e0cc75681d248f/munch-2.5.0-py2.py3-none-any.whl\n",
            "Requirement already satisfied: python-dateutil>=2.7.3 in /usr/local/lib/python3.7/dist-packages (from pandas>=0.24.0->geopandas) (2.8.1)\n",
            "Requirement already satisfied: numpy>=1.15.4 in /usr/local/lib/python3.7/dist-packages (from pandas>=0.24.0->geopandas) (1.19.5)\n",
            "Requirement already satisfied: pytz>=2017.2 in /usr/local/lib/python3.7/dist-packages (from pandas>=0.24.0->geopandas) (2018.9)\n",
            "Installing collected packages: click-plugins, cligj, munch, fiona, pyproj, geopandas\n",
            "Successfully installed click-plugins-1.1.1 cligj-0.7.2 fiona-1.8.20 geopandas-0.9.0 munch-2.5.0 pyproj-3.1.0\n"
          ],
          "name": "stdout"
        }
      ]
    },
    {
      "cell_type": "markdown",
      "metadata": {
        "id": "1RP5V44uFX4n"
      },
      "source": [
        "# Load Packages"
      ]
    },
    {
      "cell_type": "code",
      "metadata": {
        "id": "2NdJRV4TDwQX"
      },
      "source": [
        "import pandas as pd\n",
        "from shapely.geometry import Point\n",
        "import geopandas as gpd\n",
        "from geopandas import GeoDataFrame\n",
        "import matplotlib.pyplot as plt\n",
        "import seaborn as sns\n",
        "import numpy as np\n",
        "from scipy import stats"
      ],
      "execution_count": null,
      "outputs": []
    },
    {
      "cell_type": "markdown",
      "metadata": {
        "id": "VGcrvUl5FMA5"
      },
      "source": [
        "# Extract/Create the csv"
      ]
    },
    {
      "cell_type": "code",
      "metadata": {
        "colab": {
          "base_uri": "https://localhost:8080/"
        },
        "id": "LG3AiLtBolP7",
        "outputId": "20ee4f71-9894-4c40-eafe-0bae8c65b127"
      },
      "source": [
        "!ls -lth "
      ],
      "execution_count": null,
      "outputs": [
        {
          "output_type": "stream",
          "text": [
            "total 7.8G\n",
            "-rw------- 1 root root 576M Jun 22 18:54  Mumbai_Synthpop_v1_3.tar.gz\n",
            "-rw------- 1 root root 2.4M Jun 14 11:51  Mumbai_Synthpop_v1_1_Sample_10k.csv\n",
            "-rw------- 1 root root 2.2K May 26 20:56  Mumbai_Ward_Wise_Stats_Updated.csv\n",
            "-rw------- 1 root root 2.2K May 26 19:26  Mumbai_Ward_Wise_Stats.csv\n",
            "-rw------- 1 root root 578M May 25 18:36  Mumbai_Synthpop_v1_2.tar.gz\n",
            "-rw------- 1 root root 2.4M May 25 18:32  Mumbai_Synthpop_v1_2_Sample_10k.csv\n",
            "-rw------- 1 root root 3.0G May 25 18:27  Mumbai_Synthpop_v1_2.csv\n",
            "drwx------ 2 root root 4.0K May 25 12:39 'Test Data'\n",
            "drwx------ 2 root root 4.0K May 23 15:07  checkpoints\n",
            "-rw------- 1 root root 488M May 23 15:05  Mumbai_Synthpop_v1_1.tar.gz\n",
            "-rw------- 1 root root 2.9G May 23 14:58  Mumbai_Synthpop_v1_1.csv\n",
            "-rw------- 1 root root 446M May 23 11:38  Mumbai_Synthpop_v1.tar.gz\n"
          ],
          "name": "stdout"
        }
      ]
    },
    {
      "cell_type": "code",
      "metadata": {
        "colab": {
          "base_uri": "https://localhost:8080/"
        },
        "id": "RzumHE1bkP_j",
        "outputId": "de7d5544-0f65-4d03-af8c-25eb8ebe905b"
      },
      "source": [
        "!tar czvf Mumbai_Synthpop_v1_3.tar.gz ./checkpoints/Mumbai_Synthpop_2021_05_25-10:59:19_PM"
      ],
      "execution_count": null,
      "outputs": [
        {
          "output_type": "stream",
          "text": [
            "./checkpoints/Mumbai_Synthpop_2021_05_25-10:59:19_PM\n"
          ],
          "name": "stdout"
        }
      ]
    },
    {
      "cell_type": "markdown",
      "metadata": {
        "id": "Fi_O0SHIErjF"
      },
      "source": [
        "# Load data"
      ]
    },
    {
      "cell_type": "code",
      "metadata": {
        "id": "yKnmLvU3uUFG"
      },
      "source": [
        "source_df = pd.read_csv(\"/content/drive/MyDrive/PhD_Data/Synth_Pop/Analysis/Source_Files/Maharashtra_IHDS_2011-12.csv\")"
      ],
      "execution_count": null,
      "outputs": []
    },
    {
      "cell_type": "code",
      "metadata": {
        "id": "9zWDGuh2GzvG"
      },
      "source": [
        "# df = pd.read_csv(\"Mumbai_Synthpop_v1_2.csv\", delimiter=',', skiprows=0, low_memory=False)\n",
        "df = pd.read_csv(\"./checkpoints/Mumbai_Synthpop_2021_05_25-10:59:19_PM\", delimiter=',', skiprows=0, low_memory=False)\n",
        "\n",
        "#Takes around 1 min 36 sec sec for Mumbai"
      ],
      "execution_count": null,
      "outputs": []
    },
    {
      "cell_type": "code",
      "metadata": {
        "id": "Fszb7SBIpih2"
      },
      "source": [
        "# sample_df = pd.read_csv(\"Mumbai_Synthetic_v1_Sample_10k.csv\", delimiter=',', skiprows=0, low_memory=False)"
      ],
      "execution_count": null,
      "outputs": []
    },
    {
      "cell_type": "code",
      "metadata": {
        "colab": {
          "base_uri": "https://localhost:8080/"
        },
        "id": "jjVb3qi1EqmW",
        "outputId": "2378ba55-ae95-4e2d-dbf2-befb042928c2"
      },
      "source": [
        "# source_df.info()\n",
        "# sample_df.info()\n",
        "df.info()"
      ],
      "execution_count": null,
      "outputs": [
        {
          "output_type": "stream",
          "text": [
            "<class 'pandas.core.frame.DataFrame'>\n",
            "RangeIndex: 12439611 entries, 0 to 12439610\n",
            "Data columns (total 44 columns):\n",
            " #   Column                     Dtype  \n",
            "---  ------                     -----  \n",
            " 0   Age                        int64  \n",
            " 1   Height                     float64\n",
            " 2   Weight                     float64\n",
            " 3   PSUID                      int64  \n",
            " 4   M_Fever                    int64  \n",
            " 5   M_Cough                    int64  \n",
            " 6   M_Diarrhea                 int64  \n",
            " 7   M_Cataract                 int64  \n",
            " 8   M_TB                       int64  \n",
            " 9   M_High_BP                  int64  \n",
            " 10  M_Heart_disease            int64  \n",
            " 11  M_Diabetes                 int64  \n",
            " 12  M_Leprosy                  int64  \n",
            " 13  M_Cancer                   int64  \n",
            " 14  M_Asthma                   int64  \n",
            " 15  M_Polio                    int64  \n",
            " 16  M_Paralysis                int64  \n",
            " 17  M_Epilepsy                 int64  \n",
            " 18  SexLabel                   object \n",
            " 19  StateLabel                 object \n",
            " 20  Religion                   object \n",
            " 21  Caste                      object \n",
            " 22  District                   object \n",
            " 23  JobLabel                   object \n",
            " 24  JobID                      int64  \n",
            " 25  essential_worker           int64  \n",
            " 26  PublicTransport_Jobs       int64  \n",
            " 27  AdminUnitName              object \n",
            " 28  AdminUnitLatitude          float64\n",
            " 29  AdminUnitLongitude         float64\n",
            " 30  H_Lat                      float64\n",
            " 31  H_Lon                      float64\n",
            " 32  HHID                       int64  \n",
            " 33  Agent_ID                   int64  \n",
            " 34  WorkPlaceID                int64  \n",
            " 35  W_Lat                      float64\n",
            " 36  W_Lon                      float64\n",
            " 37  school_id                  int64  \n",
            " 38  school_lat                 float64\n",
            " 39  school_long                float64\n",
            " 40  public_place_id            int64  \n",
            " 41  public_place_lat           float64\n",
            " 42  public_place_long          float64\n",
            " 43  Adherence_to_Intervention  float64\n",
            "dtypes: float64(13), int64(24), object(7)\n",
            "memory usage: 4.1+ GB\n"
          ],
          "name": "stdout"
        }
      ]
    },
    {
      "cell_type": "code",
      "metadata": {
        "id": "T5fPdcI6pqLp"
      },
      "source": [
        "pop_size = df.shape[0]"
      ],
      "execution_count": null,
      "outputs": []
    },
    {
      "cell_type": "markdown",
      "metadata": {
        "id": "gk71BoUGUI8C"
      },
      "source": [
        "# Splittign HHID for keeping sizes reasonable: special case for Mumbai"
      ]
    },
    {
      "cell_type": "code",
      "metadata": {
        "id": "zCncjvztO3Nj"
      },
      "source": [
        "df.sort_values(by='HHID', kind='mergesort', inplace=True)\n",
        "max_hid = max(df['HHID'])+1\n",
        "df['HHID'] = pd.concat([df['HHID'].apply(lambda x : max_hid+x).iloc[::2], df['HHID'].iloc[1::2]])"
      ],
      "execution_count": null,
      "outputs": []
    },
    {
      "cell_type": "code",
      "metadata": {
        "colab": {
          "base_uri": "https://localhost:8080/",
          "height": 289
        },
        "id": "6PMuAF_aPdSp",
        "outputId": "80aee6cb-fb80-4850-8c36-037cc47c076b"
      },
      "source": [
        "# df[['HHID','Age','SexLabel']][-50:]\n",
        "\n",
        "df[df['HHID'] == 51902752521]"
      ],
      "execution_count": null,
      "outputs": [
        {
          "output_type": "execute_result",
          "data": {
            "text/html": [
              "<div>\n",
              "<style scoped>\n",
              "    .dataframe tbody tr th:only-of-type {\n",
              "        vertical-align: middle;\n",
              "    }\n",
              "\n",
              "    .dataframe tbody tr th {\n",
              "        vertical-align: top;\n",
              "    }\n",
              "\n",
              "    .dataframe thead th {\n",
              "        text-align: right;\n",
              "    }\n",
              "</style>\n",
              "<table border=\"1\" class=\"dataframe\">\n",
              "  <thead>\n",
              "    <tr style=\"text-align: right;\">\n",
              "      <th></th>\n",
              "      <th>SexLabel</th>\n",
              "      <th>Age</th>\n",
              "      <th>Religion</th>\n",
              "      <th>Caste</th>\n",
              "      <th>HHID</th>\n",
              "      <th>H_Lat</th>\n",
              "      <th>H_Lon</th>\n",
              "      <th>AdminUnitName</th>\n",
              "      <th>AdminUnitLatitude</th>\n",
              "      <th>AdminUnitLongitude</th>\n",
              "      <th>JobLabel</th>\n",
              "      <th>JobID</th>\n",
              "      <th>essential_worker</th>\n",
              "      <th>PublicTransport_Jobs</th>\n",
              "      <th>Adherence_to_Intervention</th>\n",
              "      <th>WorksAtSameCategory</th>\n",
              "      <th>WorkPlaceID</th>\n",
              "      <th>W_Lat</th>\n",
              "      <th>W_Lon</th>\n",
              "      <th>school_id</th>\n",
              "      <th>school_lat</th>\n",
              "      <th>school_long</th>\n",
              "      <th>public_place_id</th>\n",
              "      <th>public_place_lat</th>\n",
              "      <th>public_place_long</th>\n",
              "      <th>StateLabel</th>\n",
              "      <th>PSUID</th>\n",
              "      <th>Agent_ID</th>\n",
              "      <th>District</th>\n",
              "      <th>M_Fever</th>\n",
              "      <th>M_Cough</th>\n",
              "      <th>M_Diarrhea</th>\n",
              "      <th>M_Cataract</th>\n",
              "      <th>M_TB</th>\n",
              "      <th>M_High_BP</th>\n",
              "      <th>M_Heart_disease</th>\n",
              "      <th>M_Diabetes</th>\n",
              "      <th>M_Leprosy</th>\n",
              "      <th>M_Cancer</th>\n",
              "      <th>M_Asthma</th>\n",
              "      <th>M_Polio</th>\n",
              "      <th>M_Paralysis</th>\n",
              "      <th>M_Epilepsy</th>\n",
              "      <th>Weight</th>\n",
              "      <th>Height</th>\n",
              "    </tr>\n",
              "  </thead>\n",
              "  <tbody>\n",
              "    <tr>\n",
              "      <th>2138387</th>\n",
              "      <td>Male</td>\n",
              "      <td>36</td>\n",
              "      <td>buddhist</td>\n",
              "      <td>SC</td>\n",
              "      <td>51902752521</td>\n",
              "      <td>18.97554</td>\n",
              "      <td>72.85008</td>\n",
              "      <td>E</td>\n",
              "      <td>18.971878</td>\n",
              "      <td>72.831327</td>\n",
              "      <td>Construction</td>\n",
              "      <td>95</td>\n",
              "      <td>0</td>\n",
              "      <td>1</td>\n",
              "      <td>0.0</td>\n",
              "      <td>True</td>\n",
              "      <td>2001000016072</td>\n",
              "      <td>18.98617</td>\n",
              "      <td>72.84597</td>\n",
              "      <td>0</td>\n",
              "      <td>NaN</td>\n",
              "      <td>NaN</td>\n",
              "      <td>3001000004360</td>\n",
              "      <td>19.10716</td>\n",
              "      <td>72.92555</td>\n",
              "      <td>Maharashtra</td>\n",
              "      <td>10</td>\n",
              "      <td>5.190214e+10</td>\n",
              "      <td>Mumbai</td>\n",
              "      <td>0</td>\n",
              "      <td>0</td>\n",
              "      <td>0</td>\n",
              "      <td>0</td>\n",
              "      <td>0</td>\n",
              "      <td>0</td>\n",
              "      <td>0</td>\n",
              "      <td>0</td>\n",
              "      <td>0</td>\n",
              "      <td>0</td>\n",
              "      <td>0</td>\n",
              "      <td>0</td>\n",
              "      <td>0</td>\n",
              "      <td>0.0</td>\n",
              "      <td>57.96</td>\n",
              "      <td>161.55</td>\n",
              "    </tr>\n",
              "    <tr>\n",
              "      <th>2138389</th>\n",
              "      <td>Female</td>\n",
              "      <td>37</td>\n",
              "      <td>buddhist</td>\n",
              "      <td>SC</td>\n",
              "      <td>51902752521</td>\n",
              "      <td>18.97554</td>\n",
              "      <td>72.85008</td>\n",
              "      <td>E</td>\n",
              "      <td>18.971878</td>\n",
              "      <td>72.831327</td>\n",
              "      <td>Homebound</td>\n",
              "      <td>156</td>\n",
              "      <td>0</td>\n",
              "      <td>1</td>\n",
              "      <td>0.0</td>\n",
              "      <td>True</td>\n",
              "      <td>0</td>\n",
              "      <td>NaN</td>\n",
              "      <td>NaN</td>\n",
              "      <td>0</td>\n",
              "      <td>NaN</td>\n",
              "      <td>NaN</td>\n",
              "      <td>3001000001090</td>\n",
              "      <td>19.05975</td>\n",
              "      <td>72.83491</td>\n",
              "      <td>Maharashtra</td>\n",
              "      <td>1</td>\n",
              "      <td>5.190214e+10</td>\n",
              "      <td>Mumbai</td>\n",
              "      <td>0</td>\n",
              "      <td>0</td>\n",
              "      <td>0</td>\n",
              "      <td>0</td>\n",
              "      <td>0</td>\n",
              "      <td>0</td>\n",
              "      <td>0</td>\n",
              "      <td>0</td>\n",
              "      <td>0</td>\n",
              "      <td>0</td>\n",
              "      <td>0</td>\n",
              "      <td>0</td>\n",
              "      <td>0</td>\n",
              "      <td>0.0</td>\n",
              "      <td>52.93</td>\n",
              "      <td>152.29</td>\n",
              "    </tr>\n",
              "    <tr>\n",
              "      <th>2138391</th>\n",
              "      <td>Male</td>\n",
              "      <td>71</td>\n",
              "      <td>buddhist</td>\n",
              "      <td>SC</td>\n",
              "      <td>51902752521</td>\n",
              "      <td>18.97554</td>\n",
              "      <td>72.85008</td>\n",
              "      <td>E</td>\n",
              "      <td>18.971878</td>\n",
              "      <td>72.831327</td>\n",
              "      <td>Ag labour</td>\n",
              "      <td>63</td>\n",
              "      <td>0</td>\n",
              "      <td>1</td>\n",
              "      <td>1.0</td>\n",
              "      <td>True</td>\n",
              "      <td>2001000042965</td>\n",
              "      <td>19.08593</td>\n",
              "      <td>72.88035</td>\n",
              "      <td>0</td>\n",
              "      <td>NaN</td>\n",
              "      <td>NaN</td>\n",
              "      <td>3001000000139</td>\n",
              "      <td>19.05610</td>\n",
              "      <td>72.89174</td>\n",
              "      <td>Maharashtra</td>\n",
              "      <td>14</td>\n",
              "      <td>5.190214e+10</td>\n",
              "      <td>Mumbai</td>\n",
              "      <td>0</td>\n",
              "      <td>0</td>\n",
              "      <td>0</td>\n",
              "      <td>0</td>\n",
              "      <td>0</td>\n",
              "      <td>0</td>\n",
              "      <td>0</td>\n",
              "      <td>0</td>\n",
              "      <td>0</td>\n",
              "      <td>0</td>\n",
              "      <td>0</td>\n",
              "      <td>0</td>\n",
              "      <td>0</td>\n",
              "      <td>0.0</td>\n",
              "      <td>55.30</td>\n",
              "      <td>160.68</td>\n",
              "    </tr>\n",
              "    <tr>\n",
              "      <th>2138393</th>\n",
              "      <td>Female</td>\n",
              "      <td>57</td>\n",
              "      <td>buddhist</td>\n",
              "      <td>SC</td>\n",
              "      <td>51902752521</td>\n",
              "      <td>18.97554</td>\n",
              "      <td>72.85008</td>\n",
              "      <td>E</td>\n",
              "      <td>18.971878</td>\n",
              "      <td>72.831327</td>\n",
              "      <td>Homebound</td>\n",
              "      <td>156</td>\n",
              "      <td>0</td>\n",
              "      <td>1</td>\n",
              "      <td>0.9</td>\n",
              "      <td>True</td>\n",
              "      <td>0</td>\n",
              "      <td>NaN</td>\n",
              "      <td>NaN</td>\n",
              "      <td>0</td>\n",
              "      <td>NaN</td>\n",
              "      <td>NaN</td>\n",
              "      <td>3001000003535</td>\n",
              "      <td>18.96449</td>\n",
              "      <td>72.84238</td>\n",
              "      <td>Maharashtra</td>\n",
              "      <td>6</td>\n",
              "      <td>5.190214e+10</td>\n",
              "      <td>Mumbai</td>\n",
              "      <td>0</td>\n",
              "      <td>0</td>\n",
              "      <td>0</td>\n",
              "      <td>0</td>\n",
              "      <td>0</td>\n",
              "      <td>0</td>\n",
              "      <td>0</td>\n",
              "      <td>0</td>\n",
              "      <td>0</td>\n",
              "      <td>0</td>\n",
              "      <td>0</td>\n",
              "      <td>0</td>\n",
              "      <td>0</td>\n",
              "      <td>0.0</td>\n",
              "      <td>51.22</td>\n",
              "      <td>153.23</td>\n",
              "    </tr>\n",
              "    <tr>\n",
              "      <th>9788729</th>\n",
              "      <td>Female</td>\n",
              "      <td>15</td>\n",
              "      <td>buddhist</td>\n",
              "      <td>SC</td>\n",
              "      <td>51902752521</td>\n",
              "      <td>18.97554</td>\n",
              "      <td>72.85008</td>\n",
              "      <td>E</td>\n",
              "      <td>18.971878</td>\n",
              "      <td>72.831327</td>\n",
              "      <td>Student</td>\n",
              "      <td>199</td>\n",
              "      <td>0</td>\n",
              "      <td>1</td>\n",
              "      <td>0.4</td>\n",
              "      <td>NaN</td>\n",
              "      <td>0</td>\n",
              "      <td>NaN</td>\n",
              "      <td>NaN</td>\n",
              "      <td>2001000041277</td>\n",
              "      <td>19.19726</td>\n",
              "      <td>72.85300</td>\n",
              "      <td>3001000003857</td>\n",
              "      <td>18.98184</td>\n",
              "      <td>72.82470</td>\n",
              "      <td>Maharashtra</td>\n",
              "      <td>1</td>\n",
              "      <td>NaN</td>\n",
              "      <td>Mumbai</td>\n",
              "      <td>0</td>\n",
              "      <td>0</td>\n",
              "      <td>0</td>\n",
              "      <td>0</td>\n",
              "      <td>0</td>\n",
              "      <td>0</td>\n",
              "      <td>0</td>\n",
              "      <td>0</td>\n",
              "      <td>0</td>\n",
              "      <td>0</td>\n",
              "      <td>0</td>\n",
              "      <td>0</td>\n",
              "      <td>0</td>\n",
              "      <td>NaN</td>\n",
              "      <td>39.70</td>\n",
              "      <td>142.11</td>\n",
              "    </tr>\n",
              "    <tr>\n",
              "      <th>9788731</th>\n",
              "      <td>Male</td>\n",
              "      <td>13</td>\n",
              "      <td>buddhist</td>\n",
              "      <td>SC</td>\n",
              "      <td>51902752521</td>\n",
              "      <td>18.97554</td>\n",
              "      <td>72.85008</td>\n",
              "      <td>E</td>\n",
              "      <td>18.971878</td>\n",
              "      <td>72.831327</td>\n",
              "      <td>Student</td>\n",
              "      <td>199</td>\n",
              "      <td>0</td>\n",
              "      <td>1</td>\n",
              "      <td>0.8</td>\n",
              "      <td>NaN</td>\n",
              "      <td>0</td>\n",
              "      <td>NaN</td>\n",
              "      <td>NaN</td>\n",
              "      <td>2001000028187</td>\n",
              "      <td>19.02724</td>\n",
              "      <td>72.89949</td>\n",
              "      <td>3001000003432</td>\n",
              "      <td>19.20736</td>\n",
              "      <td>72.84609</td>\n",
              "      <td>Maharashtra</td>\n",
              "      <td>19</td>\n",
              "      <td>NaN</td>\n",
              "      <td>Mumbai</td>\n",
              "      <td>0</td>\n",
              "      <td>0</td>\n",
              "      <td>0</td>\n",
              "      <td>0</td>\n",
              "      <td>0</td>\n",
              "      <td>0</td>\n",
              "      <td>0</td>\n",
              "      <td>0</td>\n",
              "      <td>0</td>\n",
              "      <td>0</td>\n",
              "      <td>0</td>\n",
              "      <td>0</td>\n",
              "      <td>0</td>\n",
              "      <td>NaN</td>\n",
              "      <td>39.47</td>\n",
              "      <td>147.57</td>\n",
              "    </tr>\n",
              "    <tr>\n",
              "      <th>9788733</th>\n",
              "      <td>Female</td>\n",
              "      <td>4</td>\n",
              "      <td>buddhist</td>\n",
              "      <td>SC</td>\n",
              "      <td>51902752521</td>\n",
              "      <td>18.97554</td>\n",
              "      <td>72.85008</td>\n",
              "      <td>E</td>\n",
              "      <td>18.971878</td>\n",
              "      <td>72.831327</td>\n",
              "      <td>Student</td>\n",
              "      <td>199</td>\n",
              "      <td>0</td>\n",
              "      <td>1</td>\n",
              "      <td>1.0</td>\n",
              "      <td>NaN</td>\n",
              "      <td>0</td>\n",
              "      <td>NaN</td>\n",
              "      <td>NaN</td>\n",
              "      <td>2001000008011</td>\n",
              "      <td>19.18139</td>\n",
              "      <td>72.85885</td>\n",
              "      <td>3001000003647</td>\n",
              "      <td>19.14335</td>\n",
              "      <td>72.94984</td>\n",
              "      <td>Maharashtra</td>\n",
              "      <td>19</td>\n",
              "      <td>NaN</td>\n",
              "      <td>Mumbai</td>\n",
              "      <td>0</td>\n",
              "      <td>0</td>\n",
              "      <td>0</td>\n",
              "      <td>0</td>\n",
              "      <td>0</td>\n",
              "      <td>0</td>\n",
              "      <td>0</td>\n",
              "      <td>0</td>\n",
              "      <td>0</td>\n",
              "      <td>0</td>\n",
              "      <td>0</td>\n",
              "      <td>0</td>\n",
              "      <td>0</td>\n",
              "      <td>NaN</td>\n",
              "      <td>13.32</td>\n",
              "      <td>85.05</td>\n",
              "    </tr>\n",
              "  </tbody>\n",
              "</table>\n",
              "</div>"
            ],
            "text/plain": [
              "        SexLabel  Age  Religion Caste  ...  M_Paralysis  M_Epilepsy  Weight  Height\n",
              "2138387     Male   36  buddhist    SC  ...            0         0.0   57.96  161.55\n",
              "2138389   Female   37  buddhist    SC  ...            0         0.0   52.93  152.29\n",
              "2138391     Male   71  buddhist    SC  ...            0         0.0   55.30  160.68\n",
              "2138393   Female   57  buddhist    SC  ...            0         0.0   51.22  153.23\n",
              "9788729   Female   15  buddhist    SC  ...            0         NaN   39.70  142.11\n",
              "9788731     Male   13  buddhist    SC  ...            0         NaN   39.47  147.57\n",
              "9788733   Female    4  buddhist    SC  ...            0         NaN   13.32   85.05\n",
              "\n",
              "[7 rows x 45 columns]"
            ]
          },
          "metadata": {
            "tags": []
          },
          "execution_count": 12
        }
      ]
    },
    {
      "cell_type": "code",
      "metadata": {
        "colab": {
          "base_uri": "https://localhost:8080/"
        },
        "id": "K8aSYtKdw_kl",
        "outputId": "00ddd82f-c5d9-42dc-8b4f-e0023d3353e7"
      },
      "source": [
        "df.info()"
      ],
      "execution_count": null,
      "outputs": [
        {
          "output_type": "stream",
          "text": [
            "<class 'pandas.core.frame.DataFrame'>\n",
            "Int64Index: 12439611 entries, 8313125 to 2049036\n",
            "Data columns (total 45 columns):\n",
            " #   Column                     Dtype  \n",
            "---  ------                     -----  \n",
            " 0   SexLabel                   object \n",
            " 1   Age                        int64  \n",
            " 2   Religion                   object \n",
            " 3   Caste                      object \n",
            " 4   HHID                       int64  \n",
            " 5   H_Lat                      float64\n",
            " 6   H_Lon                      float64\n",
            " 7   AdminUnitName              object \n",
            " 8   AdminUnitLatitude          float64\n",
            " 9   AdminUnitLongitude         float64\n",
            " 10  JobLabel                   object \n",
            " 11  JobID                      int64  \n",
            " 12  essential_worker           int64  \n",
            " 13  PublicTransport_Jobs       int64  \n",
            " 14  Adherence_to_Intervention  float64\n",
            " 15  WorksAtSameCategory        object \n",
            " 16  WorkPlaceID                int64  \n",
            " 17  W_Lat                      float64\n",
            " 18  W_Lon                      float64\n",
            " 19  school_id                  int64  \n",
            " 20  school_lat                 float64\n",
            " 21  school_long                float64\n",
            " 22  public_place_id            int64  \n",
            " 23  public_place_lat           float64\n",
            " 24  public_place_long          float64\n",
            " 25  StateLabel                 object \n",
            " 26  PSUID                      int64  \n",
            " 27  Agent_ID                   int64  \n",
            " 28  District                   object \n",
            " 29  M_Fever                    int64  \n",
            " 30  M_Cough                    int64  \n",
            " 31  M_Diarrhea                 int64  \n",
            " 32  M_Cataract                 int64  \n",
            " 33  M_TB                       int64  \n",
            " 34  M_High_BP                  int64  \n",
            " 35  M_Heart_disease            int64  \n",
            " 36  M_Diabetes                 int64  \n",
            " 37  M_Leprosy                  int64  \n",
            " 38  M_Cancer                   int64  \n",
            " 39  M_Asthma                   int64  \n",
            " 40  M_Polio                    int64  \n",
            " 41  M_Paralysis                int64  \n",
            " 42  M_Epilepsy                 int64  \n",
            " 43  Weight                     float64\n",
            " 44  Height                     float64\n",
            "dtypes: float64(13), int64(24), object(8)\n",
            "memory usage: 4.6+ GB\n"
          ],
          "name": "stdout"
        }
      ]
    },
    {
      "cell_type": "markdown",
      "metadata": {
        "id": "d0Hrm9Bk5p1l"
      },
      "source": [
        "# Rename Columns"
      ]
    },
    {
      "cell_type": "code",
      "metadata": {
        "id": "KarJzRHhx4s_"
      },
      "source": [
        "df.rename(columns={'age': 'Age', 'gender': 'SexLabel'}, inplace=True)\n",
        "df.rename(columns={'religion': 'Religion', 'caste': 'Caste'}, inplace=True)\n",
        "df.rename(columns={'district': 'District', 'household_id': 'HHID'}, inplace=True)"
      ],
      "execution_count": null,
      "outputs": []
    },
    {
      "cell_type": "markdown",
      "metadata": {
        "id": "1eaLSdch5vDq"
      },
      "source": [
        "# Delete Columns"
      ]
    },
    {
      "cell_type": "code",
      "metadata": {
        "id": "uQ4Q0oWlzFO6"
      },
      "source": [
        "# del df['Unnamed: 0']\n",
        "# del df['literacy']\n",
        "\n",
        "# del df['residence'] \n",
        "\n",
        "# del df['geog'] \n",
        "# del df['working']\n",
        "\n",
        "# del df['WorksAtSameCategory']"
      ],
      "execution_count": null,
      "outputs": []
    },
    {
      "cell_type": "markdown",
      "metadata": {
        "id": "BZ-t4Gyb5zwc"
      },
      "source": [
        "# Add Columns"
      ]
    },
    {
      "cell_type": "code",
      "metadata": {
        "id": "zHzy7fVB0oqr"
      },
      "source": [
        "df['StateLabel']='Maharashtra'"
      ],
      "execution_count": null,
      "outputs": []
    },
    {
      "cell_type": "code",
      "metadata": {
        "id": "PIGXWoZU7RfA"
      },
      "source": [
        "# Add PSUID column\n",
        "\n",
        "df['PSUID'] = pd.Series(np.random.randint(1, 24, size=pop_size))"
      ],
      "execution_count": null,
      "outputs": []
    },
    {
      "cell_type": "code",
      "metadata": {
        "id": "aqSGJxCE1vOj"
      },
      "source": [
        "df['Agent_ID'] = pd.Series(range(0, pop_size, 1)) + 51900000000\n",
        "\n",
        "# df['District'] = 'Mumbai'"
      ],
      "execution_count": null,
      "outputs": []
    },
    {
      "cell_type": "markdown",
      "metadata": {
        "id": "WMEd9zxc5-qU"
      },
      "source": [
        "#Update Column"
      ]
    },
    {
      "cell_type": "code",
      "metadata": {
        "id": "GG9NpfF0590T"
      },
      "source": [
        "df['HHID'] = df['HHID'] + 51900000000   # First 3 digits is District Code: Pune- 998, Mumbai- 519"
      ],
      "execution_count": null,
      "outputs": []
    },
    {
      "cell_type": "markdown",
      "metadata": {
        "id": "fSDurOMc5OqM"
      },
      "source": [
        "#Adding Co-Morbs"
      ]
    },
    {
      "cell_type": "code",
      "metadata": {
        "colab": {
          "base_uri": "https://localhost:8080/"
        },
        "id": "4Fi3iLiw3pXG",
        "outputId": "3b70e959-3a37-4188-89c7-a8baa7480fc3"
      },
      "source": [
        "# Add comorbs in the same proportion as in source- Maharashtra in IHDS-II\n",
        "\n",
        "# Takes around 34 sec\n",
        "\n",
        "'''\n",
        "var = source_df.groupby(['M_Fever']).agg({'M_Fever': ['count']}).apply(lambda x: x/x.sum())\n",
        "df['M_Fever'] = pd.Series(var['M_Fever'].sample(n=pop_size,weights=\"count\",replace=True).index)\n",
        "\n",
        "print(source_df.groupby(['M_Fever']).agg({'M_Fever': ['count']}).apply(lambda x: x/x.sum()))\n",
        "print(df.groupby(['M_Fever']).agg({'M_Fever': ['count']}).apply(lambda x: x/x.sum()))\n",
        "\n",
        "\n",
        "var = source_df.groupby(['M_Cough']).agg({'M_Cough': ['count']}).apply(lambda x: x/x.sum())\n",
        "df['M_Cough'] = pd.Series(var['M_Cough'].sample(n=pop_size,weights=\"count\",replace=True).index)\n",
        "\n",
        "print(source_df.groupby(['M_Cough']).agg({'M_Cough': ['count']}).apply(lambda x: x/x.sum()))\n",
        "print(df.groupby(['M_Cough']).agg({'M_Cough': ['count']}).apply(lambda x: x/x.sum()))\n",
        "\n",
        "var = source_df.groupby(['M_Diarrhea']).agg({'M_Diarrhea': ['count']}).apply(lambda x: x/x.sum())\n",
        "df['M_Diarrhea'] = pd.Series(var['M_Diarrhea'].sample(n=pop_size,weights=\"count\",replace=True).index)\n",
        "\n",
        "print(source_df.groupby(['M_Diarrhea']).agg({'M_Diarrhea': ['count']}).apply(lambda x: x/x.sum()))\n",
        "print(df.groupby(['M_Diarrhea']).agg({'M_Diarrhea': ['count']}).apply(lambda x: x/x.sum()))\n",
        "\n",
        "var = source_df.groupby(['M_Cataract']).agg({'M_Cataract': ['count']}).apply(lambda x: x/x.sum())\n",
        "df['M_Cataract'] = pd.Series(var['M_Cataract'].sample(n=pop_size,weights=\"count\",replace=True).index)\n",
        "\n",
        "print(source_df.groupby(['M_Cataract']).agg({'M_Cataract': ['count']}).apply(lambda x: x/x.sum()))\n",
        "print(df.groupby(['M_Cataract']).agg({'M_Cataract': ['count']}).apply(lambda x: x/x.sum()))\n",
        "\n",
        "var = source_df.groupby(['M_TB']).agg({'M_TB': ['count']}).apply(lambda x: x/x.sum())\n",
        "df['M_TB'] = pd.Series(var['M_TB'].sample(n=pop_size,weights=\"count\",replace=True).index)\n",
        "\n",
        "print(source_df.groupby(['M_TB']).agg({'M_TB': ['count']}).apply(lambda x: x/x.sum()))\n",
        "print(df.groupby(['M_TB']).agg({'M_TB': ['count']}).apply(lambda x: x/x.sum()))\n",
        "\n",
        "var = source_df.groupby(['M_High_BP']).agg({'M_High_BP': ['count']}).apply(lambda x: x/x.sum())\n",
        "df['M_High_BP'] = pd.Series(var['M_High_BP'].sample(n=pop_size,weights=\"count\",replace=True).index)\n",
        "\n",
        "print(source_df.groupby(['M_High_BP']).agg({'M_High_BP': ['count']}).apply(lambda x: x/x.sum()))\n",
        "print(df.groupby(['M_High_BP']).agg({'M_High_BP': ['count']}).apply(lambda x: x/x.sum()))\n",
        "\n",
        "var = source_df.groupby(['M_Heart_disease']).agg({'M_Heart_disease': ['count']}).apply(lambda x: x/x.sum())\n",
        "df['M_Heart_disease'] = pd.Series(var['M_Heart_disease'].sample(n=pop_size,weights=\"count\",replace=True).index)\n",
        "\n",
        "print(source_df.groupby(['M_Heart_disease']).agg({'M_Heart_disease': ['count']}).apply(lambda x: x/x.sum()))\n",
        "print(df.groupby(['M_Heart_disease']).agg({'M_Heart_disease': ['count']}).apply(lambda x: x/x.sum()))\n",
        "\n",
        "\n",
        "var = source_df.groupby(['M_Diabetes']).agg({'M_Diabetes': ['count']}).apply(lambda x: x/x.sum())\n",
        "df['M_Diabetes'] = pd.Series(var['M_Diabetes'].sample(n=pop_size,weights=\"count\",replace=True).index)\n",
        "\n",
        "print(source_df.groupby(['M_Diabetes']).agg({'M_Diabetes': ['count']}).apply(lambda x: x/x.sum()))\n",
        "print(df.groupby(['M_Diabetes']).agg({'M_Diabetes': ['count']}).apply(lambda x: x/x.sum()))\n",
        "\n",
        "var = source_df.groupby(['M_Leprosy']).agg({'M_Leprosy': ['count']}).apply(lambda x: x/x.sum())\n",
        "df['M_Leprosy'] = pd.Series(var['M_Leprosy'].sample(n=pop_size,weights=\"count\",replace=True).index)\n",
        "\n",
        "print(source_df.groupby(['M_Leprosy']).agg({'M_Leprosy': ['count']}).apply(lambda x: x/x.sum()))\n",
        "print(df.groupby(['M_Leprosy']).agg({'M_Leprosy': ['count']}).apply(lambda x: x/x.sum()))\n",
        "\n",
        "var = source_df.groupby(['M_Cancer']).agg({'M_Cancer': ['count']}).apply(lambda x: x/x.sum())\n",
        "df['M_Cancer'] = pd.Series(var['M_Cancer'].sample(n=pop_size,weights=\"count\",replace=True).index)\n",
        "\n",
        "print(source_df.groupby(['M_Cancer']).agg({'M_Cancer': ['count']}).apply(lambda x: x/x.sum()))\n",
        "print(df.groupby(['M_Cancer']).agg({'M_Cancer': ['count']}).apply(lambda x: x/x.sum()))\n",
        "\n",
        "var = source_df.groupby(['M_Asthma']).agg({'M_Asthma': ['count']}).apply(lambda x: x/x.sum())\n",
        "df['M_Asthma'] = pd.Series(var['M_Asthma'].sample(n=pop_size,weights=\"count\",replace=True).index)\n",
        "\n",
        "print(source_df.groupby(['M_Asthma']).agg({'M_Asthma': ['count']}).apply(lambda x: x/x.sum()))\n",
        "print(df.groupby(['M_Asthma']).agg({'M_Asthma': ['count']}).apply(lambda x: x/x.sum()))\n",
        "\n",
        "var = source_df.groupby(['M_Polio']).agg({'M_Polio': ['count']}).apply(lambda x: x/x.sum())\n",
        "df['M_Polio'] = pd.Series(var['M_Polio'].sample(n=pop_size,weights=\"count\",replace=True).index)\n",
        "\n",
        "print(source_df.groupby(['M_Polio']).agg({'M_Polio': ['count']}).apply(lambda x: x/x.sum()))\n",
        "print(df.groupby(['M_Polio']).agg({'M_Polio': ['count']}).apply(lambda x: x/x.sum()))\n",
        "\n",
        "var = source_df.groupby(['M_Paralysis']).agg({'M_Paralysis': ['count']}).apply(lambda x: x/x.sum())\n",
        "df['M_Paralysis'] = pd.Series(var['M_Paralysis'].sample(n=pop_size,weights=\"count\",replace=True).index)\n",
        "\n",
        "print(source_df.groupby(['M_Paralysis']).agg({'M_Paralysis': ['count']}).apply(lambda x: x/x.sum()))\n",
        "print(df.groupby(['M_Paralysis']).agg({'M_Paralysis': ['count']}).apply(lambda x: x/x.sum()))\n",
        "\n",
        "'''\n",
        "var = source_df.groupby(['M_Epilepsy']).agg({'M_Epilepsy': ['count']}).apply(lambda x: x/x.sum())\n",
        "df['M_Epilepsy'] = pd.Series(var['M_Epilepsy'].sample(n=pop_size,weights=\"count\",replace=True).index)\n",
        "\n",
        "print(source_df.groupby(['M_Epilepsy']).agg({'M_Epilepsy': ['count']}).apply(lambda x: x/x.sum()))\n",
        "print(df.groupby(['M_Epilepsy']).agg({'M_Epilepsy': ['count']}).apply(lambda x: x/x.sum()))\n"
      ],
      "execution_count": null,
      "outputs": [
        {
          "output_type": "stream",
          "text": [
            "           M_Epilepsy\n",
            "                count\n",
            "M_Epilepsy           \n",
            "Cured        0.001801\n",
            "No           0.982529\n",
            "Yes          0.015670\n",
            "           M_Epilepsy\n",
            "                count\n",
            "M_Epilepsy           \n",
            "Cured        0.001810\n",
            "No           0.982509\n",
            "Yes          0.015681\n"
          ],
          "name": "stdout"
        }
      ]
    },
    {
      "cell_type": "markdown",
      "metadata": {
        "id": "QuL7R4345YqE"
      },
      "source": [
        "# Update Religion value to Capital case (hindu --> Hindu)"
      ]
    },
    {
      "cell_type": "code",
      "metadata": {
        "id": "CMfkc-3iMXM-"
      },
      "source": [
        "df['Religion'] = df['Religion'].replace(['christian'], 'Christian')\n",
        "df['Religion'] = df['Religion'].replace(['hindu'], 'Hindu')\n",
        "df['Religion'] = df['Religion'].replace(['jain'], 'Jain')\n",
        "df['Religion'] = df['Religion'].replace(['muslim'], 'Muslim')\n",
        "df['Religion'] = df['Religion'].replace(['sikh'], 'Sikh')"
      ],
      "execution_count": null,
      "outputs": []
    },
    {
      "cell_type": "markdown",
      "metadata": {
        "id": "adwuoteh6TWj"
      },
      "source": [
        "#Update SexLabel value to Capital case (male --> Male)"
      ]
    },
    {
      "cell_type": "code",
      "metadata": {
        "id": "lDGj9wcbDuEk"
      },
      "source": [
        "df['SexLabel'] = df['SexLabel'].replace(['male'], 'Male')\n",
        "df['SexLabel'] = df['SexLabel'].replace(['female'], 'Female')"
      ],
      "execution_count": null,
      "outputs": []
    },
    {
      "cell_type": "code",
      "metadata": {
        "colab": {
          "base_uri": "https://localhost:8080/",
          "height": 226
        },
        "id": "Y4qqVT0H67oq",
        "outputId": "08cc3bc3-dc53-426e-880d-19f202108352"
      },
      "source": [
        "df.head()"
      ],
      "execution_count": null,
      "outputs": [
        {
          "output_type": "execute_result",
          "data": {
            "text/html": [
              "<div>\n",
              "<style scoped>\n",
              "    .dataframe tbody tr th:only-of-type {\n",
              "        vertical-align: middle;\n",
              "    }\n",
              "\n",
              "    .dataframe tbody tr th {\n",
              "        vertical-align: top;\n",
              "    }\n",
              "\n",
              "    .dataframe thead th {\n",
              "        text-align: right;\n",
              "    }\n",
              "</style>\n",
              "<table border=\"1\" class=\"dataframe\">\n",
              "  <thead>\n",
              "    <tr style=\"text-align: right;\">\n",
              "      <th></th>\n",
              "      <th>SexLabel</th>\n",
              "      <th>Age</th>\n",
              "      <th>Religion</th>\n",
              "      <th>Caste</th>\n",
              "      <th>HHID</th>\n",
              "      <th>H_Lat</th>\n",
              "      <th>H_Lon</th>\n",
              "      <th>AdminUnitName</th>\n",
              "      <th>AdminUnitLatitude</th>\n",
              "      <th>AdminUnitLongitude</th>\n",
              "      <th>JobLabel</th>\n",
              "      <th>JobID</th>\n",
              "      <th>essential_worker</th>\n",
              "      <th>PublicTransport_Jobs</th>\n",
              "      <th>Adherence_to_Intervention</th>\n",
              "      <th>WorksAtSameCategory</th>\n",
              "      <th>WorkPlaceID</th>\n",
              "      <th>W_Lat</th>\n",
              "      <th>W_Lon</th>\n",
              "      <th>school_id</th>\n",
              "      <th>school_lat</th>\n",
              "      <th>school_long</th>\n",
              "      <th>public_place_id</th>\n",
              "      <th>public_place_lat</th>\n",
              "      <th>public_place_long</th>\n",
              "      <th>StateLabel</th>\n",
              "      <th>PSUID</th>\n",
              "      <th>Agent_ID</th>\n",
              "      <th>District</th>\n",
              "      <th>M_Fever</th>\n",
              "      <th>M_Cough</th>\n",
              "      <th>M_Diarrhea</th>\n",
              "      <th>M_Cataract</th>\n",
              "      <th>M_TB</th>\n",
              "      <th>M_High_BP</th>\n",
              "      <th>M_Heart_disease</th>\n",
              "      <th>M_Diabetes</th>\n",
              "      <th>M_Leprosy</th>\n",
              "      <th>M_Cancer</th>\n",
              "      <th>M_Asthma</th>\n",
              "      <th>M_Polio</th>\n",
              "      <th>M_Paralysis</th>\n",
              "      <th>M_Epilepsy</th>\n",
              "    </tr>\n",
              "  </thead>\n",
              "  <tbody>\n",
              "    <tr>\n",
              "      <th>0</th>\n",
              "      <td>Male</td>\n",
              "      <td>41</td>\n",
              "      <td>Hindu</td>\n",
              "      <td>SC</td>\n",
              "      <td>51902097582</td>\n",
              "      <td>18.986606</td>\n",
              "      <td>72.852748</td>\n",
              "      <td>F/S</td>\n",
              "      <td>19.005878</td>\n",
              "      <td>72.839688</td>\n",
              "      <td>Ag labour</td>\n",
              "      <td>63</td>\n",
              "      <td>0</td>\n",
              "      <td>1</td>\n",
              "      <td>0.9</td>\n",
              "      <td>True</td>\n",
              "      <td>2.001000e+12</td>\n",
              "      <td>19.038877</td>\n",
              "      <td>72.881458</td>\n",
              "      <td>NaN</td>\n",
              "      <td>NaN</td>\n",
              "      <td>NaN</td>\n",
              "      <td>3001000003866</td>\n",
              "      <td>18.994719</td>\n",
              "      <td>72.859246</td>\n",
              "      <td>Maharashtra</td>\n",
              "      <td>2</td>\n",
              "      <td>5.190000e+10</td>\n",
              "      <td>Mumbai</td>\n",
              "      <td>No</td>\n",
              "      <td>No</td>\n",
              "      <td>No</td>\n",
              "      <td>No</td>\n",
              "      <td>No</td>\n",
              "      <td>No</td>\n",
              "      <td>No</td>\n",
              "      <td>No</td>\n",
              "      <td>No</td>\n",
              "      <td>No</td>\n",
              "      <td>No</td>\n",
              "      <td>No</td>\n",
              "      <td>No</td>\n",
              "      <td>Yes</td>\n",
              "    </tr>\n",
              "    <tr>\n",
              "      <th>1</th>\n",
              "      <td>Male</td>\n",
              "      <td>44</td>\n",
              "      <td>Hindu</td>\n",
              "      <td>SC</td>\n",
              "      <td>51902097582</td>\n",
              "      <td>18.986606</td>\n",
              "      <td>72.852748</td>\n",
              "      <td>F/S</td>\n",
              "      <td>19.005878</td>\n",
              "      <td>72.839688</td>\n",
              "      <td>Ag labour</td>\n",
              "      <td>63</td>\n",
              "      <td>0</td>\n",
              "      <td>1</td>\n",
              "      <td>0.9</td>\n",
              "      <td>True</td>\n",
              "      <td>2.001000e+12</td>\n",
              "      <td>19.006767</td>\n",
              "      <td>72.839661</td>\n",
              "      <td>NaN</td>\n",
              "      <td>NaN</td>\n",
              "      <td>NaN</td>\n",
              "      <td>3001000000187</td>\n",
              "      <td>19.083750</td>\n",
              "      <td>72.882348</td>\n",
              "      <td>Maharashtra</td>\n",
              "      <td>16</td>\n",
              "      <td>5.190000e+10</td>\n",
              "      <td>Mumbai</td>\n",
              "      <td>No</td>\n",
              "      <td>No</td>\n",
              "      <td>No</td>\n",
              "      <td>No</td>\n",
              "      <td>No</td>\n",
              "      <td>No</td>\n",
              "      <td>No</td>\n",
              "      <td>No</td>\n",
              "      <td>No</td>\n",
              "      <td>No</td>\n",
              "      <td>No</td>\n",
              "      <td>No</td>\n",
              "      <td>No</td>\n",
              "      <td>No</td>\n",
              "    </tr>\n",
              "    <tr>\n",
              "      <th>2</th>\n",
              "      <td>Female</td>\n",
              "      <td>39</td>\n",
              "      <td>Hindu</td>\n",
              "      <td>SC</td>\n",
              "      <td>51902097582</td>\n",
              "      <td>18.986606</td>\n",
              "      <td>72.852748</td>\n",
              "      <td>F/S</td>\n",
              "      <td>19.005878</td>\n",
              "      <td>72.839688</td>\n",
              "      <td>Loaders</td>\n",
              "      <td>97</td>\n",
              "      <td>1</td>\n",
              "      <td>1</td>\n",
              "      <td>0.0</td>\n",
              "      <td>True</td>\n",
              "      <td>2.001000e+12</td>\n",
              "      <td>19.019421</td>\n",
              "      <td>72.913071</td>\n",
              "      <td>NaN</td>\n",
              "      <td>NaN</td>\n",
              "      <td>NaN</td>\n",
              "      <td>3001000001887</td>\n",
              "      <td>19.103728</td>\n",
              "      <td>72.830115</td>\n",
              "      <td>Maharashtra</td>\n",
              "      <td>7</td>\n",
              "      <td>5.190000e+10</td>\n",
              "      <td>Mumbai</td>\n",
              "      <td>No</td>\n",
              "      <td>No</td>\n",
              "      <td>No</td>\n",
              "      <td>No</td>\n",
              "      <td>No</td>\n",
              "      <td>No</td>\n",
              "      <td>No</td>\n",
              "      <td>No</td>\n",
              "      <td>No</td>\n",
              "      <td>No</td>\n",
              "      <td>No</td>\n",
              "      <td>No</td>\n",
              "      <td>No</td>\n",
              "      <td>No</td>\n",
              "    </tr>\n",
              "    <tr>\n",
              "      <th>3</th>\n",
              "      <td>Female</td>\n",
              "      <td>36</td>\n",
              "      <td>Hindu</td>\n",
              "      <td>SC</td>\n",
              "      <td>51902097582</td>\n",
              "      <td>18.986606</td>\n",
              "      <td>72.852748</td>\n",
              "      <td>F/S</td>\n",
              "      <td>19.005878</td>\n",
              "      <td>72.839688</td>\n",
              "      <td>Ag labour</td>\n",
              "      <td>63</td>\n",
              "      <td>0</td>\n",
              "      <td>1</td>\n",
              "      <td>0.0</td>\n",
              "      <td>True</td>\n",
              "      <td>2.001000e+12</td>\n",
              "      <td>19.021740</td>\n",
              "      <td>72.906383</td>\n",
              "      <td>NaN</td>\n",
              "      <td>NaN</td>\n",
              "      <td>NaN</td>\n",
              "      <td>3001000002375</td>\n",
              "      <td>19.033971</td>\n",
              "      <td>72.875532</td>\n",
              "      <td>Maharashtra</td>\n",
              "      <td>10</td>\n",
              "      <td>5.190000e+10</td>\n",
              "      <td>Mumbai</td>\n",
              "      <td>No</td>\n",
              "      <td>No</td>\n",
              "      <td>No</td>\n",
              "      <td>No</td>\n",
              "      <td>No</td>\n",
              "      <td>No</td>\n",
              "      <td>No</td>\n",
              "      <td>No</td>\n",
              "      <td>No</td>\n",
              "      <td>No</td>\n",
              "      <td>No</td>\n",
              "      <td>No</td>\n",
              "      <td>No</td>\n",
              "      <td>No</td>\n",
              "    </tr>\n",
              "    <tr>\n",
              "      <th>4</th>\n",
              "      <td>Male</td>\n",
              "      <td>41</td>\n",
              "      <td>Hindu</td>\n",
              "      <td>SC</td>\n",
              "      <td>51902100136</td>\n",
              "      <td>19.020086</td>\n",
              "      <td>72.861478</td>\n",
              "      <td>F/N</td>\n",
              "      <td>19.029420</td>\n",
              "      <td>72.854606</td>\n",
              "      <td>Construction</td>\n",
              "      <td>95</td>\n",
              "      <td>0</td>\n",
              "      <td>1</td>\n",
              "      <td>0.9</td>\n",
              "      <td>True</td>\n",
              "      <td>2.001000e+12</td>\n",
              "      <td>18.983487</td>\n",
              "      <td>72.819453</td>\n",
              "      <td>NaN</td>\n",
              "      <td>NaN</td>\n",
              "      <td>NaN</td>\n",
              "      <td>3001000000926</td>\n",
              "      <td>19.113840</td>\n",
              "      <td>72.927938</td>\n",
              "      <td>Maharashtra</td>\n",
              "      <td>22</td>\n",
              "      <td>5.190000e+10</td>\n",
              "      <td>Mumbai</td>\n",
              "      <td>No</td>\n",
              "      <td>No</td>\n",
              "      <td>No</td>\n",
              "      <td>No</td>\n",
              "      <td>No</td>\n",
              "      <td>No</td>\n",
              "      <td>No</td>\n",
              "      <td>No</td>\n",
              "      <td>No</td>\n",
              "      <td>No</td>\n",
              "      <td>No</td>\n",
              "      <td>No</td>\n",
              "      <td>No</td>\n",
              "      <td>No</td>\n",
              "    </tr>\n",
              "  </tbody>\n",
              "</table>\n",
              "</div>"
            ],
            "text/plain": [
              "  SexLabel  Age Religion Caste  ...  M_Asthma  M_Polio  M_Paralysis M_Epilepsy\n",
              "0     Male   41    Hindu    SC  ...        No       No           No        Yes\n",
              "1     Male   44    Hindu    SC  ...        No       No           No         No\n",
              "2   Female   39    Hindu    SC  ...        No       No           No         No\n",
              "3   Female   36    Hindu    SC  ...        No       No           No         No\n",
              "4     Male   41    Hindu    SC  ...        No       No           No         No\n",
              "\n",
              "[5 rows x 43 columns]"
            ]
          },
          "metadata": {
            "tags": []
          },
          "execution_count": 16
        }
      ]
    },
    {
      "cell_type": "markdown",
      "metadata": {
        "id": "AlGUTbg27GJV"
      },
      "source": [
        "# Round off Lat,Lon to 5 decimal points"
      ]
    },
    {
      "cell_type": "code",
      "metadata": {
        "id": "TOtfNRKD7HJf"
      },
      "source": [
        "# df['AdminUnitLatitude'] = df['AdminUnitLatitude'].apply(lambda x:round(x,5))\n",
        "# df['AdminUnitLongitude'] = df['AdminUnitLongitude'].apply(lambda x:round(x,5))"
      ],
      "execution_count": null,
      "outputs": []
    },
    {
      "cell_type": "markdown",
      "metadata": {
        "id": "WN0JoGHK7P8z"
      },
      "source": [
        "# Co-Morbs (No, Cured --> 0) (Yes --> 1)"
      ]
    },
    {
      "cell_type": "code",
      "metadata": {
        "id": "vezA_9KS65qP"
      },
      "source": [
        "# Takes around 1 m 2s\n",
        "# Need to be careful in future to replace it on the entire dataframe- should be done on specific columns\n",
        "df['M_Epilepsy'] = df['M_Epilepsy'].replace(['No', 'Cured'], 0)\n",
        "df['M_Epilepsy'] = df['M_Epilepsy'].replace(['Yes'], 1)"
      ],
      "execution_count": null,
      "outputs": []
    },
    {
      "cell_type": "markdown",
      "metadata": {
        "id": "yS2DZTT48VLZ"
      },
      "source": [
        "# Plots for Age, Height, Weight\n",
        "\n",
        "\n",
        "\n",
        "\n"
      ]
    },
    {
      "cell_type": "code",
      "metadata": {
        "colab": {
          "base_uri": "https://localhost:8080/",
          "height": 313
        },
        "id": "f-qu4o_1phle",
        "outputId": "af951026-ce1e-485c-ebd8-ab7cc9a03599"
      },
      "source": [
        "fig, axes = plt.subplots(1, 2, figsize=(12,4),sharey=True)\n",
        "fig.suptitle('Comparison of Age vs Height')\n",
        "\n",
        "sns.regplot(ax=axes[0], x = \"Age\", y='Weight', data=source_df, fit_reg = False, scatter_kws={\"alpha\": 0.2})\n",
        "axes[0].set_title('Age vs Weight in Source MH-IHDS-II')\n",
        "\n",
        "sns.regplot(ax=axes[1], x = \"Age\", y='Weight', data=df.sample(n=10000), fit_reg = False, scatter_kws={\"alpha\": 0.2})\n",
        "axes[1].set_title('Age vs Weight in Sample Synthpop 10k Mumbai')"
      ],
      "execution_count": null,
      "outputs": [
        {
          "output_type": "execute_result",
          "data": {
            "text/plain": [
              "Text(0.5, 1.0, 'Age vs Weight in Sample Synthpop 10k Mumbai')"
            ]
          },
          "metadata": {
            "tags": []
          },
          "execution_count": 129
        },
        {
          "output_type": "display_data",
          "data": {
            "image/png": "[encoded data removed]",
            "text/plain": [
              "<Figure size 864x288 with 2 Axes>"
            ]
          },
          "metadata": {
            "tags": []
          }
        }
      ]
    },
    {
      "cell_type": "code",
      "metadata": {
        "colab": {
          "base_uri": "https://localhost:8080/",
          "height": 313
        },
        "id": "l_zPIQ6bqIJm",
        "outputId": "83d238d2-b85d-4158-bc47-c041079b5c37"
      },
      "source": [
        "fig, axes = plt.subplots(1, 2, figsize=(12,4),sharey=True)\n",
        "# fig.suptitle('Comparison of Age vs Height')\n",
        "\n",
        "sns.regplot(ax=axes[0], x = \"Age\", y='Height', data=source_df, fit_reg = False, scatter_kws={\"alpha\": 0.2})\n",
        "axes[0].set_title('Age vs Height in Source MH-IHDS-II')\n",
        "\n",
        "sns.regplot(ax=axes[1], x = \"Age\", y='Height', data=df.sample(n=10000), fit_reg = False, scatter_kws={\"alpha\": 0.2})\n",
        "axes[1].set_title('Age vs Height in Sample Synthpop 10k Mumbai')"
      ],
      "execution_count": null,
      "outputs": [
        {
          "output_type": "execute_result",
          "data": {
            "text/plain": [
              "Text(0.5, 1.0, 'Age vs Height in Sample Synthpop 10k Mumbai')"
            ]
          },
          "metadata": {
            "tags": []
          },
          "execution_count": 130
        },
        {
          "output_type": "display_data",
          "data": {
            "image/png": "[encoded data removed]",
            "text/plain": [
              "<Figure size 864x288 with 2 Axes>"
            ]
          },
          "metadata": {
            "tags": []
          }
        }
      ]
    },
    {
      "cell_type": "code",
      "metadata": {
        "colab": {
          "base_uri": "https://localhost:8080/",
          "height": 313
        },
        "id": "HUm7XhmAqM59",
        "outputId": "a8f5b9ca-deb6-4033-81f1-5ab0e5662b25"
      },
      "source": [
        "fig, axes = plt.subplots(1, 2, figsize=(12,4),sharey=True)\n",
        "# fig.suptitle('Comparison of Age vs Height')\n",
        "\n",
        "sns.regplot(ax=axes[0], x = \"Height\", y='Weight', data=source_df, fit_reg = False, scatter_kws={\"alpha\": 0.2})\n",
        "axes[0].set_title('Height vs Weight in Source MH-IHDS-II')\n",
        "\n",
        "sns.regplot(ax=axes[1], x = \"Height\", y='Weight', data=df.sample(n=10000), fit_reg = False, scatter_kws={\"alpha\": 0.2})\n",
        "axes[1].set_title('Height vs Weight in Sample Synthpop 10k Mumbai')"
      ],
      "execution_count": null,
      "outputs": [
        {
          "output_type": "execute_result",
          "data": {
            "text/plain": [
              "Text(0.5, 1.0, 'Height vs Weight in Sample Synthpop 10k Mumbai')"
            ]
          },
          "metadata": {
            "tags": []
          },
          "execution_count": 132
        },
        {
          "output_type": "display_data",
          "data": {
            "image/png": "[encoded data removed]",
            "text/plain": [
              "<Figure size 864x288 with 2 Axes>"
            ]
          },
          "metadata": {
            "tags": []
          }
        }
      ]
    },
    {
      "cell_type": "markdown",
      "metadata": {
        "id": "hAEWwuRXmzkB"
      },
      "source": [
        "# Spread the weigths across age groups- manually"
      ]
    },
    {
      "cell_type": "code",
      "metadata": {
        "id": "cjNlMhpJTUxx"
      },
      "source": [
        "# for age in range(0,5):\n",
        "  # max = source_df[source_df['Age'] == age]['Weight'].max()\n",
        "  # min = source_df[source_df['Age'] == age]['Weight'].min()\n",
        "  # mean = source_df[source_df['Age'] == age]['Weight'].mean()\n",
        "\n",
        "  # df.loc[(df.Weight < min) | (df.Weight > ), 'Weight'] = np.random.triangular(min, mean, max, size=\n",
        "  # mul = (df['Age'] == age).astype(int)\n"
      ],
      "execution_count": null,
      "outputs": []
    },
    {
      "cell_type": "code",
      "metadata": {
        "id": "XfQgzusWWtTV"
      },
      "source": [
        "df.info()"
      ],
      "execution_count": null,
      "outputs": []
    },
    {
      "cell_type": "code",
      "metadata": {
        "id": "32l6szHvYhsc"
      },
      "source": [
        "# for age in (10, 100):\n",
        "for age in range(13, 100):\n",
        "  my_std = source_df[source_df['Age']==age]['Weight'].std()\n",
        "\n",
        "  if(~np.isnan(my_std)):   \n",
        "    min = source_df[source_df['Age']==age]['Weight'].quantile(0.01)\n",
        "    max = source_df[source_df['Age']==age]['Weight'].quantile(0.99)\n",
        "    \n",
        "    low_lim = source_df[source_df['Age']==age]['Weight'].quantile(0.25)\n",
        "    mid_lim = source_df[source_df['Age']==age]['Weight'].quantile(0.50)\n",
        "    high_lim = source_df[source_df['Age']==age]['Weight'].quantile(0.75)\n",
        "\n",
        "\n",
        "    df.loc[(df.Age == age) & (df.Weight < min), 'Weight'] = np.random.uniform(low_lim, mid_lim, size=len(df.loc[(df.Age == age) & (df.Weight < min)]))\n",
        "    df.loc[(df.Age == age) & (df.Weight > max), 'Weight'] = np.random.uniform(mid_lim, high_lim, size=len(df.loc[(df.Age == age) & (df.Weight > max)]))\n",
        "\n",
        "\n",
        "# df.loc[df.Height <10 , 'Height'] = df.loc[df.Height <10 , 'Height'] + 20\n",
        "# df.loc[df.Height <17 , 'Height'] = df.loc[df.Height <17 , 'Height'] + 10"
      ],
      "execution_count": null,
      "outputs": []
    },
    {
      "cell_type": "code",
      "metadata": {
        "colab": {
          "base_uri": "https://localhost:8080/"
        },
        "id": "GJswKzk-gBtm",
        "outputId": "a6110df6-7121-46d8-bdf1-d50e5a2810eb"
      },
      "source": [
        "# source_df[source_df['Age']==21]['Weight'].quantile(0.01)"
      ],
      "execution_count": null,
      "outputs": [
        {
          "output_type": "execute_result",
          "data": {
            "text/plain": [
              "35.002000350954205"
            ]
          },
          "metadata": {
            "tags": []
          },
          "execution_count": 101
        }
      ]
    },
    {
      "cell_type": "code",
      "metadata": {
        "colab": {
          "base_uri": "https://localhost:8080/"
        },
        "id": "5iTEBSd7ZXRt",
        "outputId": "0ebbe7d6-2bf7-4b8e-fa8f-6207b9f6caa2"
      },
      "source": [
        "source_df[source_df['Age']==21]['Weight'].describe()"
      ],
      "execution_count": null,
      "outputs": [
        {
          "output_type": "execute_result",
          "data": {
            "text/plain": [
              "count    183.000000\n",
              "mean      50.353005\n",
              "std        9.902673\n",
              "min       31.900000\n",
              "25%       42.799999\n",
              "50%       49.000000\n",
              "75%       56.099998\n",
              "max       98.199997\n",
              "Name: Weight, dtype: float64"
            ]
          },
          "metadata": {
            "tags": []
          },
          "execution_count": 100
        }
      ]
    },
    {
      "cell_type": "code",
      "metadata": {
        "id": "MWKuKY5UWjQN"
      },
      "source": [
        "# df[df['Age']==11]['Weight'].describe()\n",
        "\n",
        "df[(df['Age']==51) & (df['Weight'] <10 )]"
      ],
      "execution_count": null,
      "outputs": []
    },
    {
      "cell_type": "markdown",
      "metadata": {
        "id": "lSMWDi68AUpq"
      },
      "source": [
        "# Spread the distribtution of height with age"
      ]
    },
    {
      "cell_type": "code",
      "metadata": {
        "colab": {
          "base_uri": "https://localhost:8080/"
        },
        "id": "LnjEfQXc5nZR",
        "outputId": "1467046f-cb1b-4c89-b296-9fa12b55d7aa"
      },
      "source": [
        "# age = 20\n",
        "# len_1 = 10000 # for sample_df\n",
        "len_1 = pop_size # for full df for Greater Mumbai\n",
        "height_var = 0\n",
        "\n",
        "min_height = df['Height'].min()\n",
        "\n",
        "for age in range(0,98):\n",
        "  # print(age)\n",
        "  # mul = (sample_df['Age'] == age).astype(int)\n",
        "  mul = (df['Age'] == age).astype(int)\n",
        "\n",
        "\n",
        "  mean = df[df['Age'] == age]['Height'].mean()\n",
        "  \n",
        "  # if(mean != 0):\n",
        "  #   prev_mean = mean\n",
        "  \n",
        "  # if(mean <= 0):\n",
        "  #   mean = prev_mean\n",
        "  #   print (\"\\n mean for\",age,\"is=\",mean,\"\\n\")\n",
        "\n",
        "  if(age>=75 or age < 18):\n",
        "  #     var = 1.5 *var\n",
        "    height_var = df[df['Age'] == age]['Height'].std() \n",
        "    height_var = height_var + np.random.default_rng().wald(2, 5 * height_var)\n",
        "  else: \n",
        "    height_var = df[df['Age'] == age]['Height'].std()\n",
        "    height_var = height_var + np.random.default_rng().wald(2, height_var)\n",
        "\n",
        "  # var = df[df['Age'] == age]['Height'].std() \n",
        "\n",
        "  # var = var + np.random.default_rng().wald(2, var)\n",
        "\n",
        "\n",
        "  if (~np.isnan(height_var)):# and var > 0):\n",
        "    pre_var = height_var  \n",
        "    \n",
        "  # mean = sample_df[sample_df['Age'] == age]['Height'].mean()\n",
        "  if (np.isnan(height_var)): # or var <=0):\n",
        "    height_var = pre_var\n",
        "    print (\"\\n Var for\",age,\"is=\",pre_var,\"\\n\")\n",
        "    # print(\"C...\\n\")\n",
        "    # continue\n",
        "\n",
        "  # if(age>=80 or age < 18):\n",
        "  #     var = 1.5 *var\n",
        "  # elif(age>=75 and age<80):\n",
        "  #     var = 10 *var\n",
        "\n",
        "  data = np.random.normal(0,height_var,size=len_1)\n",
        "  # data = np.random.default_rng().wald(mean, var, len_1)\n",
        "\n",
        "  # print(age,var,\"\\n\")\n",
        "  # sample_df['Height'] = sample_df['Height']+pd.Series(data*mul)\n",
        "  df['Height'] = df['Height']+pd.Series(data*mul)\n",
        "\n",
        "# df[df['Height'] < min_height]['Height'] = min_height\n",
        "\n",
        "df.loc[df.Height < min_height, 'Height'] = min_height\n"
      ],
      "execution_count": null,
      "outputs": [
        {
          "output_type": "stream",
          "text": [
            "/usr/local/lib/python3.7/dist-packages/ipykernel_launcher.py:58: SettingWithCopyWarning: \n",
            "A value is trying to be set on a copy of a slice from a DataFrame.\n",
            "Try using .loc[row_indexer,col_indexer] = value instead\n",
            "\n",
            "See the caveats in the documentation: https://pandas.pydata.org/pandas-docs/stable/user_guide/indexing.html#returning-a-view-versus-a-copy\n"
          ],
          "name": "stderr"
        }
      ]
    },
    {
      "cell_type": "markdown",
      "metadata": {
        "id": "xOiTMS8OAht_"
      },
      "source": [
        "#Plot for Age, Weight\n"
      ]
    },
    {
      "cell_type": "code",
      "metadata": {
        "colab": {
          "base_uri": "https://localhost:8080/",
          "height": 484
        },
        "id": "-FVXvx9KmYIE",
        "outputId": "3be6d5ab-a644-4261-b0e8-42a13b4cea1a"
      },
      "source": [
        "fig, axes = plt.subplots(1, 2, figsize=(12,4),sharey=True)\n",
        "# fig.suptitle('Comparison of Age vs Height')\n",
        "\n",
        "sns.regplot(ax=axes[0], x = \"Age\", y=\"Height\", data=source_df, fit_reg = False, scatter_kws={\"alpha\": 0.2})\n",
        "axes[0].set_title('Age vs Height in Source IHDS-II for MH')\n",
        "\n",
        "sns.regplot(ax=axes[1], x = \"Age\", y=\"Height\", data=sample_df, fit_reg = False, scatter_kws={\"alpha\": 0.2})\n",
        "axes[1].set_title('Age vs Height in Sample Synthpop 10k Mumbai')"
      ],
      "execution_count": null,
      "outputs": [
        {
          "output_type": "error",
          "ename": "NameError",
          "evalue": "ignored",
          "traceback": [
            "\u001b[0;31m---------------------------------------------------------------------------\u001b[0m",
            "\u001b[0;31mNameError\u001b[0m                                 Traceback (most recent call last)",
            "\u001b[0;32m<ipython-input-12-8a1e0ebdf0f5>\u001b[0m in \u001b[0;36m<module>\u001b[0;34m()\u001b[0m\n\u001b[1;32m      2\u001b[0m \u001b[0;31m# fig.suptitle('Comparison of Age vs Height')\u001b[0m\u001b[0;34m\u001b[0m\u001b[0;34m\u001b[0m\u001b[0;34m\u001b[0m\u001b[0m\n\u001b[1;32m      3\u001b[0m \u001b[0;34m\u001b[0m\u001b[0m\n\u001b[0;32m----> 4\u001b[0;31m \u001b[0msns\u001b[0m\u001b[0;34m.\u001b[0m\u001b[0mregplot\u001b[0m\u001b[0;34m(\u001b[0m\u001b[0max\u001b[0m\u001b[0;34m=\u001b[0m\u001b[0maxes\u001b[0m\u001b[0;34m[\u001b[0m\u001b[0;36m0\u001b[0m\u001b[0;34m]\u001b[0m\u001b[0;34m,\u001b[0m \u001b[0mx\u001b[0m \u001b[0;34m=\u001b[0m \u001b[0;34m\"Age\"\u001b[0m\u001b[0;34m,\u001b[0m \u001b[0my\u001b[0m\u001b[0;34m=\u001b[0m\u001b[0;34m\"Height\"\u001b[0m\u001b[0;34m,\u001b[0m \u001b[0mdata\u001b[0m\u001b[0;34m=\u001b[0m\u001b[0msource_df\u001b[0m\u001b[0;34m,\u001b[0m \u001b[0mfit_reg\u001b[0m \u001b[0;34m=\u001b[0m \u001b[0;32mFalse\u001b[0m\u001b[0;34m,\u001b[0m \u001b[0mscatter_kws\u001b[0m\u001b[0;34m=\u001b[0m\u001b[0;34m{\u001b[0m\u001b[0;34m\"alpha\"\u001b[0m\u001b[0;34m:\u001b[0m \u001b[0;36m0.2\u001b[0m\u001b[0;34m}\u001b[0m\u001b[0;34m)\u001b[0m\u001b[0;34m\u001b[0m\u001b[0;34m\u001b[0m\u001b[0m\n\u001b[0m\u001b[1;32m      5\u001b[0m \u001b[0maxes\u001b[0m\u001b[0;34m[\u001b[0m\u001b[0;36m0\u001b[0m\u001b[0;34m]\u001b[0m\u001b[0;34m.\u001b[0m\u001b[0mset_title\u001b[0m\u001b[0;34m(\u001b[0m\u001b[0;34m'Age vs Height in Source IHDS-II for MH'\u001b[0m\u001b[0;34m)\u001b[0m\u001b[0;34m\u001b[0m\u001b[0;34m\u001b[0m\u001b[0m\n\u001b[1;32m      6\u001b[0m \u001b[0;34m\u001b[0m\u001b[0m\n",
            "\u001b[0;31mNameError\u001b[0m: name 'source_df' is not defined"
          ]
        },
        {
          "output_type": "display_data",
          "data": {
            "image/png": "[encoded data removed]",
            "text/plain": [
              "<Figure size 864x288 with 2 Axes>"
            ]
          },
          "metadata": {
            "tags": []
          }
        }
      ]
    },
    {
      "cell_type": "code",
      "metadata": {
        "colab": {
          "base_uri": "https://localhost:8080/",
          "height": 313
        },
        "id": "1uUUrlhHnCLZ",
        "outputId": "59cb1838-b3f3-4964-9cd7-0d21c4cc22c7"
      },
      "source": [
        "fig, axes = plt.subplots(1, 2, figsize=(12,4),sharey=True)\n",
        "# fig.suptitle('Comparison of Age vs Weight')\n",
        "\n",
        "sns.regplot(ax=axes[0], x = \"Age\", y=\"Weight\", data=source_df, fit_reg = False, scatter_kws={\"alpha\": 0.2})\n",
        "axes[0].set_title('Age vs Weight in Source IHDS-II for MH')\n",
        "\n",
        "sns.regplot(ax=axes[1], x = \"Age\", y=\"Weight\", data=sample_df, fit_reg = False, scatter_kws={\"alpha\": 0.2})\n",
        "axes[1].set_title('Age vs Weight in Sample Synthpop 10k Mumbai')"
      ],
      "execution_count": null,
      "outputs": [
        {
          "output_type": "execute_result",
          "data": {
            "text/plain": [
              "Text(0.5, 1.0, 'Age vs Weight in Sample Synthpop 10k Mumbai')"
            ]
          },
          "metadata": {
            "tags": []
          },
          "execution_count": 93
        },
        {
          "output_type": "display_data",
          "data": {
            "image/png": "[encoded data removed]",
            "text/plain": [
              "<Figure size 864x288 with 2 Axes>"
            ]
          },
          "metadata": {
            "tags": []
          }
        }
      ]
    },
    {
      "cell_type": "code",
      "metadata": {
        "colab": {
          "base_uri": "https://localhost:8080/"
        },
        "id": "K8lN4OMv-DDi",
        "outputId": "8a6c8062-bd2c-48bc-a23b-db75c5854398"
      },
      "source": [
        "df['Weight'].describe(), df['Height'].describe(), df['Age'].describe()"
      ],
      "execution_count": null,
      "outputs": [
        {
          "output_type": "execute_result",
          "data": {
            "text/plain": [
              "(count    1.243961e+07\n",
              " mean     4.687085e+01\n",
              " std      1.354138e+01\n",
              " min     -3.100000e+01\n",
              " 25%      4.326000e+01\n",
              " 50%      5.097000e+01\n",
              " 75%      5.552000e+01\n",
              " max      9.474000e+01\n",
              " Name: Weight, dtype: float64, count    1.243961e+07\n",
              " mean     1.467094e+02\n",
              " std      2.416487e+01\n",
              " min      8.610000e+00\n",
              " 25%      1.437700e+02\n",
              " 50%      1.529500e+02\n",
              " 75%      1.602700e+02\n",
              " max      2.120300e+02\n",
              " Name: Height, dtype: float64, count    1.243961e+07\n",
              " mean     3.151048e+01\n",
              " std      1.880614e+01\n",
              " min      0.000000e+00\n",
              " 25%      1.700000e+01\n",
              " 50%      2.900000e+01\n",
              " 75%      4.400000e+01\n",
              " max      9.900000e+01\n",
              " Name: Age, dtype: float64)"
            ]
          },
          "metadata": {
            "tags": []
          },
          "execution_count": 133
        }
      ]
    },
    {
      "cell_type": "markdown",
      "metadata": {
        "id": "EgKg8fytB0_B"
      },
      "source": [
        "# Spread the distribtution of weight with age"
      ]
    },
    {
      "cell_type": "code",
      "metadata": {
        "colab": {
          "base_uri": "https://localhost:8080/",
          "height": 313
        },
        "id": "4_dzoXs3nQxR",
        "outputId": "c9568b22-0325-4e5d-dbee-045f78479fcc"
      },
      "source": [
        "fig, axes = plt.subplots(1, 2, figsize=(12,4),sharey=True)\n",
        "# fig.suptitle('Height/Weight')\n",
        "\n",
        "sns.regplot(ax=axes[0], x = \"Height\", y=\"Weight\", data=source_df, fit_reg = False, scatter_kws={\"alpha\": 0.2})\n",
        "axes[0].set_title('Height vs Weight in Source MH-IHDS-II')\n",
        "\n",
        "sns.regplot(ax=axes[1], x = \"Height\", y=\"Weight\", data=df.sample(n=10000), fit_reg = False, scatter_kws={\"alpha\": 0.2})\n",
        "axes[1].set_title('Height vs Weight in Sample Synthpop 10k Mumbai')"
      ],
      "execution_count": null,
      "outputs": [
        {
          "output_type": "execute_result",
          "data": {
            "text/plain": [
              "Text(0.5, 1.0, 'Height vs Weight in Sample Synthpop 10k Mumbai')"
            ]
          },
          "metadata": {
            "tags": []
          },
          "execution_count": 22
        },
        {
          "output_type": "display_data",
          "data": {
            "image/png": "[encoded data removed]",
            "text/plain": [
              "<Figure size 864x288 with 2 Axes>"
            ]
          },
          "metadata": {
            "tags": []
          }
        }
      ]
    },
    {
      "cell_type": "code",
      "metadata": {
        "id": "kwGAtdrCNsNM"
      },
      "source": [
        "# if(age>=75 or age < 18):\n",
        "  # if age < 5:\n",
        "  # #     var = 1.5 *var\n",
        "  #   var = source_df[source_df['Age'] == age]['Weight'].std()\n",
        "\n",
        "    # var = var + np.random.default_rng().wald(2, 5 * var)\n",
        "\n",
        "\"\"\"\n",
        "  if age < 5:\n",
        "    var = var * 0.8 + np.random.default_rng().wald(1, var)\n",
        "  elif age >=5 & age <=10:  \n",
        "    var = var + np.random.default_rng().wald(1, var)\n",
        "  elif age > 10 & age < 18:\n",
        "    var = var + np.random.default_rng().wald(1, var)\n",
        "  elif age >= 18 & age < 60:\n",
        "    var = var * 0.8  \n",
        "  elif age>=75:  \n",
        "    var = var + np.random.default_rng().wald(1, var)\n",
        "\"\"\""
      ],
      "execution_count": null,
      "outputs": []
    },
    {
      "cell_type": "code",
      "metadata": {
        "id": "n2FsZPbvFOEU"
      },
      "source": [
        "# age = 20\n",
        "# len_1 = 10000 # for sample_df\n",
        "len_1 = len(df) # for full df\n",
        "pop_size = len_1\n",
        "\n",
        "var = 0\n",
        "\n",
        "for age in range(0,98):\n",
        "  # print(age)\n",
        "  # mul = (sample_df['Age'] == age).astype(int)\n",
        "  mul = (df['Age'] == age).astype(int)\n",
        "\n",
        "\n",
        "  # mean = df[df['Age'] == age]['Weight'].mean()\n",
        "\n",
        "  var = source_df[source_df['Age'] == age]['Weight'].std()\n",
        "\n",
        "  \n",
        "  if (~np.isnan(var)):\n",
        "    pre_var = var  \n",
        "    \n",
        "  # mean = sample_df[sample_df['Age'] == age]['Height'].mean()\n",
        "  if np.isnan(var):\n",
        "    var = pre_var\n",
        "    # print (\"\\n Var for\",age,\"is=\",var,\"\\n\")\n",
        "    # print(\"C...\\n\")\n",
        "    # continue\n",
        "\n",
        "  data = np.random.normal(0,var,size=len_1)\n",
        "\n",
        "  # print(age,var,\"\\n\")\n",
        "  # sample_df['Height'] = sample_df['Height']+pd.Series(data*mul)\n",
        "  df['Weight'] = df['Weight']+pd.Series(data*mul)\n",
        "\n",
        "\n",
        "min_weight_from_source = source_df['Weight'].min()\n",
        "df.loc[df.Weight <min_weight_from_source , 'Weight'] = min_weight_from_source\n"
      ],
      "execution_count": null,
      "outputs": []
    },
    {
      "cell_type": "code",
      "metadata": {
        "id": "_qx4oPsEJacV"
      },
      "source": [
        "# df[df['Height'] < 20]\n",
        "# source_df[source_df['Height'] < 20]\n",
        "\n",
        "# df.loc[df.Height <10 , 'Height'] = df.loc[df.Height <10 , 'Height'] + 20\n",
        "# df.loc[df.Height <17 , 'Height'] = df.loc[df.Height <17 , 'Height'] + 10"
      ],
      "execution_count": null,
      "outputs": []
    },
    {
      "cell_type": "markdown",
      "metadata": {
        "id": "jlz5ilPsrbmX"
      },
      "source": [
        "# Replace multiple values in a column by condition"
      ]
    },
    {
      "cell_type": "code",
      "metadata": {
        "id": "xR8Fxwqc82fs"
      },
      "source": [
        "# Get minimum from MH-IHDS-II(Source)\n",
        "\n",
        "min_weight_from_source = source_df['Weight'].min()\n",
        "\n",
        "# min_height_from_source = source_df['Height'].min()\n",
        "\n",
        "# min_height_from_source\n",
        "\n",
        "# Replace the negative values with the minimum of IHDS for height and weight\n",
        "\n",
        "df.loc[df.Weight <min_weight_from_source , 'Weight'] = min_weight_from_source\n",
        "\n",
        "# df.loc[df.Height < min_height_from_source , 'Height'] = min_height_from_source"
      ],
      "execution_count": null,
      "outputs": []
    },
    {
      "cell_type": "markdown",
      "metadata": {
        "id": "ALvv3N4VGORg"
      },
      "source": [
        "# Histograms for Age, weight and height"
      ]
    },
    {
      "cell_type": "code",
      "metadata": {
        "colab": {
          "base_uri": "https://localhost:8080/",
          "height": 281
        },
        "id": "yl5DfI5rKUwI",
        "outputId": "c2512060-00de-4b74-d65f-dcc95b13a6fe"
      },
      "source": [
        "df_ahw = sample_df[['Age','Height','Weight']]\n",
        "df_ahw.hist(bins=10)\n",
        "plt.style.use('ggplot')\n"
      ],
      "execution_count": null,
      "outputs": [
        {
          "output_type": "display_data",
          "data": {
            "image/png": "[encoded data removed]",
            "text/plain": [
              "<Figure size 432x288 with 4 Axes>"
            ]
          },
          "metadata": {
            "tags": []
          }
        }
      ]
    },
    {
      "cell_type": "code",
      "metadata": {
        "colab": {
          "base_uri": "https://localhost:8080/",
          "height": 374
        },
        "id": "AGbBOP9Z-dlE",
        "outputId": "a602b6cd-9f9c-4dee-e618-5a17b339aa0b"
      },
      "source": [
        "source_df_ahw = source_df[['Age','Height','Weight']]\n",
        "source_df_ahw.hist(bins=10)\n"
      ],
      "execution_count": null,
      "outputs": [
        {
          "output_type": "execute_result",
          "data": {
            "text/plain": [
              "array([[<matplotlib.axes._subplots.AxesSubplot object at 0x7ffba800d910>,\n",
              "        <matplotlib.axes._subplots.AxesSubplot object at 0x7ffba7b1a850>],\n",
              "       [<matplotlib.axes._subplots.AxesSubplot object at 0x7ffba7c731d0>,\n",
              "        <matplotlib.axes._subplots.AxesSubplot object at 0x7ffba8563110>]],\n",
              "      dtype=object)"
            ]
          },
          "metadata": {
            "tags": []
          },
          "execution_count": 55
        },
        {
          "output_type": "display_data",
          "data": {
            "image/png": "[encoded data removed]",
            "text/plain": [
              "<Figure size 432x288 with 4 Axes>"
            ]
          },
          "metadata": {
            "tags": []
          }
        }
      ]
    },
    {
      "cell_type": "markdown",
      "metadata": {
        "id": "3IsykkxmIPBH"
      },
      "source": [
        "# Female to male household wise shift"
      ]
    },
    {
      "cell_type": "code",
      "metadata": {
        "id": "7jmREZcrShh6"
      },
      "source": [
        "df[(df['Age'] < 5)].mean()"
      ],
      "execution_count": null,
      "outputs": []
    },
    {
      "cell_type": "code",
      "metadata": {
        "colab": {
          "base_uri": "https://localhost:8080/"
        },
        "id": "I9xf-v5MRVks",
        "outputId": "3b26a900-2aaf-4e3e-e8a9-abbde71d7ddf"
      },
      "source": [
        "source_df['Weight'].describe(), df['Weight'].describe()"
      ],
      "execution_count": null,
      "outputs": [
        {
          "output_type": "execute_result",
          "data": {
            "text/plain": [
              "(count    11104.000000\n",
              " mean        43.821938\n",
              " std         16.926100\n",
              " min          2.400000\n",
              " 25%         34.500000\n",
              " 50%         46.700001\n",
              " 75%         55.299999\n",
              " max        101.000000\n",
              " Name: Weight, dtype: float64, count    1.243961e+07\n",
              " mean     4.704414e+01\n",
              " std      1.582969e+01\n",
              " min      2.400000e+00\n",
              " 25%      3.845882e+01\n",
              " 50%      4.933360e+01\n",
              " 75%      5.799448e+01\n",
              " max      1.308095e+02\n",
              " Name: Weight, dtype: float64)"
            ]
          },
          "metadata": {
            "tags": []
          },
          "execution_count": 74
        }
      ]
    },
    {
      "cell_type": "code",
      "metadata": {
        "colab": {
          "base_uri": "https://localhost:8080/"
        },
        "id": "aHYABtZePool",
        "outputId": "0ae23cb3-4598-49cd-c175-987d7246742b"
      },
      "source": [
        "source_df['Height'].describe(), df['Height'].describe()"
      ],
      "execution_count": null,
      "outputs": [
        {
          "output_type": "execute_result",
          "data": {
            "text/plain": [
              "(count    11104.000000\n",
              " mean       144.661924\n",
              " std         25.323976\n",
              " min         20.000000\n",
              " 25%        141.199997\n",
              " 50%        152.000000\n",
              " 75%        160.000000\n",
              " max        199.500000\n",
              " Name: Height, dtype: float64, count    1.243961e+07\n",
              " mean     1.467095e+02\n",
              " std      2.416416e+01\n",
              " min      1.700000e+01\n",
              " 25%      1.437700e+02\n",
              " 50%      1.529500e+02\n",
              " 75%      1.602700e+02\n",
              " max      2.120300e+02\n",
              " Name: Height, dtype: float64)"
            ]
          },
          "metadata": {
            "tags": []
          },
          "execution_count": 72
        }
      ]
    },
    {
      "cell_type": "code",
      "metadata": {
        "colab": {
          "base_uri": "https://localhost:8080/"
        },
        "id": "gtoyHxnwb2zF",
        "outputId": "deef9543-cadb-4a12-8f18-d7464d5a443d"
      },
      "source": [
        "# df['SexLabel'].value_counts()/len(df)\n",
        "\n",
        "df[(df['Age'] >= 0 & df['Age'] < 18)\n",
        "df['SexLabel'].value_counts()/len(df)"
      ],
      "execution_count": null,
      "outputs": [
        {
          "output_type": "execute_result",
          "data": {
            "text/plain": [
              "Female    0.518431\n",
              "Male      0.481569\n",
              "Name: SexLabel, dtype: float64"
            ]
          },
          "metadata": {
            "tags": []
          },
          "execution_count": 30
        }
      ]
    },
    {
      "cell_type": "code",
      "metadata": {
        "id": "DU7Fpbg8oEBf"
      },
      "source": [
        "# df.head()\n",
        "subset = df[(df['Age'] >= 20) & (df['Age'] < 60)]"
      ],
      "execution_count": null,
      "outputs": []
    },
    {
      "cell_type": "code",
      "metadata": {
        "id": "Cj-AHL-3oed4"
      },
      "source": [
        "subset_M = subset[subset['SexLabel'] == 'Male']\n",
        "subset_F = subset[subset['SexLabel'] == 'Female']"
      ],
      "execution_count": null,
      "outputs": []
    },
    {
      "cell_type": "code",
      "metadata": {
        "id": "oRjK_6cjoqNO"
      },
      "source": [
        "M_by_HH = subset_M.groupby('HHID').size()\n",
        "F_by_HH = subset_F.groupby('HHID').size()"
      ],
      "execution_count": null,
      "outputs": []
    },
    {
      "cell_type": "code",
      "metadata": {
        "id": "UTdrazM2o3B9"
      },
      "source": [
        "common_index = M_by_HH.index.intersection(F_by_HH.index)"
      ],
      "execution_count": null,
      "outputs": []
    },
    {
      "cell_type": "code",
      "metadata": {
        "colab": {
          "base_uri": "https://localhost:8080/"
        },
        "id": "Nb5GpmKupqX_",
        "outputId": "bb37bcca-78df-4401-cadc-88f35d9bde49"
      },
      "source": [
        "(M_by_HH.loc[common_index] < F_by_HH.loc[common_index]).value_counts()"
      ],
      "execution_count": null,
      "outputs": [
        {
          "output_type": "execute_result",
          "data": {
            "text/plain": [
              "False    2067138\n",
              "True      409475\n",
              "dtype: int64"
            ]
          },
          "metadata": {
            "tags": []
          },
          "execution_count": 57
        }
      ]
    },
    {
      "cell_type": "code",
      "metadata": {
        "id": "83yojnyrsPQc"
      },
      "source": [
        "# our_index = common_index[M_by_HH.loc[common_index] < F_by_HH.loc[common_index]]"
      ],
      "execution_count": null,
      "outputs": []
    },
    {
      "cell_type": "code",
      "metadata": {
        "id": "CeFSLAly29x-"
      },
      "source": [
        "# our_index"
      ],
      "execution_count": null,
      "outputs": []
    },
    {
      "cell_type": "code",
      "metadata": {
        "id": "a3uhtrTN3AID"
      },
      "source": [
        "female_filter =  (df['SexLabel'] == 'Female') & (df['Age'] >= 20) & (df['Age'] < 60)  "
      ],
      "execution_count": null,
      "outputs": []
    },
    {
      "cell_type": "code",
      "metadata": {
        "id": "vhZwvofs7bHT"
      },
      "source": [
        "# df[female_filter].shape\n",
        "final_filter = pd.Series(np.random.uniform(size=len(df)) < 0.1, index=df.index)"
      ],
      "execution_count": null,
      "outputs": []
    },
    {
      "cell_type": "code",
      "metadata": {
        "id": "qCKwPSIL8G6w"
      },
      "source": [
        "convert_to_male_filter = final_filter & female_filter"
      ],
      "execution_count": null,
      "outputs": []
    },
    {
      "cell_type": "code",
      "metadata": {
        "id": "HSQ5vxhQ8hG8"
      },
      "source": [
        "df.loc[convert_to_male_filter, 'SexLabel'] = 'Male'"
      ],
      "execution_count": null,
      "outputs": []
    },
    {
      "cell_type": "code",
      "metadata": {
        "id": "71BbSRDb8w8H"
      },
      "source": [
        "df[df['SexLabel']].value_counts()"
      ],
      "execution_count": null,
      "outputs": []
    },
    {
      "cell_type": "code",
      "metadata": {
        "id": "JQ4oEUgz5_fB"
      },
      "source": [
        "# import tqdm"
      ],
      "execution_count": null,
      "outputs": []
    },
    {
      "cell_type": "code",
      "metadata": {
        "id": "amK458AK4fEU"
      },
      "source": [
        "# update_list = [pd.Series(df[(df['HHID'] == loop_in) & female_filter].index).sample(n=1).iloc[0] for loop_in in tqdm.tqdm(our_index)] \n",
        "\n",
        "# for loop_in in tqdm.tqdm(our_index):\n",
        "  # update_list.append(pd.Series(df[(df['HHID'] == loop_in) & female_filter].index).sample(n=1).iloc[0])\n",
        "# [pd.Series(df[(df['HHID'] == loop_in) & female_filter].index).sample(n=1).iloc[0]]  "
      ],
      "execution_count": null,
      "outputs": []
    },
    {
      "cell_type": "code",
      "metadata": {
        "colab": {
          "base_uri": "https://localhost:8080/",
          "height": 163
        },
        "id": "rPWqrB94zz7X",
        "outputId": "a30e554a-5618-4962-cbea-258d53f3ec43"
      },
      "source": [
        "# family = df[df['HHID'] == our_index[0]]\n",
        "\n",
        "# family[family['SexLabel'] == 'Female']"
      ],
      "execution_count": null,
      "outputs": [
        {
          "output_type": "execute_result",
          "data": {
            "text/html": [
              "<div>\n",
              "<style scoped>\n",
              "    .dataframe tbody tr th:only-of-type {\n",
              "        vertical-align: middle;\n",
              "    }\n",
              "\n",
              "    .dataframe tbody tr th {\n",
              "        vertical-align: top;\n",
              "    }\n",
              "\n",
              "    .dataframe thead th {\n",
              "        text-align: right;\n",
              "    }\n",
              "</style>\n",
              "<table border=\"1\" class=\"dataframe\">\n",
              "  <thead>\n",
              "    <tr style=\"text-align: right;\">\n",
              "      <th></th>\n",
              "      <th>Age</th>\n",
              "      <th>Height</th>\n",
              "      <th>Weight</th>\n",
              "      <th>PSUID</th>\n",
              "      <th>M_Fever</th>\n",
              "      <th>M_Cough</th>\n",
              "      <th>M_Diarrhea</th>\n",
              "      <th>M_Cataract</th>\n",
              "      <th>M_TB</th>\n",
              "      <th>M_High_BP</th>\n",
              "      <th>M_Heart_disease</th>\n",
              "      <th>M_Diabetes</th>\n",
              "      <th>M_Leprosy</th>\n",
              "      <th>M_Cancer</th>\n",
              "      <th>M_Asthma</th>\n",
              "      <th>M_Polio</th>\n",
              "      <th>M_Paralysis</th>\n",
              "      <th>M_Epilepsy</th>\n",
              "      <th>SexLabel</th>\n",
              "      <th>StateLabel</th>\n",
              "      <th>Religion</th>\n",
              "      <th>Caste</th>\n",
              "      <th>District</th>\n",
              "      <th>JobLabel</th>\n",
              "      <th>JobID</th>\n",
              "      <th>essential_worker</th>\n",
              "      <th>PublicTransport_Jobs</th>\n",
              "      <th>AdminUnitName</th>\n",
              "      <th>AdminUnitLatitude</th>\n",
              "      <th>AdminUnitLongitude</th>\n",
              "      <th>H_Lat</th>\n",
              "      <th>H_Lon</th>\n",
              "      <th>HHID</th>\n",
              "      <th>Agent_ID</th>\n",
              "      <th>WorkPlaceID</th>\n",
              "      <th>W_Lat</th>\n",
              "      <th>W_Lon</th>\n",
              "      <th>school_id</th>\n",
              "      <th>school_lat</th>\n",
              "      <th>school_long</th>\n",
              "      <th>public_place_id</th>\n",
              "      <th>public_place_lat</th>\n",
              "      <th>public_place_long</th>\n",
              "      <th>Adherence_to_Intervention</th>\n",
              "    </tr>\n",
              "  </thead>\n",
              "  <tbody>\n",
              "    <tr>\n",
              "      <th>69</th>\n",
              "      <td>24</td>\n",
              "      <td>156.88</td>\n",
              "      <td>52.72</td>\n",
              "      <td>2</td>\n",
              "      <td>0</td>\n",
              "      <td>0</td>\n",
              "      <td>0</td>\n",
              "      <td>0</td>\n",
              "      <td>0</td>\n",
              "      <td>0</td>\n",
              "      <td>0</td>\n",
              "      <td>0</td>\n",
              "      <td>0</td>\n",
              "      <td>0</td>\n",
              "      <td>0</td>\n",
              "      <td>0</td>\n",
              "      <td>0</td>\n",
              "      <td>0</td>\n",
              "      <td>Female</td>\n",
              "      <td>Maharashtra</td>\n",
              "      <td>Hindu</td>\n",
              "      <td>other</td>\n",
              "      <td>Mumbai</td>\n",
              "      <td>Homebound</td>\n",
              "      <td>0</td>\n",
              "      <td>0</td>\n",
              "      <td>1</td>\n",
              "      <td>K/E</td>\n",
              "      <td>19.120092</td>\n",
              "      <td>72.852387</td>\n",
              "      <td>19.11377</td>\n",
              "      <td>72.87211</td>\n",
              "      <td>51900000025</td>\n",
              "      <td>51903886147</td>\n",
              "      <td>0</td>\n",
              "      <td>NaN</td>\n",
              "      <td>NaN</td>\n",
              "      <td>0</td>\n",
              "      <td>NaN</td>\n",
              "      <td>NaN</td>\n",
              "      <td>3001000002463</td>\n",
              "      <td>19.16502</td>\n",
              "      <td>72.85674</td>\n",
              "      <td>0.3</td>\n",
              "    </tr>\n",
              "    <tr>\n",
              "      <th>75</th>\n",
              "      <td>29</td>\n",
              "      <td>148.73</td>\n",
              "      <td>48.37</td>\n",
              "      <td>15</td>\n",
              "      <td>0</td>\n",
              "      <td>0</td>\n",
              "      <td>0</td>\n",
              "      <td>0</td>\n",
              "      <td>0</td>\n",
              "      <td>0</td>\n",
              "      <td>0</td>\n",
              "      <td>0</td>\n",
              "      <td>0</td>\n",
              "      <td>0</td>\n",
              "      <td>0</td>\n",
              "      <td>0</td>\n",
              "      <td>0</td>\n",
              "      <td>0</td>\n",
              "      <td>Female</td>\n",
              "      <td>Maharashtra</td>\n",
              "      <td>Hindu</td>\n",
              "      <td>other</td>\n",
              "      <td>Mumbai</td>\n",
              "      <td>Homebound</td>\n",
              "      <td>0</td>\n",
              "      <td>0</td>\n",
              "      <td>0</td>\n",
              "      <td>K/E</td>\n",
              "      <td>19.120092</td>\n",
              "      <td>72.852387</td>\n",
              "      <td>19.11377</td>\n",
              "      <td>72.87211</td>\n",
              "      <td>51900000025</td>\n",
              "      <td>51903886153</td>\n",
              "      <td>0</td>\n",
              "      <td>NaN</td>\n",
              "      <td>NaN</td>\n",
              "      <td>0</td>\n",
              "      <td>NaN</td>\n",
              "      <td>NaN</td>\n",
              "      <td>3001000001569</td>\n",
              "      <td>19.16972</td>\n",
              "      <td>72.86297</td>\n",
              "      <td>0.2</td>\n",
              "    </tr>\n",
              "    <tr>\n",
              "      <th>77</th>\n",
              "      <td>47</td>\n",
              "      <td>162.91</td>\n",
              "      <td>51.75</td>\n",
              "      <td>16</td>\n",
              "      <td>0</td>\n",
              "      <td>0</td>\n",
              "      <td>0</td>\n",
              "      <td>0</td>\n",
              "      <td>0</td>\n",
              "      <td>0</td>\n",
              "      <td>0</td>\n",
              "      <td>0</td>\n",
              "      <td>0</td>\n",
              "      <td>0</td>\n",
              "      <td>0</td>\n",
              "      <td>0</td>\n",
              "      <td>0</td>\n",
              "      <td>0</td>\n",
              "      <td>Female</td>\n",
              "      <td>Maharashtra</td>\n",
              "      <td>Hindu</td>\n",
              "      <td>other</td>\n",
              "      <td>Mumbai</td>\n",
              "      <td>Carpenters</td>\n",
              "      <td>81</td>\n",
              "      <td>0</td>\n",
              "      <td>1</td>\n",
              "      <td>K/E</td>\n",
              "      <td>19.120092</td>\n",
              "      <td>72.852387</td>\n",
              "      <td>19.11377</td>\n",
              "      <td>72.87211</td>\n",
              "      <td>51900000025</td>\n",
              "      <td>51903886155</td>\n",
              "      <td>2001000030261</td>\n",
              "      <td>19.168</td>\n",
              "      <td>72.86515</td>\n",
              "      <td>0</td>\n",
              "      <td>NaN</td>\n",
              "      <td>NaN</td>\n",
              "      <td>3001000000273</td>\n",
              "      <td>18.94904</td>\n",
              "      <td>72.83670</td>\n",
              "      <td>0.9</td>\n",
              "    </tr>\n",
              "  </tbody>\n",
              "</table>\n",
              "</div>"
            ],
            "text/plain": [
              "    Age  Height  ...  public_place_long  Adherence_to_Intervention\n",
              "69   24  156.88  ...           72.85674                        0.3\n",
              "75   29  148.73  ...           72.86297                        0.2\n",
              "77   47  162.91  ...           72.83670                        0.9\n",
              "\n",
              "[3 rows x 44 columns]"
            ]
          },
          "metadata": {
            "tags": []
          },
          "execution_count": 91
        }
      ]
    },
    {
      "cell_type": "code",
      "metadata": {
        "colab": {
          "base_uri": "https://localhost:8080/",
          "height": 143
        },
        "id": "nPqwFYJ_sfbD",
        "outputId": "9795dbed-0390-4320-ae39-f2fdf27a020c"
      },
      "source": [
        "df[(df['HHID']==51900000066) & (df['Age'] >= 20) & (df['Age'] < 60)][['Age','SexLabel','JobLabel']]"
      ],
      "execution_count": null,
      "outputs": [
        {
          "output_type": "execute_result",
          "data": {
            "text/html": [
              "<div>\n",
              "<style scoped>\n",
              "    .dataframe tbody tr th:only-of-type {\n",
              "        vertical-align: middle;\n",
              "    }\n",
              "\n",
              "    .dataframe tbody tr th {\n",
              "        vertical-align: top;\n",
              "    }\n",
              "\n",
              "    .dataframe thead th {\n",
              "        text-align: right;\n",
              "    }\n",
              "</style>\n",
              "<table border=\"1\" class=\"dataframe\">\n",
              "  <thead>\n",
              "    <tr style=\"text-align: right;\">\n",
              "      <th></th>\n",
              "      <th>Age</th>\n",
              "      <th>SexLabel</th>\n",
              "      <th>JobLabel</th>\n",
              "    </tr>\n",
              "  </thead>\n",
              "  <tbody>\n",
              "    <tr>\n",
              "      <th>221</th>\n",
              "      <td>36</td>\n",
              "      <td>Male</td>\n",
              "      <td>Construction</td>\n",
              "    </tr>\n",
              "    <tr>\n",
              "      <th>223</th>\n",
              "      <td>33</td>\n",
              "      <td>Female</td>\n",
              "      <td>Homebound</td>\n",
              "    </tr>\n",
              "    <tr>\n",
              "      <th>225</th>\n",
              "      <td>58</td>\n",
              "      <td>Female</td>\n",
              "      <td>Homebound</td>\n",
              "    </tr>\n",
              "  </tbody>\n",
              "</table>\n",
              "</div>"
            ],
            "text/plain": [
              "     Age SexLabel      JobLabel\n",
              "221   36     Male  Construction\n",
              "223   33   Female     Homebound\n",
              "225   58   Female     Homebound"
            ]
          },
          "metadata": {
            "tags": []
          },
          "execution_count": 82
        }
      ]
    },
    {
      "cell_type": "code",
      "metadata": {
        "colab": {
          "base_uri": "https://localhost:8080/"
        },
        "id": "eK_bwJW6wB10",
        "outputId": "aca21bc1-292e-4b7f-a064-bf08c6f478c0"
      },
      "source": [
        "# df[(df['JobLabel'] == 'Homebound') & (df['Age'] >= 20) & (df['Age'] < 60)]['SexLabel'].value_counts() "
      ],
      "execution_count": null,
      "outputs": [
        {
          "output_type": "execute_result",
          "data": {
            "text/plain": [
              "Female    2722732\n",
              "Male       439270\n",
              "Name: SexLabel, dtype: int64"
            ]
          },
          "metadata": {
            "tags": []
          },
          "execution_count": 78
        }
      ]
    },
    {
      "cell_type": "code",
      "metadata": {
        "colab": {
          "base_uri": "https://localhost:8080/"
        },
        "id": "yDsK2ndHzG9X",
        "outputId": "985ab675-626a-41f7-c131-ca8ef6975c08"
      },
      "source": [
        "# df['SexLabel'].value_counts()/ len(df)\n",
        "df[df['JobLabel']=='Homebound']['SexLabel'].value_counts() / len(df)"
      ],
      "execution_count": null,
      "outputs": [
        {
          "output_type": "execute_result",
          "data": {
            "text/plain": [
              "Female    0.251050\n",
              "Male      0.081312\n",
              "Name: SexLabel, dtype: float64"
            ]
          },
          "metadata": {
            "tags": []
          },
          "execution_count": 132
        }
      ]
    },
    {
      "cell_type": "markdown",
      "metadata": {
        "id": "kbKzlS8FoT9n"
      },
      "source": [
        "# Histogram for SexLabel"
      ]
    },
    {
      "cell_type": "code",
      "metadata": {
        "colab": {
          "base_uri": "https://localhost:8080/",
          "height": 295
        },
        "id": "I1BB3hNbmx97",
        "outputId": "8e9776a4-a9f6-4689-c9e1-87548419be63"
      },
      "source": [
        "plt.figure(figsize=(6,4))\n",
        "# plt.ylim([0, 800])\n",
        "plt.title(\"Histogram for SexLabel in Entire Synthpop with Age\")\n",
        "myplot = sns.histplot(data=df , x=\"Age\", hue=\"SexLabel\", multiple=\"dodge\", bins=10)"
      ],
      "execution_count": null,
      "outputs": [
        {
          "output_type": "display_data",
          "data": {
            "image/png": "[encoded data removed]",
            "text/plain": [
              "<Figure size 432x288 with 1 Axes>"
            ]
          },
          "metadata": {
            "tags": []
          }
        }
      ]
    },
    {
      "cell_type": "code",
      "metadata": {
        "colab": {
          "base_uri": "https://localhost:8080/",
          "height": 295
        },
        "id": "bWKMI4FaDur3",
        "outputId": "859c6784-391e-4ebf-fea2-546053421110"
      },
      "source": [
        "plt.figure(figsize=(6,4))\n",
        "# plt.ylim([0, 800])\n",
        "plt.title(\"Histogram for SexLabel in Source MH-IHDS with Age\")\n",
        "myplot = sns.histplot(data=source_df , x=\"Age\", hue=\"SexLabel\", multiple=\"dodge\", bins=10)"
      ],
      "execution_count": null,
      "outputs": [
        {
          "output_type": "display_data",
          "data": {
            "image/png": "[encoded data removed]",
            "text/plain": [
              "<Figure size 432x288 with 1 Axes>"
            ]
          },
          "metadata": {
            "tags": []
          }
        }
      ]
    },
    {
      "cell_type": "markdown",
      "metadata": {
        "id": "TLv9Xt-Xokji"
      },
      "source": [
        "# Histogram for Age, Weight and Height"
      ]
    },
    {
      "cell_type": "code",
      "metadata": {
        "colab": {
          "base_uri": "https://localhost:8080/",
          "height": 1000
        },
        "id": "Xhs2nuw6Le62",
        "outputId": "10750cfb-fd80-4bc0-8dcb-3f65fabe309c"
      },
      "source": [
        "sns.displot(data=df_ahw['Age'], kind='hist',\n",
        "            height=6, aspect=1.4, bins=10)\n",
        "sns.displot(data=df_ahw['Height'], kind='hist',\n",
        "            height=6, aspect=1.4, bins=10)\n",
        "sns.displot(data=df_ahw['Weight'], kind='hist',\n",
        "            height=6, aspect=1.4, bins=10)\n"
      ],
      "execution_count": null,
      "outputs": [
        {
          "output_type": "execute_result",
          "data": {
            "text/plain": [
              "<seaborn.axisgrid.FacetGrid at 0x7f4e91228290>"
            ]
          },
          "metadata": {
            "tags": []
          },
          "execution_count": 86
        },
        {
          "output_type": "display_data",
          "data": {
            "image/png": "[encoded data removed]",
            "text/plain": [
              "<Figure size 604.8x432 with 1 Axes>"
            ]
          },
          "metadata": {
            "tags": []
          }
        },
        {
          "output_type": "display_data",
          "data": {
            "image/png": "[encoded data removed]",
            "text/plain": [
              "<Figure size 604.8x432 with 1 Axes>"
            ]
          },
          "metadata": {
            "tags": []
          }
        },
        {
          "output_type": "display_data",
          "data": {
            "image/png": "[encoded data removed]",
            "text/plain": [
              "<Figure size 604.8x432 with 1 Axes>"
            ]
          },
          "metadata": {
            "tags": []
          }
        }
      ]
    },
    {
      "cell_type": "code",
      "metadata": {
        "colab": {
          "base_uri": "https://localhost:8080/"
        },
        "id": "yDzABqiNGDpY",
        "outputId": "8da6160a-6976-4208-d6c5-e2ab90fdc009"
      },
      "source": [
        "df['Age'].describe(), df['Height'].describe(), df['Weight'].describe()"
      ],
      "execution_count": null,
      "outputs": [
        {
          "output_type": "execute_result",
          "data": {
            "text/plain": [
              "(count    1.243961e+07\n",
              " mean     3.151048e+01\n",
              " std      1.880614e+01\n",
              " min      0.000000e+00\n",
              " 25%      1.700000e+01\n",
              " 50%      2.900000e+01\n",
              " 75%      4.400000e+01\n",
              " max      9.900000e+01\n",
              " Name: Age, dtype: float64, count    1.243961e+07\n",
              " mean     1.467094e+02\n",
              " std      2.416487e+01\n",
              " min      8.610000e+00\n",
              " 25%      1.437700e+02\n",
              " 50%      1.529500e+02\n",
              " 75%      1.602700e+02\n",
              " max      2.120300e+02\n",
              " Name: Height, dtype: float64, count    1.243961e+07\n",
              " mean     4.704414e+01\n",
              " std      1.582969e+01\n",
              " min      2.400000e+00\n",
              " 25%      3.845882e+01\n",
              " 50%      4.933360e+01\n",
              " 75%      5.799448e+01\n",
              " max      1.308095e+02\n",
              " Name: Weight, dtype: float64)"
            ]
          },
          "metadata": {
            "tags": []
          },
          "execution_count": 59
        }
      ]
    },
    {
      "cell_type": "markdown",
      "metadata": {
        "id": "sAuvOSqGFsH9"
      },
      "source": [
        "# Set decimal points to 3 while printing in notebook"
      ]
    },
    {
      "cell_type": "code",
      "metadata": {
        "id": "LQCPOELN_LXl"
      },
      "source": [
        "# pd.set_option('display.float_format', lambda x: '%.3f' % x)"
      ],
      "execution_count": null,
      "outputs": []
    },
    {
      "cell_type": "markdown",
      "metadata": {
        "id": "geel2WByowSV"
      },
      "source": [
        "# Histogram of students in school"
      ]
    },
    {
      "cell_type": "code",
      "metadata": {
        "colab": {
          "base_uri": "https://localhost:8080/",
          "height": 198
        },
        "id": "8dSldfvNh7ah",
        "outputId": "0da1c5f9-077d-4210-bdde-82f7495c5655"
      },
      "source": [
        "# plt.hist(sample_df[sample_df['school_id']>0]['Age'])\n",
        "# plot_school_df = sample_df[sample_df['school_id']>0]['Age']\n",
        "myplot = sns.histplot(data=sample_df[sample_df['school_id']>0] , x=\"Age\", bins=10)"
      ],
      "execution_count": null,
      "outputs": [
        {
          "output_type": "error",
          "ename": "NameError",
          "evalue": "ignored",
          "traceback": [
            "\u001b[0;31m---------------------------------------------------------------------------\u001b[0m",
            "\u001b[0;31mNameError\u001b[0m                                 Traceback (most recent call last)",
            "\u001b[0;32m<ipython-input-13-f34bdc982bf6>\u001b[0m in \u001b[0;36m<module>\u001b[0;34m()\u001b[0m\n\u001b[1;32m      1\u001b[0m \u001b[0;31m# plt.hist(sample_df[sample_df['school_id']>0]['Age'])\u001b[0m\u001b[0;34m\u001b[0m\u001b[0;34m\u001b[0m\u001b[0;34m\u001b[0m\u001b[0m\n\u001b[1;32m      2\u001b[0m \u001b[0;31m# plot_school_df = sample_df[sample_df['school_id']>0]['Age']\u001b[0m\u001b[0;34m\u001b[0m\u001b[0;34m\u001b[0m\u001b[0;34m\u001b[0m\u001b[0m\n\u001b[0;32m----> 3\u001b[0;31m \u001b[0mmyplot\u001b[0m \u001b[0;34m=\u001b[0m \u001b[0msns\u001b[0m\u001b[0;34m.\u001b[0m\u001b[0mhistplot\u001b[0m\u001b[0;34m(\u001b[0m\u001b[0mdata\u001b[0m\u001b[0;34m=\u001b[0m\u001b[0msample_df\u001b[0m\u001b[0;34m[\u001b[0m\u001b[0msample_df\u001b[0m\u001b[0;34m[\u001b[0m\u001b[0;34m'school_id'\u001b[0m\u001b[0;34m]\u001b[0m\u001b[0;34m>\u001b[0m\u001b[0;36m0\u001b[0m\u001b[0;34m]\u001b[0m \u001b[0;34m,\u001b[0m \u001b[0mx\u001b[0m\u001b[0;34m=\u001b[0m\u001b[0;34m\"Age\"\u001b[0m\u001b[0;34m,\u001b[0m \u001b[0mbins\u001b[0m\u001b[0;34m=\u001b[0m\u001b[0;36m10\u001b[0m\u001b[0;34m)\u001b[0m\u001b[0;34m\u001b[0m\u001b[0;34m\u001b[0m\u001b[0m\n\u001b[0m",
            "\u001b[0;31mNameError\u001b[0m: name 'sample_df' is not defined"
          ]
        }
      ]
    },
    {
      "cell_type": "markdown",
      "metadata": {
        "id": "wxcmwhty8jwF"
      },
      "source": [
        "# Update datatype of WorkPlaceID, school_id, Agent_ID"
      ]
    },
    {
      "cell_type": "code",
      "metadata": {
        "id": "AzNW9QNuFnIx"
      },
      "source": [
        "# df[['WorkPlaceID']] = df[['WorkPlaceID']].astype(pd.Int64Dtype())\n",
        "# df[['school_id']] = df[['school_id']].astype(pd.Int64Dtype())\n",
        "# df[['Agent_ID']] = df[['Agent_ID']].astype(pd.Int64Dtype())\n",
        "\n",
        "# df[['M_Epilepsy']] = df[['M_Epilepsy']].astype(pd.Int64Dtype())"
      ],
      "execution_count": null,
      "outputs": []
    },
    {
      "cell_type": "markdown",
      "metadata": {
        "id": "zvWX1cxeops5"
      },
      "source": [
        "# Round off Weight and Height to 2 decimal points"
      ]
    },
    {
      "cell_type": "code",
      "metadata": {
        "id": "tRXhfol_oqjq"
      },
      "source": [
        "# replace it with np.round method\n",
        "df['Height'] = df['Height'].apply(lambda x:round(x,2))\n",
        "df['Weight'] = df['Weight'].apply(lambda x:round(x,2))"
      ],
      "execution_count": null,
      "outputs": []
    },
    {
      "cell_type": "markdown",
      "metadata": {
        "id": "Vho_rIdQ9jNz"
      },
      "source": [
        "# Check data"
      ]
    },
    {
      "cell_type": "code",
      "metadata": {
        "id": "8mR6Te1z8-XT"
      },
      "source": [
        "# df['WorkPlaceID'].describe()\n",
        "\n",
        "# df['WorkPlaceID'].isnull().values.any()\n",
        "# df['WorkPlaceID'].isnull().sum().sum()\n",
        "\n",
        "# df['WorkPlaceID'].isnull().T.any().T.sum()"
      ],
      "execution_count": null,
      "outputs": []
    },
    {
      "cell_type": "markdown",
      "metadata": {
        "id": "FkSmiHVBHd8s"
      },
      "source": [
        "# WorkPlaceID,school_id (nan-->0)"
      ]
    },
    {
      "cell_type": "code",
      "metadata": {
        "id": "AWpCD81mi0gt"
      },
      "source": [
        "# sample_df['WorkPlaceID'] = sample_df['WorkPlaceID'].fillna(0)\n",
        "df['WorkPlaceID'] = df['WorkPlaceID'].fillna(0)\n",
        "\n",
        "# sample_df['school_id'] = sample_df['school_id'].fillna(0)\n",
        "df['school_id'] = df['school_id'].fillna(0)"
      ],
      "execution_count": null,
      "outputs": []
    },
    {
      "cell_type": "markdown",
      "metadata": {
        "id": "Edmr5FuhXrQL"
      },
      "source": [
        "# Verify WorkPlaceID, school_id (nan --> 0)"
      ]
    },
    {
      "cell_type": "code",
      "metadata": {
        "colab": {
          "base_uri": "https://localhost:8080/",
          "height": 69
        },
        "id": "hwmbo0YMXVUh",
        "outputId": "a3ba5e6b-2504-4da5-bc75-f3194f18cd2b"
      },
      "source": [
        "df[np.isnan(df['WorkPlaceID'])]\n",
        "# df[np.isnan(df['school_id'])]\n"
      ],
      "execution_count": null,
      "outputs": [
        {
          "output_type": "execute_result",
          "data": {
            "text/html": [
              "<div>\n",
              "<style scoped>\n",
              "    .dataframe tbody tr th:only-of-type {\n",
              "        vertical-align: middle;\n",
              "    }\n",
              "\n",
              "    .dataframe tbody tr th {\n",
              "        vertical-align: top;\n",
              "    }\n",
              "\n",
              "    .dataframe thead th {\n",
              "        text-align: right;\n",
              "    }\n",
              "</style>\n",
              "<table border=\"1\" class=\"dataframe\">\n",
              "  <thead>\n",
              "    <tr style=\"text-align: right;\">\n",
              "      <th></th>\n",
              "      <th>SexLabel</th>\n",
              "      <th>Age</th>\n",
              "      <th>Religion</th>\n",
              "      <th>Caste</th>\n",
              "      <th>HHID</th>\n",
              "      <th>H_Lat</th>\n",
              "      <th>H_Lon</th>\n",
              "      <th>AdminUnitName</th>\n",
              "      <th>AdminUnitLatitude</th>\n",
              "      <th>AdminUnitLongitude</th>\n",
              "      <th>JobLabel</th>\n",
              "      <th>JobID</th>\n",
              "      <th>essential_worker</th>\n",
              "      <th>PublicTransport_Jobs</th>\n",
              "      <th>Adherence_to_Intervention</th>\n",
              "      <th>WorksAtSameCategory</th>\n",
              "      <th>WorkPlaceID</th>\n",
              "      <th>W_Lat</th>\n",
              "      <th>W_Lon</th>\n",
              "      <th>school_id</th>\n",
              "      <th>school_lat</th>\n",
              "      <th>school_long</th>\n",
              "      <th>public_place_id</th>\n",
              "      <th>public_place_lat</th>\n",
              "      <th>public_place_long</th>\n",
              "      <th>StateLabel</th>\n",
              "      <th>PSUID</th>\n",
              "      <th>Agent_ID</th>\n",
              "      <th>District</th>\n",
              "      <th>M_Fever</th>\n",
              "      <th>M_Cough</th>\n",
              "      <th>M_Diarrhea</th>\n",
              "      <th>M_Cataract</th>\n",
              "      <th>M_TB</th>\n",
              "      <th>M_High_BP</th>\n",
              "      <th>M_Heart_disease</th>\n",
              "      <th>M_Diabetes</th>\n",
              "      <th>M_Leprosy</th>\n",
              "      <th>M_Cancer</th>\n",
              "      <th>M_Asthma</th>\n",
              "      <th>M_Polio</th>\n",
              "      <th>M_Paralysis</th>\n",
              "      <th>M_Epilepsy</th>\n",
              "      <th>Weight</th>\n",
              "      <th>Height</th>\n",
              "    </tr>\n",
              "  </thead>\n",
              "  <tbody>\n",
              "  </tbody>\n",
              "</table>\n",
              "</div>"
            ],
            "text/plain": [
              "Empty DataFrame\n",
              "Columns: [SexLabel, Age, Religion, Caste, HHID, H_Lat, H_Lon, AdminUnitName, AdminUnitLatitude, AdminUnitLongitude, JobLabel, JobID, essential_worker, PublicTransport_Jobs, Adherence_to_Intervention, WorksAtSameCategory, WorkPlaceID, W_Lat, W_Lon, school_id, school_lat, school_long, public_place_id, public_place_lat, public_place_long, StateLabel, PSUID, Agent_ID, District, M_Fever, M_Cough, M_Diarrhea, M_Cataract, M_TB, M_High_BP, M_Heart_disease, M_Diabetes, M_Leprosy, M_Cancer, M_Asthma, M_Polio, M_Paralysis, M_Epilepsy, Weight, Height]\n",
              "Index: []"
            ]
          },
          "metadata": {
            "tags": []
          },
          "execution_count": 45
        }
      ]
    },
    {
      "cell_type": "markdown",
      "metadata": {
        "id": "enQxVph3ERFh"
      },
      "source": [
        "# Student JobLabel"
      ]
    },
    {
      "cell_type": "code",
      "metadata": {
        "id": "XT-vhoGiYlmj"
      },
      "source": [
        "df.info()"
      ],
      "execution_count": null,
      "outputs": []
    },
    {
      "cell_type": "code",
      "metadata": {
        "id": "wCecnijbX_in"
      },
      "source": [
        "df[(df['WorkPlaceID'] == 0) & (df['school_id']!=0)]"
      ],
      "execution_count": null,
      "outputs": []
    },
    {
      "cell_type": "code",
      "metadata": {
        "id": "7VaSv0Jjni7F"
      },
      "source": [
        "# If wokplaceid=0, and school_id != 0, then assign JobLabel: Student, JobID: 199\n",
        "\n",
        "df['JobLabel'] = np.where((df['WorkPlaceID'] == 0) & (df['school_id'] != 0) , \"Student\", df['JobLabel'])\n",
        "df.loc[df.JobLabel == \"Student\", 'JobID'] = 199"
      ],
      "execution_count": null,
      "outputs": []
    },
    {
      "cell_type": "code",
      "metadata": {
        "id": "bDgJgY5anvhG"
      },
      "source": [
        "# For Age=0, 1, 2, 3 JobLabel=Homebound\n",
        "\n",
        "df['JobLabel'] = np.where((df['Age'] == 0), \"Homebound\", df['JobLabel'])\n",
        "# df['JobLabel'] = np.where((df['Age'] == 1), \"Homebound\", df['JobLabel'])\n",
        "# df['JobLabel'] = np.where((df['Age'] == 2), \"Homebound\", df['JobLabel'])\n",
        "# df['JobLabel'] = np.where((df['Age'] == 3), \"Homebound\", df['JobLabel'])\n"
      ],
      "execution_count": null,
      "outputs": []
    },
    {
      "cell_type": "code",
      "metadata": {
        "id": "7j8LRdton0MX"
      },
      "source": [
        "# for homebound people JobID\n",
        "\n",
        "df.loc[df.JobLabel == \"Homebound\", 'JobID'] = 0"
      ],
      "execution_count": null,
      "outputs": []
    },
    {
      "cell_type": "code",
      "metadata": {
        "id": "BEQggKoXn3xA"
      },
      "source": [
        "# for homebound people- School_id=0, school_lat=nan, school_long=nan, workplace_id=0, W_LAT, W_LON, essential worker=0\n",
        "\n",
        "df.loc[df.JobLabel == \"Homebound\", ['essential_worker', 'WorkPlaceID', 'W_Lat', 'W_Lon', 'school_id', 'school_lat', 'school_long' ]] = [0, 0, np.nan, np.nan, 0, np.nan, np.nan]"
      ],
      "execution_count": null,
      "outputs": []
    },
    {
      "cell_type": "markdown",
      "metadata": {
        "id": "m6rPoFV_JBk8"
      },
      "source": [
        "# Check household sizes"
      ]
    },
    {
      "cell_type": "code",
      "metadata": {
        "id": "0YxaSp2f9Xhe"
      },
      "source": [
        "hh_size = df.groupby(['HHID', 'H_Lat', 'H_Lon']).size().reset_index(name='counts')"
      ],
      "execution_count": null,
      "outputs": []
    },
    {
      "cell_type": "code",
      "metadata": {
        "colab": {
          "base_uri": "https://localhost:8080/"
        },
        "id": "QjofN_uPJkdZ",
        "outputId": "5cb3864d-2e56-47e2-89c9-0189d6674431"
      },
      "source": [
        "# hh_size[hh_size['counts']==1]\n",
        "hh_size['counts'].value_counts()\n"
      ],
      "execution_count": null,
      "outputs": [
        {
          "output_type": "execute_result",
          "data": {
            "text/plain": [
              "4     858021\n",
              "3     698699\n",
              "5     534799\n",
              "2     343981\n",
              "6     265648\n",
              "7     108077\n",
              "9      63016\n",
              "1      58743\n",
              "10     25653\n",
              "8      17597\n",
              "12     14263\n",
              "11       427\n",
              "Name: counts, dtype: int64"
            ]
          },
          "metadata": {
            "tags": []
          },
          "execution_count": 15
        }
      ]
    },
    {
      "cell_type": "markdown",
      "metadata": {
        "id": "RUK1muiLJILB"
      },
      "source": [
        "# Verify "
      ]
    },
    {
      "cell_type": "code",
      "metadata": {
        "colab": {
          "base_uri": "https://localhost:8080/"
        },
        "id": "e8Y6R4XOlCDM",
        "outputId": "642f0570-40d7-4a45-dee1-abca28de35c0"
      },
      "source": [
        "# print((sample_df.groupby('Religion').agg({'JobLabel': ['count']})))\n",
        "# df[df['Age'] == 0]['school_id'].describe()\n",
        "df[df['Age'] < 3]['JobLabel'].describe()\n",
        "# df[df['Age'] < 3]['JobLabel'].unique()"
      ],
      "execution_count": null,
      "outputs": [
        {
          "output_type": "execute_result",
          "data": {
            "text/plain": [
              "count        426914\n",
              "unique            1\n",
              "top       Homebound\n",
              "freq         426914\n",
              "Name: JobLabel, dtype: object"
            ]
          },
          "metadata": {
            "tags": []
          },
          "execution_count": 27
        }
      ]
    },
    {
      "cell_type": "code",
      "metadata": {
        "colab": {
          "base_uri": "https://localhost:8080/"
        },
        "id": "bCirsaWDkpr8",
        "outputId": "51e9ccf9-c46b-4cf4-c35f-f05ec5e8f0d1"
      },
      "source": [
        "# sample_df[sample_df['JobLabel']=='Homebound']['WorkPlaceID']\n",
        "df[df['JobLabel']=='Homebound']['school_lat'].describe()"
      ],
      "execution_count": null,
      "outputs": [
        {
          "output_type": "execute_result",
          "data": {
            "text/plain": [
              "count    0.0\n",
              "mean     NaN\n",
              "std      NaN\n",
              "min      NaN\n",
              "25%      NaN\n",
              "50%      NaN\n",
              "75%      NaN\n",
              "max      NaN\n",
              "Name: school_lat, dtype: float64"
            ]
          },
          "metadata": {
            "tags": []
          },
          "execution_count": 28
        }
      ]
    },
    {
      "cell_type": "code",
      "metadata": {
        "colab": {
          "base_uri": "https://localhost:8080/",
          "height": 317
        },
        "id": "OhERwETEkwTL",
        "outputId": "1329cfb3-ab57-4718-a4dc-152c8e232c82"
      },
      "source": [
        "# sample_df[sample_df['JobLabel']=='Homebound']['school_id']\n",
        "df[df['JobLabel']=='Student'].describe()\n",
        "# df['Age'].describe()"
      ],
      "execution_count": null,
      "outputs": [
        {
          "output_type": "execute_result",
          "data": {
            "text/html": [
              "<div>\n",
              "<style scoped>\n",
              "    .dataframe tbody tr th:only-of-type {\n",
              "        vertical-align: middle;\n",
              "    }\n",
              "\n",
              "    .dataframe tbody tr th {\n",
              "        vertical-align: top;\n",
              "    }\n",
              "\n",
              "    .dataframe thead th {\n",
              "        text-align: right;\n",
              "    }\n",
              "</style>\n",
              "<table border=\"1\" class=\"dataframe\">\n",
              "  <thead>\n",
              "    <tr style=\"text-align: right;\">\n",
              "      <th></th>\n",
              "      <th>Age</th>\n",
              "      <th>Height</th>\n",
              "      <th>Weight</th>\n",
              "      <th>PSUID</th>\n",
              "      <th>M_Fever</th>\n",
              "      <th>M_Cough</th>\n",
              "      <th>M_Diarrhea</th>\n",
              "      <th>M_Cataract</th>\n",
              "      <th>M_TB</th>\n",
              "      <th>M_High_BP</th>\n",
              "      <th>M_Heart_disease</th>\n",
              "      <th>M_Diabetes</th>\n",
              "      <th>M_Leprosy</th>\n",
              "      <th>M_Cancer</th>\n",
              "      <th>M_Asthma</th>\n",
              "      <th>M_Polio</th>\n",
              "      <th>M_Paralysis</th>\n",
              "      <th>M_Epilepsy</th>\n",
              "      <th>JobID</th>\n",
              "      <th>essential_worker</th>\n",
              "      <th>PublicTransport_Jobs</th>\n",
              "      <th>AdminUnitLatitude</th>\n",
              "      <th>AdminUnitLongitude</th>\n",
              "      <th>H_Lat</th>\n",
              "      <th>H_Lon</th>\n",
              "      <th>HHID</th>\n",
              "      <th>Agent_ID</th>\n",
              "      <th>WorkPlaceID</th>\n",
              "      <th>W_Lat</th>\n",
              "      <th>W_Lon</th>\n",
              "      <th>school_id</th>\n",
              "      <th>school_lat</th>\n",
              "      <th>school_long</th>\n",
              "      <th>public_place_id</th>\n",
              "      <th>public_place_lat</th>\n",
              "      <th>public_place_long</th>\n",
              "      <th>Adherence_to_Intervention</th>\n",
              "    </tr>\n",
              "  </thead>\n",
              "  <tbody>\n",
              "    <tr>\n",
              "      <th>count</th>\n",
              "      <td>2.887006e+06</td>\n",
              "      <td>2.887006e+06</td>\n",
              "      <td>2.887006e+06</td>\n",
              "      <td>2.887006e+06</td>\n",
              "      <td>2.887006e+06</td>\n",
              "      <td>2.887006e+06</td>\n",
              "      <td>2.887006e+06</td>\n",
              "      <td>2.887006e+06</td>\n",
              "      <td>2887006.0</td>\n",
              "      <td>2.887006e+06</td>\n",
              "      <td>2.887006e+06</td>\n",
              "      <td>2.887006e+06</td>\n",
              "      <td>2.887006e+06</td>\n",
              "      <td>2.887006e+06</td>\n",
              "      <td>2.887006e+06</td>\n",
              "      <td>2887006.0</td>\n",
              "      <td>2.887006e+06</td>\n",
              "      <td>2.887006e+06</td>\n",
              "      <td>2887006.0</td>\n",
              "      <td>2.887006e+06</td>\n",
              "      <td>2.887006e+06</td>\n",
              "      <td>2.887006e+06</td>\n",
              "      <td>2.887006e+06</td>\n",
              "      <td>2.887006e+06</td>\n",
              "      <td>2.887006e+06</td>\n",
              "      <td>2.887006e+06</td>\n",
              "      <td>2.887006e+06</td>\n",
              "      <td>2887006.0</td>\n",
              "      <td>0.0</td>\n",
              "      <td>0.0</td>\n",
              "      <td>2.887006e+06</td>\n",
              "      <td>2.887006e+06</td>\n",
              "      <td>2.887006e+06</td>\n",
              "      <td>2.887006e+06</td>\n",
              "      <td>2.887006e+06</td>\n",
              "      <td>2.887006e+06</td>\n",
              "      <td>2.887006e+06</td>\n",
              "    </tr>\n",
              "    <tr>\n",
              "      <th>mean</th>\n",
              "      <td>1.158142e+01</td>\n",
              "      <td>1.327420e+02</td>\n",
              "      <td>3.352757e+01</td>\n",
              "      <td>1.199684e+01</td>\n",
              "      <td>4.419804e-04</td>\n",
              "      <td>1.807236e-02</td>\n",
              "      <td>2.990988e-03</td>\n",
              "      <td>7.174561e-03</td>\n",
              "      <td>0.0</td>\n",
              "      <td>1.842740e-04</td>\n",
              "      <td>6.630052e-03</td>\n",
              "      <td>8.721838e-04</td>\n",
              "      <td>1.762379e-03</td>\n",
              "      <td>1.900931e-03</td>\n",
              "      <td>1.537579e-03</td>\n",
              "      <td>0.0</td>\n",
              "      <td>1.166607e-03</td>\n",
              "      <td>1.566398e-02</td>\n",
              "      <td>199.0</td>\n",
              "      <td>1.582574e-02</td>\n",
              "      <td>9.865882e-01</td>\n",
              "      <td>1.909452e+01</td>\n",
              "      <td>7.286438e+01</td>\n",
              "      <td>1.909731e+01</td>\n",
              "      <td>7.286644e+01</td>\n",
              "      <td>7.788645e+10</td>\n",
              "      <td>5.191069e+10</td>\n",
              "      <td>0.0</td>\n",
              "      <td>NaN</td>\n",
              "      <td>NaN</td>\n",
              "      <td>2.001000e+12</td>\n",
              "      <td>1.909931e+01</td>\n",
              "      <td>7.287110e+01</td>\n",
              "      <td>3.001000e+12</td>\n",
              "      <td>1.909980e+01</td>\n",
              "      <td>7.286994e+01</td>\n",
              "      <td>7.466671e-01</td>\n",
              "    </tr>\n",
              "    <tr>\n",
              "      <th>std</th>\n",
              "      <td>4.154930e+00</td>\n",
              "      <td>2.013772e+01</td>\n",
              "      <td>1.199600e+01</td>\n",
              "      <td>6.636016e+00</td>\n",
              "      <td>2.101869e-02</td>\n",
              "      <td>1.332132e-01</td>\n",
              "      <td>5.460808e-02</td>\n",
              "      <td>8.439839e-02</td>\n",
              "      <td>0.0</td>\n",
              "      <td>1.357351e-02</td>\n",
              "      <td>8.115477e-02</td>\n",
              "      <td>2.951988e-02</td>\n",
              "      <td>4.194370e-02</td>\n",
              "      <td>4.355822e-02</td>\n",
              "      <td>3.918183e-02</td>\n",
              "      <td>0.0</td>\n",
              "      <td>3.413570e-02</td>\n",
              "      <td>1.241718e-01</td>\n",
              "      <td>0.0</td>\n",
              "      <td>1.248010e-01</td>\n",
              "      <td>1.150302e-01</td>\n",
              "      <td>7.480968e-02</td>\n",
              "      <td>3.469774e-02</td>\n",
              "      <td>8.148784e-02</td>\n",
              "      <td>3.871937e-02</td>\n",
              "      <td>2.595136e+10</td>\n",
              "      <td>1.002410e+06</td>\n",
              "      <td>0.0</td>\n",
              "      <td>NaN</td>\n",
              "      <td>NaN</td>\n",
              "      <td>1.490913e+04</td>\n",
              "      <td>7.355046e-02</td>\n",
              "      <td>3.780019e-02</td>\n",
              "      <td>1.451996e+03</td>\n",
              "      <td>7.589750e-02</td>\n",
              "      <td>3.743879e-02</td>\n",
              "      <td>2.378362e-01</td>\n",
              "    </tr>\n",
              "    <tr>\n",
              "      <th>min</th>\n",
              "      <td>4.000000e+00</td>\n",
              "      <td>6.086000e+01</td>\n",
              "      <td>7.000929e+00</td>\n",
              "      <td>1.000000e+00</td>\n",
              "      <td>0.000000e+00</td>\n",
              "      <td>0.000000e+00</td>\n",
              "      <td>0.000000e+00</td>\n",
              "      <td>0.000000e+00</td>\n",
              "      <td>0.0</td>\n",
              "      <td>0.000000e+00</td>\n",
              "      <td>0.000000e+00</td>\n",
              "      <td>0.000000e+00</td>\n",
              "      <td>0.000000e+00</td>\n",
              "      <td>0.000000e+00</td>\n",
              "      <td>0.000000e+00</td>\n",
              "      <td>0.0</td>\n",
              "      <td>0.000000e+00</td>\n",
              "      <td>0.000000e+00</td>\n",
              "      <td>199.0</td>\n",
              "      <td>0.000000e+00</td>\n",
              "      <td>0.000000e+00</td>\n",
              "      <td>1.893377e+01</td>\n",
              "      <td>7.281316e+01</td>\n",
              "      <td>1.889476e+01</td>\n",
              "      <td>7.277790e+01</td>\n",
              "      <td>5.190000e+10</td>\n",
              "      <td>5.190898e+10</td>\n",
              "      <td>0.0</td>\n",
              "      <td>NaN</td>\n",
              "      <td>NaN</td>\n",
              "      <td>2.001000e+12</td>\n",
              "      <td>1.890699e+01</td>\n",
              "      <td>7.278713e+01</td>\n",
              "      <td>3.001000e+12</td>\n",
              "      <td>1.890157e+01</td>\n",
              "      <td>7.277718e+01</td>\n",
              "      <td>4.000000e-01</td>\n",
              "    </tr>\n",
              "    <tr>\n",
              "      <th>25%</th>\n",
              "      <td>8.000000e+00</td>\n",
              "      <td>1.199600e+02</td>\n",
              "      <td>2.382183e+01</td>\n",
              "      <td>6.000000e+00</td>\n",
              "      <td>0.000000e+00</td>\n",
              "      <td>0.000000e+00</td>\n",
              "      <td>0.000000e+00</td>\n",
              "      <td>0.000000e+00</td>\n",
              "      <td>0.0</td>\n",
              "      <td>0.000000e+00</td>\n",
              "      <td>0.000000e+00</td>\n",
              "      <td>0.000000e+00</td>\n",
              "      <td>0.000000e+00</td>\n",
              "      <td>0.000000e+00</td>\n",
              "      <td>0.000000e+00</td>\n",
              "      <td>0.0</td>\n",
              "      <td>0.000000e+00</td>\n",
              "      <td>0.000000e+00</td>\n",
              "      <td>199.0</td>\n",
              "      <td>0.000000e+00</td>\n",
              "      <td>1.000000e+00</td>\n",
              "      <td>1.905611e+01</td>\n",
              "      <td>7.284231e+01</td>\n",
              "      <td>1.903644e+01</td>\n",
              "      <td>7.283720e+01</td>\n",
              "      <td>5.190138e+10</td>\n",
              "      <td>5.190984e+10</td>\n",
              "      <td>0.0</td>\n",
              "      <td>NaN</td>\n",
              "      <td>NaN</td>\n",
              "      <td>2.001000e+12</td>\n",
              "      <td>1.904817e+01</td>\n",
              "      <td>7.284123e+01</td>\n",
              "      <td>3.001000e+12</td>\n",
              "      <td>1.904375e+01</td>\n",
              "      <td>7.284085e+01</td>\n",
              "      <td>4.000000e-01</td>\n",
              "    </tr>\n",
              "    <tr>\n",
              "      <th>50%</th>\n",
              "      <td>1.200000e+01</td>\n",
              "      <td>1.369700e+02</td>\n",
              "      <td>3.368819e+01</td>\n",
              "      <td>1.200000e+01</td>\n",
              "      <td>0.000000e+00</td>\n",
              "      <td>0.000000e+00</td>\n",
              "      <td>0.000000e+00</td>\n",
              "      <td>0.000000e+00</td>\n",
              "      <td>0.0</td>\n",
              "      <td>0.000000e+00</td>\n",
              "      <td>0.000000e+00</td>\n",
              "      <td>0.000000e+00</td>\n",
              "      <td>0.000000e+00</td>\n",
              "      <td>0.000000e+00</td>\n",
              "      <td>0.000000e+00</td>\n",
              "      <td>0.0</td>\n",
              "      <td>0.000000e+00</td>\n",
              "      <td>0.000000e+00</td>\n",
              "      <td>199.0</td>\n",
              "      <td>0.000000e+00</td>\n",
              "      <td>1.000000e+00</td>\n",
              "      <td>1.908511e+01</td>\n",
              "      <td>7.285239e+01</td>\n",
              "      <td>1.909475e+01</td>\n",
              "      <td>7.285874e+01</td>\n",
              "      <td>1.038028e+11</td>\n",
              "      <td>5.191065e+10</td>\n",
              "      <td>0.0</td>\n",
              "      <td>NaN</td>\n",
              "      <td>NaN</td>\n",
              "      <td>2.001000e+12</td>\n",
              "      <td>1.909378e+01</td>\n",
              "      <td>7.286523e+01</td>\n",
              "      <td>3.001000e+12</td>\n",
              "      <td>1.909654e+01</td>\n",
              "      <td>7.286310e+01</td>\n",
              "      <td>8.000000e-01</td>\n",
              "    </tr>\n",
              "    <tr>\n",
              "      <th>75%</th>\n",
              "      <td>1.500000e+01</td>\n",
              "      <td>1.479500e+02</td>\n",
              "      <td>4.244530e+01</td>\n",
              "      <td>1.800000e+01</td>\n",
              "      <td>0.000000e+00</td>\n",
              "      <td>0.000000e+00</td>\n",
              "      <td>0.000000e+00</td>\n",
              "      <td>0.000000e+00</td>\n",
              "      <td>0.0</td>\n",
              "      <td>0.000000e+00</td>\n",
              "      <td>0.000000e+00</td>\n",
              "      <td>0.000000e+00</td>\n",
              "      <td>0.000000e+00</td>\n",
              "      <td>0.000000e+00</td>\n",
              "      <td>0.000000e+00</td>\n",
              "      <td>0.0</td>\n",
              "      <td>0.000000e+00</td>\n",
              "      <td>0.000000e+00</td>\n",
              "      <td>199.0</td>\n",
              "      <td>0.000000e+00</td>\n",
              "      <td>1.000000e+00</td>\n",
              "      <td>1.913903e+01</td>\n",
              "      <td>7.287909e+01</td>\n",
              "      <td>1.916159e+01</td>\n",
              "      <td>7.289109e+01</td>\n",
              "      <td>1.038041e+11</td>\n",
              "      <td>5.191163e+10</td>\n",
              "      <td>0.0</td>\n",
              "      <td>NaN</td>\n",
              "      <td>NaN</td>\n",
              "      <td>2.001000e+12</td>\n",
              "      <td>1.915467e+01</td>\n",
              "      <td>7.289867e+01</td>\n",
              "      <td>3.001000e+12</td>\n",
              "      <td>1.915887e+01</td>\n",
              "      <td>7.289644e+01</td>\n",
              "      <td>1.000000e+00</td>\n",
              "    </tr>\n",
              "    <tr>\n",
              "      <th>max</th>\n",
              "      <td>1.800000e+01</td>\n",
              "      <td>1.862800e+02</td>\n",
              "      <td>7.613290e+01</td>\n",
              "      <td>2.300000e+01</td>\n",
              "      <td>1.000000e+00</td>\n",
              "      <td>1.000000e+00</td>\n",
              "      <td>1.000000e+00</td>\n",
              "      <td>1.000000e+00</td>\n",
              "      <td>0.0</td>\n",
              "      <td>1.000000e+00</td>\n",
              "      <td>1.000000e+00</td>\n",
              "      <td>1.000000e+00</td>\n",
              "      <td>1.000000e+00</td>\n",
              "      <td>1.000000e+00</td>\n",
              "      <td>1.000000e+00</td>\n",
              "      <td>0.0</td>\n",
              "      <td>1.000000e+00</td>\n",
              "      <td>1.000000e+00</td>\n",
              "      <td>199.0</td>\n",
              "      <td>1.000000e+00</td>\n",
              "      <td>1.000000e+00</td>\n",
              "      <td>1.923112e+01</td>\n",
              "      <td>7.295092e+01</td>\n",
              "      <td>1.926998e+01</td>\n",
              "      <td>7.297945e+01</td>\n",
              "      <td>1.038055e+11</td>\n",
              "      <td>5.191244e+10</td>\n",
              "      <td>0.0</td>\n",
              "      <td>NaN</td>\n",
              "      <td>NaN</td>\n",
              "      <td>2.001000e+12</td>\n",
              "      <td>1.926707e+01</td>\n",
              "      <td>7.297564e+01</td>\n",
              "      <td>3.001000e+12</td>\n",
              "      <td>1.926750e+01</td>\n",
              "      <td>7.297569e+01</td>\n",
              "      <td>1.000000e+00</td>\n",
              "    </tr>\n",
              "  </tbody>\n",
              "</table>\n",
              "</div>"
            ],
            "text/plain": [
              "                Age        Height  ...  public_place_long  Adherence_to_Intervention\n",
              "count  2.887006e+06  2.887006e+06  ...       2.887006e+06               2.887006e+06\n",
              "mean   1.158142e+01  1.327420e+02  ...       7.286994e+01               7.466671e-01\n",
              "std    4.154930e+00  2.013772e+01  ...       3.743879e-02               2.378362e-01\n",
              "min    4.000000e+00  6.086000e+01  ...       7.277718e+01               4.000000e-01\n",
              "25%    8.000000e+00  1.199600e+02  ...       7.284085e+01               4.000000e-01\n",
              "50%    1.200000e+01  1.369700e+02  ...       7.286310e+01               8.000000e-01\n",
              "75%    1.500000e+01  1.479500e+02  ...       7.289644e+01               1.000000e+00\n",
              "max    1.800000e+01  1.862800e+02  ...       7.297569e+01               1.000000e+00\n",
              "\n",
              "[8 rows x 37 columns]"
            ]
          },
          "metadata": {
            "tags": []
          },
          "execution_count": 29
        }
      ]
    },
    {
      "cell_type": "code",
      "metadata": {
        "colab": {
          "base_uri": "https://localhost:8080/"
        },
        "id": "hhAB9RtToh0I",
        "outputId": "4d94ab22-597e-4f71-b3ae-c65a9f2d43cf"
      },
      "source": [
        "df['M_Fever'].describe()"
      ],
      "execution_count": null,
      "outputs": [
        {
          "output_type": "execute_result",
          "data": {
            "text/plain": [
              "count    1.243961e+07\n",
              "mean     4.523453e-04\n",
              "std      2.126360e-02\n",
              "min      0.000000e+00\n",
              "25%      0.000000e+00\n",
              "50%      0.000000e+00\n",
              "75%      0.000000e+00\n",
              "max      1.000000e+00\n",
              "Name: M_Fever, dtype: float64"
            ]
          },
          "metadata": {
            "tags": []
          },
          "execution_count": 30
        }
      ]
    },
    {
      "cell_type": "markdown",
      "metadata": {
        "id": "3qF100oTJ020"
      },
      "source": [
        "# Check df"
      ]
    },
    {
      "cell_type": "code",
      "metadata": {
        "id": "3qTJymDawxDl"
      },
      "source": [
        "df['Age'].head()"
      ],
      "execution_count": null,
      "outputs": []
    },
    {
      "cell_type": "code",
      "metadata": {
        "id": "wqCdfhgQNgd7"
      },
      "source": [
        "df.info()"
      ],
      "execution_count": null,
      "outputs": []
    },
    {
      "cell_type": "code",
      "metadata": {
        "id": "7R1J726hJqh8"
      },
      "source": [
        "df.head()"
      ],
      "execution_count": null,
      "outputs": []
    },
    {
      "cell_type": "markdown",
      "metadata": {
        "id": "OpgtQzDJJ3tW"
      },
      "source": [
        "# Verify Adherence_to_Intervention"
      ]
    },
    {
      "cell_type": "code",
      "metadata": {
        "id": "pV6__WxQ64GX"
      },
      "source": [
        "var1 = 'Adherence_to_Intervention'\n",
        "print((df[var1].value_counts()))\n",
        "print(df[var1][0:10])\n",
        "print(df[var1].min())\n",
        "df[var1].max()"
      ],
      "execution_count": null,
      "outputs": []
    },
    {
      "cell_type": "markdown",
      "metadata": {
        "id": "AVLNDBVbKH9M"
      },
      "source": [
        "# Verify students"
      ]
    },
    {
      "cell_type": "code",
      "metadata": {
        "colab": {
          "base_uri": "https://localhost:8080/"
        },
        "id": "N4frrplBrU7h",
        "outputId": "df4129b8-383f-4a4d-f75b-e815ed67762c"
      },
      "source": [
        "# JobLabel: Student, JobID: 199 W_LAT and W_LON should be nan\n",
        "\n",
        "print(df[(df.WorkPlaceID==0) & (df.school_id!=0)]['JobID'].describe())\n",
        "\n",
        "# for homebound people: School_id=0, school_lat=nan, school_long=nan, \n",
        "# workplace_id=0, W_LAT=nan, W_LON=nan, \n",
        "# essential worker=0\n",
        "\n",
        "print(df[(df.WorkPlaceID==0) & (df.school_id==0)]['school_lat'].describe())\n",
        "print(df[(df.WorkPlaceID==0) & (df.school_id==0)]['school_long'].describe())\n",
        "\n",
        "print(df[(df.WorkPlaceID==0) & (df.school_id==0)]['WorkPlaceID'].describe())\n",
        "print(df[(df.WorkPlaceID==0) & (df.school_id==0)]['W_Lat'].describe())\n",
        "print(df[(df.WorkPlaceID==0) & (df.school_id==0)]['W_Lon'].describe())\n",
        "\n",
        "print(df[(df.WorkPlaceID==0) & (df.school_id==0)]['essential_worker'].describe())"
      ],
      "execution_count": null,
      "outputs": [
        {
          "output_type": "stream",
          "text": [
            "count    3029582.0\n",
            "mean         199.0\n",
            "std            0.0\n",
            "min          199.0\n",
            "25%          199.0\n",
            "50%          199.0\n",
            "75%          199.0\n",
            "max          199.0\n",
            "Name: JobID, dtype: float64\n",
            "count    0.0\n",
            "mean     NaN\n",
            "std      NaN\n",
            "min      NaN\n",
            "25%      NaN\n",
            "50%      NaN\n",
            "75%      NaN\n",
            "max      NaN\n",
            "Name: school_lat, dtype: float64\n",
            "count    0.0\n",
            "mean     NaN\n",
            "std      NaN\n",
            "min      NaN\n",
            "25%      NaN\n",
            "50%      NaN\n",
            "75%      NaN\n",
            "max      NaN\n",
            "Name: school_long, dtype: float64\n",
            "count    4134458.0\n",
            "mean           0.0\n",
            "std            0.0\n",
            "min            0.0\n",
            "25%            0.0\n",
            "50%            0.0\n",
            "75%            0.0\n",
            "max            0.0\n",
            "Name: WorkPlaceID, dtype: float64\n",
            "count    0.0\n",
            "mean     NaN\n",
            "std      NaN\n",
            "min      NaN\n",
            "25%      NaN\n",
            "50%      NaN\n",
            "75%      NaN\n",
            "max      NaN\n",
            "Name: W_Lat, dtype: float64\n",
            "count    0.0\n",
            "mean     NaN\n",
            "std      NaN\n",
            "min      NaN\n",
            "25%      NaN\n",
            "50%      NaN\n",
            "75%      NaN\n",
            "max      NaN\n",
            "Name: W_Lon, dtype: float64\n",
            "count    4134458.0\n",
            "mean           0.0\n",
            "std            0.0\n",
            "min            0.0\n",
            "25%            0.0\n",
            "50%            0.0\n",
            "75%            0.0\n",
            "max            0.0\n",
            "Name: essential_worker, dtype: float64\n"
          ],
          "name": "stdout"
        }
      ]
    },
    {
      "cell_type": "markdown",
      "metadata": {
        "id": "XrRM5wsBLCyj"
      },
      "source": [
        "[Code for plotting on map from](https://stackoverflow.com/questions/53233228/plot-latitude-longitude-from-csv-in-python-3-6)"
      ]
    },
    {
      "cell_type": "markdown",
      "metadata": {
        "id": "IO0BLoP0JgUQ"
      },
      "source": [
        "[Group by and aggragates](https://jamesrledoux.com/code/group-by-aggregate-pandas)"
      ]
    },
    {
      "cell_type": "markdown",
      "metadata": {
        "id": "MCD7Fb8RTw2N"
      },
      "source": [
        "Print M/F ratio for the entire dataset"
      ]
    },
    {
      "cell_type": "code",
      "metadata": {
        "colab": {
          "base_uri": "https://localhost:8080/",
          "height": 175
        },
        "id": "ufgn6oJ0RuQW",
        "outputId": "3567bdd4-7647-48db-ee10-f549c5f43667"
      },
      "source": [
        "df.groupby('SexLabel').agg({'SexLabel': ['count']})\n",
        "# Sex_Label_Summary = df.groupby('SexLabel').agg({'SexLabel': ['count']}).apply(lambda x: x/x.sum())\n",
        "# Sex_Label_Summary.to_csv('/content/drive/MyDrive/PhD_Data/Synth_Pop/Analysis/Pune_Ward_SexLabel_Summary.csv') "
      ],
      "execution_count": null,
      "outputs": [
        {
          "output_type": "execute_result",
          "data": {
            "text/html": [
              "<div>\n",
              "<style scoped>\n",
              "    .dataframe tbody tr th:only-of-type {\n",
              "        vertical-align: middle;\n",
              "    }\n",
              "\n",
              "    .dataframe tbody tr th {\n",
              "        vertical-align: top;\n",
              "    }\n",
              "\n",
              "    .dataframe thead tr th {\n",
              "        text-align: left;\n",
              "    }\n",
              "\n",
              "    .dataframe thead tr:last-of-type th {\n",
              "        text-align: right;\n",
              "    }\n",
              "</style>\n",
              "<table border=\"1\" class=\"dataframe\">\n",
              "  <thead>\n",
              "    <tr>\n",
              "      <th></th>\n",
              "      <th>SexLabel</th>\n",
              "    </tr>\n",
              "    <tr>\n",
              "      <th></th>\n",
              "      <th>count</th>\n",
              "    </tr>\n",
              "    <tr>\n",
              "      <th>SexLabel</th>\n",
              "      <th></th>\n",
              "    </tr>\n",
              "  </thead>\n",
              "  <tbody>\n",
              "    <tr>\n",
              "      <th>Female</th>\n",
              "      <td>6449084</td>\n",
              "    </tr>\n",
              "    <tr>\n",
              "      <th>Male</th>\n",
              "      <td>5990527</td>\n",
              "    </tr>\n",
              "  </tbody>\n",
              "</table>\n",
              "</div>"
            ],
            "text/plain": [
              "         SexLabel\n",
              "            count\n",
              "SexLabel         \n",
              "Female    6449084\n",
              "Male      5990527"
            ]
          },
          "metadata": {
            "tags": []
          },
          "execution_count": 90
        }
      ]
    },
    {
      "cell_type": "code",
      "metadata": {
        "colab": {
          "base_uri": "https://localhost:8080/",
          "height": 175
        },
        "id": "SRuALRlUEjYY",
        "outputId": "baeb48ab-428d-4d33-ceb5-a088b5857475"
      },
      "source": [
        "Sex_Label_Summary"
      ],
      "execution_count": null,
      "outputs": [
        {
          "output_type": "execute_result",
          "data": {
            "text/html": [
              "<div>\n",
              "<style scoped>\n",
              "    .dataframe tbody tr th:only-of-type {\n",
              "        vertical-align: middle;\n",
              "    }\n",
              "\n",
              "    .dataframe tbody tr th {\n",
              "        vertical-align: top;\n",
              "    }\n",
              "\n",
              "    .dataframe thead tr th {\n",
              "        text-align: left;\n",
              "    }\n",
              "\n",
              "    .dataframe thead tr:last-of-type th {\n",
              "        text-align: right;\n",
              "    }\n",
              "</style>\n",
              "<table border=\"1\" class=\"dataframe\">\n",
              "  <thead>\n",
              "    <tr>\n",
              "      <th></th>\n",
              "      <th>SexLabel</th>\n",
              "    </tr>\n",
              "    <tr>\n",
              "      <th></th>\n",
              "      <th>count</th>\n",
              "    </tr>\n",
              "    <tr>\n",
              "      <th>SexLabel</th>\n",
              "      <th></th>\n",
              "    </tr>\n",
              "  </thead>\n",
              "  <tbody>\n",
              "    <tr>\n",
              "      <th>Female</th>\n",
              "      <td>0.518</td>\n",
              "    </tr>\n",
              "    <tr>\n",
              "      <th>Male</th>\n",
              "      <td>0.482</td>\n",
              "    </tr>\n",
              "  </tbody>\n",
              "</table>\n",
              "</div>"
            ],
            "text/plain": [
              "         SexLabel\n",
              "            count\n",
              "SexLabel         \n",
              "Female      0.518\n",
              "Male        0.482"
            ]
          },
          "metadata": {
            "tags": []
          },
          "execution_count": 89
        }
      ]
    },
    {
      "cell_type": "code",
      "metadata": {
        "id": "2T8s8tukjmgr"
      },
      "source": [
        "Sex_Label_Summary.to_csv('/content/drive/MyDrive/PhD_Data/Synth_Pop/Analysis/Mumbai_SexLabel_Summary.csv') "
      ],
      "execution_count": null,
      "outputs": []
    },
    {
      "cell_type": "code",
      "metadata": {
        "colab": {
          "base_uri": "https://localhost:8080/"
        },
        "id": "bLmg2EVyCvdk",
        "outputId": "49da1422-5714-479d-c917-8cc8dcccc0b9"
      },
      "source": [
        "# Count the no of wards in Mumbai- should be 24\n",
        "\n",
        "len(df['AdminUnitName'].value_counts())\n",
        "# df['AdminUnitName'].value_counts()\n",
        "# df.shape\n",
        "# len(sample_df['AdminUnitName'].value_counts())"
      ],
      "execution_count": null,
      "outputs": [
        {
          "output_type": "execute_result",
          "data": {
            "text/plain": [
              "24"
            ]
          },
          "metadata": {
            "tags": []
          },
          "execution_count": 70
        }
      ]
    },
    {
      "cell_type": "markdown",
      "metadata": {
        "id": "ZEN6GxEDPCje"
      },
      "source": [
        "#Ward-wise map of Mumbai\n"
      ]
    },
    {
      "cell_type": "code",
      "metadata": {
        "colab": {
          "base_uri": "https://localhost:8080/"
        },
        "id": "Uxa3bnzjQhxP",
        "outputId": "5c4c4ce7-96dc-4823-9ea6-6818ae40e665"
      },
      "source": [
        "# !pwd\n",
        "!ls"
      ],
      "execution_count": null,
      "outputs": [
        {
          "output_type": "stream",
          "text": [
            "mumbai_123.tar.gz\t\t\tMumbai_Synthpop_2021_05_23-02:29:38_PM\n",
            "Mumbai_Add_Height_Weight_Homebound.csv\tMumbai_Synthpop_v1.csv\n",
            "mumbai_apply_final_fixes.csv\t\tMumbai_Synthpop_v1.tar.gz\n"
          ],
          "name": "stdout"
        }
      ]
    },
    {
      "cell_type": "code",
      "metadata": {
        "colab": {
          "base_uri": "https://localhost:8080/"
        },
        "id": "jOHrmMO0QnPD",
        "outputId": "3b2795b6-7ef0-4679-bd2b-ff97b26e341c"
      },
      "source": [
        "df.info()"
      ],
      "execution_count": null,
      "outputs": [
        {
          "output_type": "stream",
          "text": [
            "<class 'pandas.core.frame.DataFrame'>\n",
            "Int64Index: 12439611 entries, 8313125 to 2049036\n",
            "Data columns (total 45 columns):\n",
            " #   Column                     Dtype  \n",
            "---  ------                     -----  \n",
            " 0   SexLabel                   object \n",
            " 1   Age                        int64  \n",
            " 2   Religion                   object \n",
            " 3   Caste                      object \n",
            " 4   HHID                       int64  \n",
            " 5   H_Lat                      float64\n",
            " 6   H_Lon                      float64\n",
            " 7   AdminUnitName              object \n",
            " 8   AdminUnitLatitude          float64\n",
            " 9   AdminUnitLongitude         float64\n",
            " 10  JobLabel                   object \n",
            " 11  JobID                      int64  \n",
            " 12  essential_worker           int64  \n",
            " 13  PublicTransport_Jobs       int64  \n",
            " 14  Adherence_to_Intervention  float64\n",
            " 15  WorksAtSameCategory        object \n",
            " 16  WorkPlaceID                int64  \n",
            " 17  W_Lat                      float64\n",
            " 18  W_Lon                      float64\n",
            " 19  school_id                  int64  \n",
            " 20  school_lat                 float64\n",
            " 21  school_long                float64\n",
            " 22  public_place_id            int64  \n",
            " 23  public_place_lat           float64\n",
            " 24  public_place_long          float64\n",
            " 25  StateLabel                 object \n",
            " 26  PSUID                      int64  \n",
            " 27  Agent_ID                   int64  \n",
            " 28  District                   object \n",
            " 29  M_Fever                    int64  \n",
            " 30  M_Cough                    int64  \n",
            " 31  M_Diarrhea                 int64  \n",
            " 32  M_Cataract                 int64  \n",
            " 33  M_TB                       int64  \n",
            " 34  M_High_BP                  int64  \n",
            " 35  M_Heart_disease            int64  \n",
            " 36  M_Diabetes                 int64  \n",
            " 37  M_Leprosy                  int64  \n",
            " 38  M_Cancer                   int64  \n",
            " 39  M_Asthma                   int64  \n",
            " 40  M_Polio                    int64  \n",
            " 41  M_Paralysis                int64  \n",
            " 42  M_Epilepsy                 int64  \n",
            " 43  Weight                     float64\n",
            " 44  Height                     float64\n",
            "dtypes: float64(13), int64(24), object(8)\n",
            "memory usage: 4.6+ GB\n"
          ],
          "name": "stdout"
        }
      ]
    },
    {
      "cell_type": "markdown",
      "metadata": {
        "id": "xcxwkmGJDuv3"
      },
      "source": [
        "# Save the current df on to the cloud "
      ]
    },
    {
      "cell_type": "code",
      "metadata": {
        "colab": {
          "base_uri": "https://localhost:8080/"
        },
        "id": "ySaF-3YZkovH",
        "outputId": "06e1f1bc-474c-4399-b107-29ac736a5154"
      },
      "source": [
        "# !pwd\n",
        "# %cd ./checkpoints/\n",
        "!ls -lth ./checkpoints/"
      ],
      "execution_count": null,
      "outputs": [
        {
          "output_type": "stream",
          "text": [
            "total 21G\n",
            "-rw------- 1 root root 3.0G May 25 22:59 Mumbai_Synthpop_2021_05_25-10:59:19_PM\n",
            "-rw------- 1 root root 3.0G May 25 18:10 Mumbai_Synthpop_2021_05_25-06:10:37_PM\n",
            "-rw------- 1 root root 3.0G May 25 16:54 Mumbai_Synthpop_2021_05_25-04:54:26_PM\n",
            "-rw------- 1 root root 3.0G May 25 15:56 Mumbai_Synthpop_2021_05_25-03:56:27_PM\n",
            "-rw------- 1 root root 3.0G May 23 15:07 Mumbai_Synthpop_2021_05_23-02:29:38_PM.csv\n",
            "-rw------- 1 root root 2.9G May 23 15:06 Mumbai_Synthpop_2021_05_23-02:52:27_PM.csv\n",
            "-rw------- 1 root root  45M May 23 12:39 Mumbai_Add_Height_Weight_Homebound.csv\n",
            "-rw------- 1 root root 2.7G May 23 10:18 mumbai_apply_final_fixes.csv\n",
            "-rw------- 1 root root 668M May 23 06:13 mumbai_123.tar.gz\n"
          ],
          "name": "stdout"
        }
      ]
    },
    {
      "cell_type": "code",
      "metadata": {
        "id": "piJTDm5kQeld"
      },
      "source": [
        "from datetime import datetime\n",
        "\n",
        "date = datetime.now().strftime(\"%Y_%m_%d-%I:%M:%S_%p\")\n",
        "fname = f\"Mumbai_Synthpop_{date}\"\n",
        "\n",
        "df.to_csv(fname, index=False)\n",
        "\n",
        "# Takes around 5 minutes"
      ],
      "execution_count": null,
      "outputs": []
    },
    {
      "cell_type": "markdown",
      "metadata": {
        "id": "eElytyKdptV_"
      },
      "source": [
        "# Prepare ward-wise statistics"
      ]
    },
    {
      "cell_type": "code",
      "metadata": {
        "colab": {
          "base_uri": "https://localhost:8080/"
        },
        "id": "RIGVbe4hrXuf",
        "outputId": "309e3640-4253-4173-8316-b2cbd1ce2d7c"
      },
      "source": [
        "!pwd"
      ],
      "execution_count": null,
      "outputs": [
        {
          "output_type": "stream",
          "text": [
            "/content/drive/My Drive/PhD_Data/Synth_Pop/Mumbai\n"
          ],
          "name": "stdout"
        }
      ]
    },
    {
      "cell_type": "code",
      "metadata": {
        "id": "OqcEQfpBuFiD"
      },
      "source": [
        "df.info()"
      ],
      "execution_count": null,
      "outputs": []
    },
    {
      "cell_type": "code",
      "metadata": {
        "id": "KGu8BZLWpsJB"
      },
      "source": [
        "# df.head()\n",
        "ward_wise = df[['AdminUnitName', 'SexLabel', 'Age', 'Height', 'Weight', 'HHID', 'JobLabel','WorkPlaceID', 'W_Lat', 'W_Lon', 'essential_worker','PublicTransport_Jobs','school_id','school_lat', 'school_long', 'Adherence_to_Intervention']]"
      ],
      "execution_count": null,
      "outputs": []
    },
    {
      "cell_type": "code",
      "metadata": {
        "id": "aEe57IASt0Ok"
      },
      "source": [
        "# ward_wise.info()\n",
        "ward_wise.groupby('AdminUnitName').count()\n"
      ],
      "execution_count": null,
      "outputs": []
    },
    {
      "cell_type": "code",
      "metadata": {
        "id": "XLtknxcC7hWk"
      },
      "source": [
        "# ward_T = ward_wise[ward_wise['AdminUnitName'] =='T']"
      ],
      "execution_count": null,
      "outputs": []
    },
    {
      "cell_type": "code",
      "metadata": {
        "id": "OYRgKDOR7sIW"
      },
      "source": [
        "ward_T[ward_T['JobLabel']=='Homebound']\n",
        "ward_T['Age'].mean()\n",
        "ward_T['Height'].mean()\n",
        "ward_T[ward_T['essential_worker']==1]\n",
        "ward_T[ward_T['PublicTransport_Jobs']==1]"
      ],
      "execution_count": null,
      "outputs": []
    },
    {
      "cell_type": "code",
      "metadata": {
        "colab": {
          "base_uri": "https://localhost:8080/"
        },
        "id": "OTi9ZLq68sMA",
        "outputId": "ec051c8a-ed8a-40e3-8e1f-330f4210015a"
      },
      "source": [
        "# len(ward_T[ward_T['WorkPlaceID'] !=0]['WorkPlaceID'].unique())\n",
        "# len(ward_T['HHID'].unique())\n",
        "ward_T['Adherence_to_Intervention'].mean()"
      ],
      "execution_count": null,
      "outputs": [
        {
          "output_type": "execute_result",
          "data": {
            "text/plain": [
              "0.5782100665802082"
            ]
          },
          "metadata": {
            "tags": []
          },
          "execution_count": 124
        }
      ]
    },
    {
      "cell_type": "markdown",
      "metadata": {
        "id": "5wsNdTCNECgw"
      },
      "source": [
        "# Get 10k synthpop from a ward"
      ]
    },
    {
      "cell_type": "code",
      "metadata": {
        "id": "R_wXItmgEKLO"
      },
      "source": [
        "ward_B = df[df['AdminUnitName'] =='B']"
      ],
      "execution_count": null,
      "outputs": []
    },
    {
      "cell_type": "code",
      "metadata": {
        "id": "mno1aBYDJbKT",
        "colab": {
          "base_uri": "https://localhost:8080/"
        },
        "outputId": "d42d88e2-a700-40b0-9a69-97e9d9e90348"
      },
      "source": [
        "ward_B.shape"
      ],
      "execution_count": null,
      "outputs": [
        {
          "output_type": "execute_result",
          "data": {
            "text/plain": [
              "(127266, 45)"
            ]
          },
          "metadata": {
            "tags": []
          },
          "execution_count": 96
        }
      ]
    },
    {
      "cell_type": "code",
      "metadata": {
        "id": "srvwIkDBEOJp"
      },
      "source": [
        "for_10k_HH = ward_B['HHID'].unique()[0:2500]"
      ],
      "execution_count": null,
      "outputs": []
    },
    {
      "cell_type": "code",
      "metadata": {
        "id": "BwJy4YNJEW6J"
      },
      "source": [
        "ward_B_10k = ward_B[ward_B['HHID'].isin(for_10k_HH)]"
      ],
      "execution_count": null,
      "outputs": []
    },
    {
      "cell_type": "markdown",
      "metadata": {
        "id": "49Hc0Yx9F148"
      },
      "source": [
        "ward_B_10k has 10349 rows with 2370 students, 4380 workers, 3599 homebound population\n",
        " "
      ]
    },
    {
      "cell_type": "code",
      "metadata": {
        "id": "ulDJBhA0GgBS"
      },
      "source": [
        "ward_B_10k.info()"
      ],
      "execution_count": null,
      "outputs": []
    },
    {
      "cell_type": "code",
      "metadata": {
        "colab": {
          "base_uri": "https://localhost:8080/"
        },
        "id": "HaMrGgkCFfDS",
        "outputId": "5cec5dc0-2dc1-4497-9c33-c8dd8ec5211c"
      },
      "source": [
        "# ward_B_10k[ward_B_10k['WorkPlaceID'] != 0].describe()\n",
        "# ward_B_10k['WorkPlaceID']\n",
        "ward_B_10k[ward_B_10k['JobLabel'] == 'Homebound']['school_id'].describe()"
      ],
      "execution_count": null,
      "outputs": [
        {
          "output_type": "execute_result",
          "data": {
            "text/plain": [
              "count    3599.0\n",
              "mean        0.0\n",
              "std         0.0\n",
              "min         0.0\n",
              "25%         0.0\n",
              "50%         0.0\n",
              "75%         0.0\n",
              "max         0.0\n",
              "Name: school_id, dtype: float64"
            ]
          },
          "metadata": {
            "tags": []
          },
          "execution_count": 89
        }
      ]
    },
    {
      "cell_type": "code",
      "metadata": {
        "colab": {
          "base_uri": "https://localhost:8080/"
        },
        "id": "mo4wB1NLIcxP",
        "outputId": "0a6bae19-26bf-4cd5-c9b9-5bd7bd61468f"
      },
      "source": [
        "!pwd"
      ],
      "execution_count": null,
      "outputs": [
        {
          "output_type": "stream",
          "text": [
            "/content/drive/My Drive/PhD_Data/Synth_Pop/Mumbai\n"
          ],
          "name": "stdout"
        }
      ]
    },
    {
      "cell_type": "code",
      "metadata": {
        "id": "f6rivz5EIPKy"
      },
      "source": [
        "ward_B_10k.to_csv(\"ward_B_10k.csv\",index=False)\n"
      ],
      "execution_count": null,
      "outputs": []
    },
    {
      "cell_type": "markdown",
      "metadata": {
        "id": "FkbvVl_l4Y4D"
      },
      "source": [
        "# Get ward-wise count of Households (unique)"
      ]
    },
    {
      "cell_type": "code",
      "metadata": {
        "id": "SF1xEx6h24W8"
      },
      "source": [
        "# ward_wise.groupby(['AdminUnitName'])['HHID'].unique().reset_index()\n",
        "# .reset_index().to_csv(\"ward_wise_SexLabel.csv\n",
        "\n",
        "ward_wise.groupby(['AdminUnitName']).agg({\"HHID\": \"nunique\"}).reset_index().to_csv(\"ward_wise_HH.csv\")"
      ],
      "execution_count": null,
      "outputs": []
    },
    {
      "cell_type": "code",
      "metadata": {
        "id": "Yj3u_e47umq1"
      },
      "source": [
        "# ward_wise.groupby(['AdminUnitName', 'SexLabel']).count().reset_index().to_csv(\"ward_wise_SexLabel.csv\")"
      ],
      "execution_count": null,
      "outputs": []
    },
    {
      "cell_type": "markdown",
      "metadata": {
        "id": "RZF87JTR5IRP"
      },
      "source": [
        "# Get ward-wise count of Workplaces (unique)"
      ]
    },
    {
      "cell_type": "code",
      "metadata": {
        "id": "WmHQ1criwp68"
      },
      "source": [
        "# ward_wise.groupby(['AdminUnitName', 'JobLabel'=='Homebound']).count()\n",
        "ward_wise_wkplace = ward_wise[ward_wise['WorkPlaceID'] != 0]\n",
        "# ward_wise_essential_worker = ward_wise[ward_wise['essential_worker'] == 1]"
      ],
      "execution_count": null,
      "outputs": []
    },
    {
      "cell_type": "code",
      "metadata": {
        "id": "H9GZ6xjb4tbi"
      },
      "source": [
        "ward_wise_wkplace.groupby(['AdminUnitName']).agg({\"WorkPlaceID\": \"nunique\"}).reset_index().to_csv(\"ward_wise_uniq_wkplace.csv\")"
      ],
      "execution_count": null,
      "outputs": []
    },
    {
      "cell_type": "markdown",
      "metadata": {
        "id": "AJ4GdExN5NmM"
      },
      "source": [
        "# Get ward-wise count of Schools (unique)\n",
        "\n",
        "---\n",
        "\n"
      ]
    },
    {
      "cell_type": "code",
      "metadata": {
        "id": "vWiTt01GOJyp"
      },
      "source": [
        "df.info()"
      ],
      "execution_count": null,
      "outputs": []
    },
    {
      "cell_type": "code",
      "metadata": {
        "id": "V1xVhVWb5L1Y"
      },
      "source": [
        "# ward_wise_school = ward_wise[ward_wise['school_id'] != 0]\n",
        "ward_wise_wkplcae = ward_wise[ward_wise['WorkPlaceID'] != 0]"
      ],
      "execution_count": null,
      "outputs": []
    },
    {
      "cell_type": "code",
      "metadata": {
        "id": "Dyg7aulB5XPt"
      },
      "source": [
        "# ward_wise_school.groupby(['school_id']).agg({\"school_id\": \"nunique\"}).reset_index().to_csv(\"ward_wise_uniq_schools.csv\")\n",
        "\n",
        "ward_wise_wkplcae_plot = ward_wise_wkplcae.groupby(['WorkPlaceID','W_Lat','W_Lon']).size().reset_index()"
      ],
      "execution_count": null,
      "outputs": []
    },
    {
      "cell_type": "code",
      "metadata": {
        "id": "OgSaNjjpJwRN"
      },
      "source": [
        "# del gdf, geometry"
      ],
      "execution_count": null,
      "outputs": []
    },
    {
      "cell_type": "code",
      "metadata": {
        "id": "9bAYKb0fGedl"
      },
      "source": [
        "geometry = [Point(xy) for xy in zip(ward_wise_wkplcae_plot['W_Lon'], ward_wise_wkplcae_plot['W_Lat'])]\n",
        "gdf_1 = GeoDataFrame(ward_wise_wkplcae_plot, geometry=geometry)  "
      ],
      "execution_count": null,
      "outputs": []
    },
    {
      "cell_type": "code",
      "metadata": {
        "id": "C52TRcy5I6gJ"
      },
      "source": [
        "gdf_1['ward']='NA'"
      ],
      "execution_count": null,
      "outputs": []
    },
    {
      "cell_type": "code",
      "metadata": {
        "colab": {
          "base_uri": "https://localhost:8080/",
          "height": 424
        },
        "id": "-c0Ty8YKJHGM",
        "outputId": "fcf201d3-5734-45c3-d04d-67c0dac33dc8"
      },
      "source": [
        "# gdf_1=None, gdf=None \n",
        "# gdf=None\n",
        "# gdf_1=None\n",
        "# gdf_1.iloc[0][]\n",
        "# geometry\n",
        "gdf_1"
      ],
      "execution_count": null,
      "outputs": [
        {
          "output_type": "execute_result",
          "data": {
            "text/html": [
              "<div>\n",
              "<style scoped>\n",
              "    .dataframe tbody tr th:only-of-type {\n",
              "        vertical-align: middle;\n",
              "    }\n",
              "\n",
              "    .dataframe tbody tr th {\n",
              "        vertical-align: top;\n",
              "    }\n",
              "\n",
              "    .dataframe thead th {\n",
              "        text-align: right;\n",
              "    }\n",
              "</style>\n",
              "<table border=\"1\" class=\"dataframe\">\n",
              "  <thead>\n",
              "    <tr style=\"text-align: right;\">\n",
              "      <th></th>\n",
              "      <th>WorkPlaceID</th>\n",
              "      <th>W_Lat</th>\n",
              "      <th>W_Lon</th>\n",
              "      <th>0</th>\n",
              "      <th>geometry</th>\n",
              "      <th>ward</th>\n",
              "    </tr>\n",
              "  </thead>\n",
              "  <tbody>\n",
              "    <tr>\n",
              "      <th>0</th>\n",
              "      <td>2001000000000</td>\n",
              "      <td>19.03551</td>\n",
              "      <td>72.84752</td>\n",
              "      <td>186</td>\n",
              "      <td>POINT (72.84752 19.03551)</td>\n",
              "      <td>NA</td>\n",
              "    </tr>\n",
              "    <tr>\n",
              "      <th>1</th>\n",
              "      <td>2001000000001</td>\n",
              "      <td>19.04759</td>\n",
              "      <td>72.94171</td>\n",
              "      <td>4</td>\n",
              "      <td>POINT (72.94171 19.04759)</td>\n",
              "      <td>NA</td>\n",
              "    </tr>\n",
              "    <tr>\n",
              "      <th>2</th>\n",
              "      <td>2001000000002</td>\n",
              "      <td>19.17242</td>\n",
              "      <td>72.93762</td>\n",
              "      <td>91</td>\n",
              "      <td>POINT (72.93762 19.17242)</td>\n",
              "      <td>NA</td>\n",
              "    </tr>\n",
              "    <tr>\n",
              "      <th>3</th>\n",
              "      <td>2001000000003</td>\n",
              "      <td>19.06773</td>\n",
              "      <td>72.89867</td>\n",
              "      <td>6</td>\n",
              "      <td>POINT (72.89867 19.06773)</td>\n",
              "      <td>NA</td>\n",
              "    </tr>\n",
              "    <tr>\n",
              "      <th>4</th>\n",
              "      <td>2001000000004</td>\n",
              "      <td>19.13743</td>\n",
              "      <td>72.86147</td>\n",
              "      <td>160</td>\n",
              "      <td>POINT (72.86147 19.13743)</td>\n",
              "      <td>NA</td>\n",
              "    </tr>\n",
              "    <tr>\n",
              "      <th>...</th>\n",
              "      <td>...</td>\n",
              "      <td>...</td>\n",
              "      <td>...</td>\n",
              "      <td>...</td>\n",
              "      <td>...</td>\n",
              "      <td>...</td>\n",
              "    </tr>\n",
              "    <tr>\n",
              "      <th>50981</th>\n",
              "      <td>2001000051042</td>\n",
              "      <td>19.07252</td>\n",
              "      <td>72.91770</td>\n",
              "      <td>130</td>\n",
              "      <td>POINT (72.91770 19.07252)</td>\n",
              "      <td>NA</td>\n",
              "    </tr>\n",
              "    <tr>\n",
              "      <th>50982</th>\n",
              "      <td>2001000051043</td>\n",
              "      <td>19.00052</td>\n",
              "      <td>72.89648</td>\n",
              "      <td>109</td>\n",
              "      <td>POINT (72.89648 19.00052)</td>\n",
              "      <td>NA</td>\n",
              "    </tr>\n",
              "    <tr>\n",
              "      <th>50983</th>\n",
              "      <td>2001000051044</td>\n",
              "      <td>19.02642</td>\n",
              "      <td>72.85341</td>\n",
              "      <td>145</td>\n",
              "      <td>POINT (72.85341 19.02642)</td>\n",
              "      <td>NA</td>\n",
              "    </tr>\n",
              "    <tr>\n",
              "      <th>50984</th>\n",
              "      <td>2001000051045</td>\n",
              "      <td>19.03415</td>\n",
              "      <td>72.93166</td>\n",
              "      <td>116</td>\n",
              "      <td>POINT (72.93166 19.03415)</td>\n",
              "      <td>NA</td>\n",
              "    </tr>\n",
              "    <tr>\n",
              "      <th>50985</th>\n",
              "      <td>2001000051046</td>\n",
              "      <td>19.07858</td>\n",
              "      <td>72.94153</td>\n",
              "      <td>91</td>\n",
              "      <td>POINT (72.94153 19.07858)</td>\n",
              "      <td>NA</td>\n",
              "    </tr>\n",
              "  </tbody>\n",
              "</table>\n",
              "<p>50986 rows × 6 columns</p>\n",
              "</div>"
            ],
            "text/plain": [
              "         WorkPlaceID     W_Lat     W_Lon    0                   geometry ward\n",
              "0      2001000000000  19.03551  72.84752  186  POINT (72.84752 19.03551)   NA\n",
              "1      2001000000001  19.04759  72.94171    4  POINT (72.94171 19.04759)   NA\n",
              "2      2001000000002  19.17242  72.93762   91  POINT (72.93762 19.17242)   NA\n",
              "3      2001000000003  19.06773  72.89867    6  POINT (72.89867 19.06773)   NA\n",
              "4      2001000000004  19.13743  72.86147  160  POINT (72.86147 19.13743)   NA\n",
              "...              ...       ...       ...  ...                        ...  ...\n",
              "50981  2001000051042  19.07252  72.91770  130  POINT (72.91770 19.07252)   NA\n",
              "50982  2001000051043  19.00052  72.89648  109  POINT (72.89648 19.00052)   NA\n",
              "50983  2001000051044  19.02642  72.85341  145  POINT (72.85341 19.02642)   NA\n",
              "50984  2001000051045  19.03415  72.93166  116  POINT (72.93166 19.03415)   NA\n",
              "50985  2001000051046  19.07858  72.94153   91  POINT (72.94153 19.07858)   NA\n",
              "\n",
              "[50986 rows x 6 columns]"
            ]
          },
          "metadata": {
            "tags": []
          },
          "execution_count": 223
        }
      ]
    },
    {
      "cell_type": "code",
      "metadata": {
        "colab": {
          "base_uri": "https://localhost:8080/"
        },
        "id": "tZwNdxKkGnSJ",
        "outputId": "f95e45be-d532-4ffd-e474-9ebed2d56fc7"
      },
      "source": [
        "!ls ../Analysis/Source_Files/Mumbai_Ward_Shape_Files/"
      ],
      "execution_count": null,
      "outputs": [
        {
          "output_type": "stream",
          "text": [
            "Mumbai.dbf  Mumbai.prj\tMumbai.shp  Mumbai.shx\tmumbai_wards.geojson\n"
          ],
          "name": "stdout"
        }
      ]
    },
    {
      "cell_type": "code",
      "metadata": {
        "id": "EAARr8ZrG01C"
      },
      "source": [
        "world = gpd.read_file('/content/drive/MyDrive/PhD_Data/Synth_Pop/Analysis/Source_Files/Mumbai_Ward_Shape_Files/mumbai_wards.geojson')"
      ],
      "execution_count": null,
      "outputs": []
    },
    {
      "cell_type": "code",
      "metadata": {
        "id": "df0mpMNAPZNj"
      },
      "source": [
        "import tqdm"
      ],
      "execution_count": null,
      "outputs": []
    },
    {
      "cell_type": "code",
      "metadata": {
        "id": "J4ZBciAlHF2T"
      },
      "source": [
        "# dir(geometry[0])\n",
        "# geometry[0].within(world.iloc[0]['geometry'])\n",
        "count = []\n",
        "for i in tqdm(range(len(geometry))):\n",
        "  for j in range(len(world)):\n",
        "    if geometry[i].within(world.iloc[j]['geometry']):\n",
        "      count.append([gdf_1.loc[i]['WorkPlaceID'], world.iloc[j]['name']])\n",
        "\n",
        "      # gdf_1.iloc[i]['ward'] = world.iloc[j]['name']\n",
        "# world.iloc[1]['geometry']\n",
        "\n",
        "# pd.DataFrame(count).to_csv(\"ward_wise_schools_loc.csv\")"
      ],
      "execution_count": null,
      "outputs": []
    },
    {
      "cell_type": "code",
      "metadata": {
        "id": "mnVNPhpQNZUl"
      },
      "source": [
        "# school_df = pd.DataFrame(count)\n",
        "wkplace_df = pd.DataFrame(count)"
      ],
      "execution_count": null,
      "outputs": []
    },
    {
      "cell_type": "code",
      "metadata": {
        "colab": {
          "base_uri": "https://localhost:8080/"
        },
        "id": "RyVrRYmxO1Oq",
        "outputId": "431f651f-9a74-43e2-ad29-e56e8eaf51e6"
      },
      "source": [
        "# %cd /content\n",
        "!ls"
      ],
      "execution_count": null,
      "outputs": [
        {
          "output_type": "stream",
          "text": [
            " checkpoints\t\t\t       Mumbai_Synthpop_v1_2.tar.gz\n",
            " Mumbai_Synthpop_v1_1.csv\t       Mumbai_Synthpop_v1.tar.gz\n",
            " Mumbai_Synthpop_v1_1_Sample_10k.csv   Mumbai_Ward_Wise_Stats.csv\n",
            " Mumbai_Synthpop_v1_1.tar.gz\t      'Test Data'\n",
            " Mumbai_Synthpop_v1_2.csv\t       ward_wise_schools_loc.csv\n",
            " Mumbai_Synthpop_v1_2_Sample_10k.csv\n"
          ],
          "name": "stdout"
        }
      ]
    },
    {
      "cell_type": "code",
      "metadata": {
        "id": "7OaQsoM1NcwF"
      },
      "source": [
        "wkplace_df.groupby(1).count().to_csv(\"ward_wise_wkplace_loc\")\n",
        "# school_df.info()"
      ],
      "execution_count": null,
      "outputs": []
    },
    {
      "cell_type": "code",
      "metadata": {
        "colab": {
          "base_uri": "https://localhost:8080/",
          "height": 36
        },
        "id": "pX7DiX7JIqy6",
        "outputId": "d3841f79-1023-4508-800c-814d8a6ce20e"
      },
      "source": [
        "# world.iloc[1]['name']"
      ],
      "execution_count": null,
      "outputs": [
        {
          "output_type": "execute_result",
          "data": {
            "application/vnd.google.colaboratory.intrinsic+json": {
              "type": "string"
            },
            "text/plain": [
              "'B'"
            ]
          },
          "metadata": {
            "tags": []
          },
          "execution_count": 194
        }
      ]
    },
    {
      "cell_type": "markdown",
      "metadata": {
        "id": "NBtaMsz55iPA"
      },
      "source": [
        "# Get ward-wise count of essential workers\n"
      ]
    },
    {
      "cell_type": "code",
      "metadata": {
        "id": "wS8NQ1pQ5dXx"
      },
      "source": [
        "ward_wise_school = ward_wise[ward_wise['essential_worker'] != 0]"
      ],
      "execution_count": null,
      "outputs": []
    },
    {
      "cell_type": "code",
      "metadata": {
        "id": "BEaEkmyQya5r"
      },
      "source": [
        "ward_wise_essential_worker.groupby(['AdminUnitName']).count().reset_index()[['AdminUnitName','SexLabel']].to_csv(\"ward_wise_essential_worker.csv\")"
      ],
      "execution_count": null,
      "outputs": []
    },
    {
      "cell_type": "code",
      "metadata": {
        "id": "RcwSZUIYqVd2"
      },
      "source": [
        "# ward_wise.count().reset_index().to_csv(\"ward_wise_count.csv\", index=False)"
      ],
      "execution_count": null,
      "outputs": []
    },
    {
      "cell_type": "code",
      "metadata": {
        "id": "lOdFPNG4rE5o"
      },
      "source": [
        "# ward_wise.mean().reset_index().to_csv(\"ward_wise_mean.csv\", index=False)"
      ],
      "execution_count": null,
      "outputs": []
    },
    {
      "cell_type": "markdown",
      "metadata": {
        "id": "Ae4M3H0sE0BD"
      },
      "source": [
        "# Prepare for gpd plots"
      ]
    },
    {
      "cell_type": "code",
      "metadata": {
        "colab": {
          "base_uri": "https://localhost:8080/"
        },
        "id": "dQsG62M0XFPO",
        "outputId": "c190fe91-e14f-4870-bd76-3ea2a790d3be"
      },
      "source": [
        "# !ls /content/drive/MyDrive/PhD_Data/Synth_Pop/\n",
        "\n",
        "!ls /content/drive/MyDrive/PhD_Data/Synth_Pop/Analysis/Mumbai"
      ],
      "execution_count": null,
      "outputs": [
        {
          "output_type": "stream",
          "text": [
            "Mumbai_Household.jpg  Mumbai_School.jpg  Mumbai_Workplace.jpg\n"
          ],
          "name": "stdout"
        }
      ]
    },
    {
      "cell_type": "code",
      "metadata": {
        "id": "5uRt2OEKOYkX"
      },
      "source": [
        "world = gpd.read_file('/content/drive/MyDrive/PhD_Data/Synth_Pop/Analysis/Source_Files/Mumbai_Ward_Shape_Files/Mumbai.shp')"
      ],
      "execution_count": null,
      "outputs": []
    },
    {
      "cell_type": "markdown",
      "metadata": {
        "id": "kkGI-x5RKkMr"
      },
      "source": [
        "Plot School LatLon- For Mumbai takes around 11m 30s minutes\n"
      ]
    },
    {
      "cell_type": "code",
      "metadata": {
        "id": "uJ9CfIA8S9US"
      },
      "source": [
        "# plot_sample_df = df.sample(n=10000)\n",
        "# plot_sample_df = df\n",
        "plot_sample_df = ward_B_10k"
      ],
      "execution_count": null,
      "outputs": []
    },
    {
      "cell_type": "code",
      "metadata": {
        "colab": {
          "base_uri": "https://localhost:8080/",
          "height": 716
        },
        "id": "ZoDUxifMLBSR",
        "outputId": "e6b30b28-bed5-481a-d6cf-66751e6bab00"
      },
      "source": [
        "geometry = [Point(xy) for xy in zip(plot_sample_df['school_long'], plot_sample_df['school_lat'])]\n",
        "gdf = GeoDataFrame(plot_sample_df, geometry=geometry)  \n",
        "\n",
        "#this is a  map of Mumbai ward-wise on which we plot the lat long for the given entity\n",
        "\n",
        "gdf.plot(ax=world.plot(figsize=(20, 12), color='blue'), marker='o', color='red', markersize=5);\n",
        "\n",
        "plt.title(\"Distribution of Schools in Sample Synthpop 10k Mumbai\")\n",
        "plt.savefig('/content/drive/MyDrive/PhD_Data/Synth_Pop/Analysis/Mumbai/Mumbai_School.jpg')"
      ],
      "execution_count": null,
      "outputs": [
        {
          "output_type": "display_data",
          "data": {
            "image/png": "[encoded data removed]",
            "text/plain": [
              "<Figure size 1440x864 with 1 Axes>"
            ]
          },
          "metadata": {
            "tags": [],
            "needs_background": "light"
          }
        }
      ]
    },
    {
      "cell_type": "markdown",
      "metadata": {
        "id": "MzvBt6w2NOqP"
      },
      "source": [
        "Plot Households LatLong- Current config takes around 3 minutes\n"
      ]
    },
    {
      "cell_type": "code",
      "metadata": {
        "colab": {
          "base_uri": "https://localhost:8080/",
          "height": 716
        },
        "id": "KcVzmIHviyOi",
        "outputId": "ca9ec04b-114c-448a-c35b-81b0c9c600a5"
      },
      "source": [
        "geometry = [Point(xy) for xy in zip(plot_sample_df['H_Lon'], plot_sample_df['H_Lat'])]\n",
        "gdf = GeoDataFrame(plot_sample_df, geometry=geometry)  \n",
        "\n",
        "#this is a  map of Mumbai ward-wise on which we plot the lat long for the given entity\n",
        "\n",
        "gdf.plot(ax=world.plot(figsize=(20, 12), color='blue'), marker='o', color='red', markersize=5);\n",
        "\n",
        "plt.title(\"Distribution of Households in Sample Synthpop 10k Mumbai\")\n",
        "plt.savefig('/content/drive/MyDrive/PhD_Data/Synth_Pop/Analysis/Mumbai/Mumbai_Household.jpg')"
      ],
      "execution_count": null,
      "outputs": [
        {
          "output_type": "display_data",
          "data": {
            "image/png": "[encoded data removed]",
            "text/plain": [
              "<Figure size 1440x864 with 1 Axes>"
            ]
          },
          "metadata": {
            "tags": [],
            "needs_background": "light"
          }
        }
      ]
    },
    {
      "cell_type": "markdown",
      "metadata": {
        "id": "h-5vw5l1OoMo"
      },
      "source": [
        "Plot Workplace LatLong- Current config takes around 3 minutes"
      ]
    },
    {
      "cell_type": "code",
      "metadata": {
        "colab": {
          "base_uri": "https://localhost:8080/",
          "height": 716
        },
        "id": "P0-BA_wXOjM_",
        "outputId": "78a465b0-b7c4-445d-82e0-422767b92bdd"
      },
      "source": [
        "geometry = [Point(xy) for xy in zip(plot_sample_df['W_Lon'], plot_sample_df['W_Lat'])]\n",
        "gdf = GeoDataFrame(plot_sample_df, geometry=geometry)  \n",
        "\n",
        "#this is a  map of Mumbai ward-wise on which we plot the lat long for the given geometry\n",
        "\n",
        "gdf.plot(ax=world.plot(figsize=(20, 12), color='blue'), marker='o', color='red', markersize=5);\n",
        "\n",
        "plt.title(\"Distribution of Workplaces in Sample Synthpop 10k Mumbai\")\n",
        "plt.savefig('/content/drive/MyDrive/PhD_Data/Synth_Pop/Analysis/Mumbai/Mumbai_Workplace.jpg')"
      ],
      "execution_count": null,
      "outputs": [
        {
          "output_type": "display_data",
          "data": {
            "image/png": "[encoded data removed]",
            "text/plain": [
              "<Figure size 1440x864 with 1 Axes>"
            ]
          },
          "metadata": {
            "tags": [],
            "needs_background": "light"
          }
        }
      ]
    },
    {
      "cell_type": "markdown",
      "metadata": {
        "id": "HHyqtdaHpbdJ"
      },
      "source": [
        "# Finally save the df into the specified format and a 10k sample"
      ]
    },
    {
      "cell_type": "code",
      "metadata": {
        "id": "s92YIevdbgbl"
      },
      "source": [
        "!pwd"
      ],
      "execution_count": null,
      "outputs": []
    },
    {
      "cell_type": "markdown",
      "metadata": {
        "id": "-fRzQXLCnZ7N"
      },
      "source": [
        "Save the dataframe as CSV to the specified folder- Takes around 1 minute"
      ]
    },
    {
      "cell_type": "code",
      "metadata": {
        "id": "iLXT6otNCJ_h"
      },
      "source": [
        "df.head()"
      ],
      "execution_count": null,
      "outputs": []
    },
    {
      "cell_type": "code",
      "metadata": {
        "id": "N978GNoywCA3"
      },
      "source": [
        "df[['Age', 'Height', 'Weight', 'PSUID' ,'M_Fever', 'M_Cough', 'M_Diarrhea',\n",
        "       'M_Cataract', 'M_TB', 'M_High_BP', 'M_Heart_disease', 'M_Diabetes',\n",
        "       'M_Leprosy', 'M_Cancer', 'M_Asthma', 'M_Polio', 'M_Paralysis',\n",
        "       'M_Epilepsy', 'SexLabel', 'StateLabel', 'Religion', 'Caste', 'District',\n",
        "       'JobLabel', 'JobID', 'essential_worker', 'PublicTransport_Jobs',\n",
        "       'AdminUnitName', 'AdminUnitLatitude', 'AdminUnitLongitude', 'H_Lat',\n",
        "       'H_Lon', 'HHID', 'Agent_ID', 'WorkPlaceID', 'W_Lat', 'W_Lon',\n",
        "       'school_id', 'school_lat', 'school_long', 'public_place_id',\n",
        "       'public_place_lat', 'public_place_long', 'Adherence_to_Intervention']].to_csv(\"Mumbai_Synthpop_v1_2.csv\",index=False)"
      ],
      "execution_count": null,
      "outputs": []
    },
    {
      "cell_type": "code",
      "metadata": {
        "id": "127Qsq4LJCU-"
      },
      "source": [
        "df[['Age', 'Height', 'Weight', 'PSUID' ,'M_Fever', 'M_Cough', 'M_Diarrhea',\n",
        "       'M_Cataract', 'M_TB', 'M_High_BP', 'M_Heart_disease', 'M_Diabetes',\n",
        "       'M_Leprosy', 'M_Cancer', 'M_Asthma', 'M_Polio', 'M_Paralysis',\n",
        "       'M_Epilepsy', 'SexLabel', 'StateLabel', 'Religion', 'Caste', 'District',\n",
        "       'JobLabel', 'JobID', 'essential_worker', 'PublicTransport_Jobs',\n",
        "       'AdminUnitName', 'AdminUnitLatitude', 'AdminUnitLongitude', 'H_Lat',\n",
        "       'H_Lon', 'HHID', 'Agent_ID', 'WorkPlaceID', 'W_Lat', 'W_Lon',\n",
        "       'school_id', 'school_lat', 'school_long', 'public_place_id',\n",
        "       'public_place_lat', 'public_place_long', 'Adherence_to_Intervention']].sample(n=10000).to_csv(\"Mumbai_Synthpop_v1_2_Sample_10k.csv\",index=False)"
      ],
      "execution_count": null,
      "outputs": []
    }
  ]
}