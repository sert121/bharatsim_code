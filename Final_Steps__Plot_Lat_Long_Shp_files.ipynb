{
  "nbformat": 4,
  "nbformat_minor": 0,
  "metadata": {
    "colab": {
      "name": "Final_Steps__Plot_Lat_Long_Shp_files.ipynb",
      "provenance": [],
      "collapsed_sections": [
        "W4rvKoy-n0L7",
        "fj4p9WC8omGY",
        "eJ3YgScdcWul",
        "In27h2G8cdAV",
        "1RP5V44uFX4n",
        "VGcrvUl5FMA5",
        "Fi_O0SHIErjF",
        "gk71BoUGUI8C",
        "d0Hrm9Bk5p1l",
        "1eaLSdch5vDq",
        "BZ-t4Gyb5zwc",
        "WMEd9zxc5-qU",
        "fSDurOMc5OqM",
        "QuL7R4345YqE",
        "adwuoteh6TWj",
        "AlGUTbg27GJV",
        "WN0JoGHK7P8z",
        "yS2DZTT48VLZ",
        "hAEWwuRXmzkB",
        "lSMWDi68AUpq",
        "xOiTMS8OAht_",
        "EgKg8fytB0_B",
        "jlz5ilPsrbmX",
        "ALvv3N4VGORg",
        "3IsykkxmIPBH",
        "kbKzlS8FoT9n",
        "TLv9Xt-Xokji",
        "sAuvOSqGFsH9",
        "geel2WByowSV",
        "wxcmwhty8jwF",
        "zvWX1cxeops5",
        "Vho_rIdQ9jNz",
        "FkSmiHVBHd8s",
        "Edmr5FuhXrQL",
        "enQxVph3ERFh",
        "m6rPoFV_JBk8",
        "RUK1muiLJILB",
        "3qF100oTJ020",
        "OpgtQzDJJ3tW",
        "AVLNDBVbKH9M",
        "ZEN6GxEDPCje",
        "xcxwkmGJDuv3",
        "FkbvVl_l4Y4D",
        "RZF87JTR5IRP",
        "AJ4GdExN5NmM",
        "NBtaMsz55iPA",
        "Ae4M3H0sE0BD",
        "HHyqtdaHpbdJ"
      ],
      "machine_shape": "hm"
    },
    "kernelspec": {
      "display_name": "Python 3",
      "name": "python3"
    },
    "language_info": {
      "name": "python"
    }
  },
  "cells": [
    {
      "cell_type": "markdown",
      "metadata": {
        "id": "XjHnI2861pyo"
      },
      "source": [
        "At this point the following should be available:\n",
        "\n",
        "1. dataframe of the synthpop from the previous step defined as \"df\"\n",
        "2. dataframe of IHDS cleaned file for the respective state defined as variable \"source_df \n",
        "3. Statename defined as variable \"StateName\""
      ]
    },
    {
      "cell_type": "code",
      "metadata": {
        "id": "T5fPdcI6pqLp"
      },
      "source": [
        "# Get the population size from the dataframe, the df should either be an argumnet \n",
        "# in the fn call or the respective csv file location should be passed and dataframe created\n",
        "# - depends upon how the previous steps in the pipeline work.\n",
        "\n",
        "# dataframe should be defined before executing the following line\n",
        "pop_size = df.shape[0]\n"
      ],
      "execution_count": null,
      "outputs": []
    },
    {
      "cell_type": "markdown",
      "metadata": {
        "id": "d0Hrm9Bk5p1l"
      },
      "source": [
        "# Rename Columns"
      ]
    },
    {
      "cell_type": "code",
      "metadata": {
        "id": "KarJzRHhx4s_"
      },
      "source": [
        "df.rename(columns={'age': 'Age', 'gender': 'SexLabel'}, inplace=True)\n",
        "df.rename(columns={'religion': 'Religion', 'caste': 'Caste'}, inplace=True)\n",
        "df.rename(columns={'district': 'District', 'household_id': 'HHID'}, inplace=True)"
      ],
      "execution_count": null,
      "outputs": []
    },
    {
      "cell_type": "markdown",
      "metadata": {
        "id": "1eaLSdch5vDq"
      },
      "source": [
        "# Delete Columns"
      ]
    },
    {
      "cell_type": "code",
      "metadata": {
        "id": "uQ4Q0oWlzFO6"
      },
      "source": [
        "#These columns were not needed so we delete them. Depending upon the requirements we can keep them. \n",
        "\n",
        "#Uncomment the required line\n",
        "\n",
        "# del df['Unnamed: 0']\n",
        "# del df['literacy']\n",
        "# del df['residence'] \n",
        "# del df['geog'] \n",
        "# del df['working']\n",
        "# del df['WorksAtSameCategory']"
      ],
      "execution_count": 1,
      "outputs": []
    },
    {
      "cell_type": "markdown",
      "metadata": {
        "id": "BZ-t4Gyb5zwc"
      },
      "source": [
        "# Add Columns"
      ]
    },
    {
      "cell_type": "code",
      "metadata": {
        "id": "zHzy7fVB0oqr"
      },
      "source": [
        "#Get the state name as argument in the function\n",
        "\n",
        "df['StateLabel']=StateName"
      ],
      "execution_count": null,
      "outputs": []
    },
    {
      "cell_type": "code",
      "metadata": {
        "id": "PIGXWoZU7RfA"
      },
      "source": [
        "# Add PSUID column\n",
        "\n",
        "df['PSUID'] = pd.Series(np.random.randint(1, 24, size=pop_size))"
      ],
      "execution_count": null,
      "outputs": []
    },
    {
      "cell_type": "code",
      "metadata": {
        "id": "aqSGJxCE1vOj"
      },
      "source": [
        "df['Agent_ID'] = pd.Series(range(0, pop_size, 1)) + 51900000000\n",
        "\n",
        "# df['District'] = 'Mumbai'"
      ],
      "execution_count": null,
      "outputs": []
    },
    {
      "cell_type": "markdown",
      "metadata": {
        "id": "WMEd9zxc5-qU"
      },
      "source": [
        "#Update Column"
      ]
    },
    {
      "cell_type": "code",
      "metadata": {
        "id": "GG9NpfF0590T"
      },
      "source": [
        "df['HHID'] = df['HHID'] + 51900000000   # First 3 digits is District Code: Pune- 998, Mumbai- 519"
      ],
      "execution_count": null,
      "outputs": []
    },
    {
      "cell_type": "markdown",
      "metadata": {
        "id": "fSDurOMc5OqM"
      },
      "source": [
        "#Adding Co-Morbs"
      ]
    },
    {
      "cell_type": "code",
      "metadata": {
        "id": "4Fi3iLiw3pXG"
      },
      "source": [
        "# Add comorbs in the same proportion as in source- Maharashtra in IHDS-II\n",
        "\n",
        "# Takes around 34 sec\n",
        "\n",
        "'''\n",
        "var = source_df.groupby(['M_Fever']).agg({'M_Fever': ['count']}).apply(lambda x: x/x.sum())\n",
        "df['M_Fever'] = pd.Series(var['M_Fever'].sample(n=pop_size,weights=\"count\",replace=True).index)\n",
        "\n",
        "print(source_df.groupby(['M_Fever']).agg({'M_Fever': ['count']}).apply(lambda x: x/x.sum()))\n",
        "print(df.groupby(['M_Fever']).agg({'M_Fever': ['count']}).apply(lambda x: x/x.sum()))\n",
        "\n",
        "\n",
        "var = source_df.groupby(['M_Cough']).agg({'M_Cough': ['count']}).apply(lambda x: x/x.sum())\n",
        "df['M_Cough'] = pd.Series(var['M_Cough'].sample(n=pop_size,weights=\"count\",replace=True).index)\n",
        "\n",
        "print(source_df.groupby(['M_Cough']).agg({'M_Cough': ['count']}).apply(lambda x: x/x.sum()))\n",
        "print(df.groupby(['M_Cough']).agg({'M_Cough': ['count']}).apply(lambda x: x/x.sum()))\n",
        "\n",
        "var = source_df.groupby(['M_Diarrhea']).agg({'M_Diarrhea': ['count']}).apply(lambda x: x/x.sum())\n",
        "df['M_Diarrhea'] = pd.Series(var['M_Diarrhea'].sample(n=pop_size,weights=\"count\",replace=True).index)\n",
        "\n",
        "print(source_df.groupby(['M_Diarrhea']).agg({'M_Diarrhea': ['count']}).apply(lambda x: x/x.sum()))\n",
        "print(df.groupby(['M_Diarrhea']).agg({'M_Diarrhea': ['count']}).apply(lambda x: x/x.sum()))\n",
        "\n",
        "var = source_df.groupby(['M_Cataract']).agg({'M_Cataract': ['count']}).apply(lambda x: x/x.sum())\n",
        "df['M_Cataract'] = pd.Series(var['M_Cataract'].sample(n=pop_size,weights=\"count\",replace=True).index)\n",
        "\n",
        "print(source_df.groupby(['M_Cataract']).agg({'M_Cataract': ['count']}).apply(lambda x: x/x.sum()))\n",
        "print(df.groupby(['M_Cataract']).agg({'M_Cataract': ['count']}).apply(lambda x: x/x.sum()))\n",
        "\n",
        "var = source_df.groupby(['M_TB']).agg({'M_TB': ['count']}).apply(lambda x: x/x.sum())\n",
        "df['M_TB'] = pd.Series(var['M_TB'].sample(n=pop_size,weights=\"count\",replace=True).index)\n",
        "\n",
        "print(source_df.groupby(['M_TB']).agg({'M_TB': ['count']}).apply(lambda x: x/x.sum()))\n",
        "print(df.groupby(['M_TB']).agg({'M_TB': ['count']}).apply(lambda x: x/x.sum()))\n",
        "\n",
        "var = source_df.groupby(['M_High_BP']).agg({'M_High_BP': ['count']}).apply(lambda x: x/x.sum())\n",
        "df['M_High_BP'] = pd.Series(var['M_High_BP'].sample(n=pop_size,weights=\"count\",replace=True).index)\n",
        "\n",
        "print(source_df.groupby(['M_High_BP']).agg({'M_High_BP': ['count']}).apply(lambda x: x/x.sum()))\n",
        "print(df.groupby(['M_High_BP']).agg({'M_High_BP': ['count']}).apply(lambda x: x/x.sum()))\n",
        "\n",
        "var = source_df.groupby(['M_Heart_disease']).agg({'M_Heart_disease': ['count']}).apply(lambda x: x/x.sum())\n",
        "df['M_Heart_disease'] = pd.Series(var['M_Heart_disease'].sample(n=pop_size,weights=\"count\",replace=True).index)\n",
        "\n",
        "print(source_df.groupby(['M_Heart_disease']).agg({'M_Heart_disease': ['count']}).apply(lambda x: x/x.sum()))\n",
        "print(df.groupby(['M_Heart_disease']).agg({'M_Heart_disease': ['count']}).apply(lambda x: x/x.sum()))\n",
        "\n",
        "\n",
        "var = source_df.groupby(['M_Diabetes']).agg({'M_Diabetes': ['count']}).apply(lambda x: x/x.sum())\n",
        "df['M_Diabetes'] = pd.Series(var['M_Diabetes'].sample(n=pop_size,weights=\"count\",replace=True).index)\n",
        "\n",
        "print(source_df.groupby(['M_Diabetes']).agg({'M_Diabetes': ['count']}).apply(lambda x: x/x.sum()))\n",
        "print(df.groupby(['M_Diabetes']).agg({'M_Diabetes': ['count']}).apply(lambda x: x/x.sum()))\n",
        "\n",
        "var = source_df.groupby(['M_Leprosy']).agg({'M_Leprosy': ['count']}).apply(lambda x: x/x.sum())\n",
        "df['M_Leprosy'] = pd.Series(var['M_Leprosy'].sample(n=pop_size,weights=\"count\",replace=True).index)\n",
        "\n",
        "print(source_df.groupby(['M_Leprosy']).agg({'M_Leprosy': ['count']}).apply(lambda x: x/x.sum()))\n",
        "print(df.groupby(['M_Leprosy']).agg({'M_Leprosy': ['count']}).apply(lambda x: x/x.sum()))\n",
        "\n",
        "var = source_df.groupby(['M_Cancer']).agg({'M_Cancer': ['count']}).apply(lambda x: x/x.sum())\n",
        "df['M_Cancer'] = pd.Series(var['M_Cancer'].sample(n=pop_size,weights=\"count\",replace=True).index)\n",
        "\n",
        "print(source_df.groupby(['M_Cancer']).agg({'M_Cancer': ['count']}).apply(lambda x: x/x.sum()))\n",
        "print(df.groupby(['M_Cancer']).agg({'M_Cancer': ['count']}).apply(lambda x: x/x.sum()))\n",
        "\n",
        "var = source_df.groupby(['M_Asthma']).agg({'M_Asthma': ['count']}).apply(lambda x: x/x.sum())\n",
        "df['M_Asthma'] = pd.Series(var['M_Asthma'].sample(n=pop_size,weights=\"count\",replace=True).index)\n",
        "\n",
        "print(source_df.groupby(['M_Asthma']).agg({'M_Asthma': ['count']}).apply(lambda x: x/x.sum()))\n",
        "print(df.groupby(['M_Asthma']).agg({'M_Asthma': ['count']}).apply(lambda x: x/x.sum()))\n",
        "\n",
        "var = source_df.groupby(['M_Polio']).agg({'M_Polio': ['count']}).apply(lambda x: x/x.sum())\n",
        "df['M_Polio'] = pd.Series(var['M_Polio'].sample(n=pop_size,weights=\"count\",replace=True).index)\n",
        "\n",
        "print(source_df.groupby(['M_Polio']).agg({'M_Polio': ['count']}).apply(lambda x: x/x.sum()))\n",
        "print(df.groupby(['M_Polio']).agg({'M_Polio': ['count']}).apply(lambda x: x/x.sum()))\n",
        "\n",
        "var = source_df.groupby(['M_Paralysis']).agg({'M_Paralysis': ['count']}).apply(lambda x: x/x.sum())\n",
        "df['M_Paralysis'] = pd.Series(var['M_Paralysis'].sample(n=pop_size,weights=\"count\",replace=True).index)\n",
        "\n",
        "print(source_df.groupby(['M_Paralysis']).agg({'M_Paralysis': ['count']}).apply(lambda x: x/x.sum()))\n",
        "print(df.groupby(['M_Paralysis']).agg({'M_Paralysis': ['count']}).apply(lambda x: x/x.sum()))\n",
        "\n",
        "'''\n",
        "var = source_df.groupby(['M_Epilepsy']).agg({'M_Epilepsy': ['count']}).apply(lambda x: x/x.sum())\n",
        "df['M_Epilepsy'] = pd.Series(var['M_Epilepsy'].sample(n=pop_size,weights=\"count\",replace=True).index)\n",
        "\n",
        "print(source_df.groupby(['M_Epilepsy']).agg({'M_Epilepsy': ['count']}).apply(lambda x: x/x.sum()))\n",
        "print(df.groupby(['M_Epilepsy']).agg({'M_Epilepsy': ['count']}).apply(lambda x: x/x.sum()))\n"
      ],
      "execution_count": null,
      "outputs": []
    },
    {
      "cell_type": "markdown",
      "metadata": {
        "id": "QuL7R4345YqE"
      },
      "source": [
        "# Update Religion value to Capital case (hindu --> Hindu)"
      ]
    },
    {
      "cell_type": "code",
      "metadata": {
        "id": "CMfkc-3iMXM-"
      },
      "source": [
        "df['Religion'] = df['Religion'].replace(['christian'], 'Christian')\n",
        "df['Religion'] = df['Religion'].replace(['hindu'], 'Hindu')\n",
        "df['Religion'] = df['Religion'].replace(['jain'], 'Jain')\n",
        "df['Religion'] = df['Religion'].replace(['muslim'], 'Muslim')\n",
        "df['Religion'] = df['Religion'].replace(['sikh'], 'Sikh')"
      ],
      "execution_count": null,
      "outputs": []
    },
    {
      "cell_type": "markdown",
      "metadata": {
        "id": "adwuoteh6TWj"
      },
      "source": [
        "#Update SexLabel value to Capital case (male --> Male)"
      ]
    },
    {
      "cell_type": "code",
      "metadata": {
        "id": "lDGj9wcbDuEk"
      },
      "source": [
        "df['SexLabel'] = df['SexLabel'].replace(['male'], 'Male')\n",
        "df['SexLabel'] = df['SexLabel'].replace(['female'], 'Female')"
      ],
      "execution_count": null,
      "outputs": []
    },
    {
      "cell_type": "markdown",
      "metadata": {
        "id": "AlGUTbg27GJV"
      },
      "source": [
        "# Round off Lat,Lon to 5 decimal points"
      ]
    },
    {
      "cell_type": "code",
      "metadata": {
        "id": "TOtfNRKD7HJf"
      },
      "source": [
        "#Uncomment if not done in the previous steps in the pipeline\n",
        "\n",
        "\n",
        "# df['AdminUnitLatitude'] = df['AdminUnitLatitude'].apply(lambda x:round(x,5))\n",
        "# df['AdminUnitLongitude'] = df['AdminUnitLongitude'].apply(lambda x:round(x,5))"
      ],
      "execution_count": null,
      "outputs": []
    },
    {
      "cell_type": "markdown",
      "metadata": {
        "id": "WN0JoGHK7P8z"
      },
      "source": [
        "# Co-Morbs (No, Cured --> 0) (Yes --> 1)"
      ]
    },
    {
      "cell_type": "code",
      "metadata": {
        "id": "vezA_9KS65qP"
      },
      "source": [
        "# Takes around 1 m 2s\n",
        "# Need to be careful in future to replace it on the entire dataframe- should be done on specific columns\n",
        "df['M_Epilepsy'] = df['M_Epilepsy'].replace(['No', 'Cured'], 0)\n",
        "df['M_Epilepsy'] = df['M_Epilepsy'].replace(['Yes'], 1)"
      ],
      "execution_count": null,
      "outputs": []
    },
    {
      "cell_type": "markdown",
      "metadata": {
        "id": "hAEWwuRXmzkB"
      },
      "source": [
        "# Spread the weigths across age groups- manually"
      ]
    },
    {
      "cell_type": "code",
      "metadata": {
        "id": "32l6szHvYhsc"
      },
      "source": [
        "# This might be needed in case the synthpop columns for weight have very narrow range\n",
        "# for age in (10, 100):\n",
        "for age in range(13, 100):\n",
        "  my_std = source_df[source_df['Age']==age]['Weight'].std()\n",
        "\n",
        "  if(~np.isnan(my_std)):   \n",
        "    min = source_df[source_df['Age']==age]['Weight'].quantile(0.01)\n",
        "    max = source_df[source_df['Age']==age]['Weight'].quantile(0.99)\n",
        "    \n",
        "    low_lim = source_df[source_df['Age']==age]['Weight'].quantile(0.25)\n",
        "    mid_lim = source_df[source_df['Age']==age]['Weight'].quantile(0.50)\n",
        "    high_lim = source_df[source_df['Age']==age]['Weight'].quantile(0.75)\n",
        "\n",
        "\n",
        "    df.loc[(df.Age == age) & (df.Weight < min), 'Weight'] = np.random.uniform(low_lim, mid_lim, size=len(df.loc[(df.Age == age) & (df.Weight < min)]))\n",
        "    df.loc[(df.Age == age) & (df.Weight > max), 'Weight'] = np.random.uniform(mid_lim, high_lim, size=len(df.loc[(df.Age == age) & (df.Weight > max)]))\n",
        "\n",
        "\n"
      ],
      "execution_count": null,
      "outputs": []
    },
    {
      "cell_type": "markdown",
      "metadata": {
        "id": "geel2WByowSV"
      },
      "source": [
        "# Update datatype of WorkPlaceID, school_id, Agent_ID"
      ]
    },
    {
      "cell_type": "code",
      "metadata": {
        "id": "AzNW9QNuFnIx"
      },
      "source": [
        "#Uncomment the following in case these conversions are not done in previous steps in the pipeline\n",
        "\n",
        "\n",
        "# df[['WorkPlaceID']] = df[['WorkPlaceID']].astype(pd.Int64Dtype())\n",
        "# df[['school_id']] = df[['school_id']].astype(pd.Int64Dtype())\n",
        "# df[['Agent_ID']] = df[['Agent_ID']].astype(pd.Int64Dtype())\n",
        "\n",
        "# df[['M_Epilepsy']] = df[['M_Epilepsy']].astype(pd.Int64Dtype())"
      ],
      "execution_count": null,
      "outputs": []
    },
    {
      "cell_type": "markdown",
      "metadata": {
        "id": "zvWX1cxeops5"
      },
      "source": [
        "# Round off Weight and Height to 2 decimal points"
      ]
    },
    {
      "cell_type": "code",
      "metadata": {
        "id": "tRXhfol_oqjq"
      },
      "source": [
        "# replace it with np.round method\n",
        "df['Height'] = df['Height'].apply(lambda x:round(x,2))\n",
        "df['Weight'] = df['Weight'].apply(lambda x:round(x,2))"
      ],
      "execution_count": null,
      "outputs": []
    },
    {
      "cell_type": "markdown",
      "metadata": {
        "id": "FkSmiHVBHd8s"
      },
      "source": [
        "# WorkPlaceID,school_id (nan-->0)"
      ]
    },
    {
      "cell_type": "code",
      "metadata": {
        "id": "AWpCD81mi0gt"
      },
      "source": [
        "# sample_df['WorkPlaceID'] = sample_df['WorkPlaceID'].fillna(0)\n",
        "df['WorkPlaceID'] = df['WorkPlaceID'].fillna(0)\n",
        "\n",
        "# sample_df['school_id'] = sample_df['school_id'].fillna(0)\n",
        "df['school_id'] = df['school_id'].fillna(0)"
      ],
      "execution_count": null,
      "outputs": []
    },
    {
      "cell_type": "markdown",
      "metadata": {
        "id": "Edmr5FuhXrQL"
      },
      "source": [
        "# Verify WorkPlaceID, school_id (nan --> 0)"
      ]
    },
    {
      "cell_type": "code",
      "metadata": {
        "colab": {
          "base_uri": "https://localhost:8080/",
          "height": 69
        },
        "id": "hwmbo0YMXVUh",
        "outputId": "a3ba5e6b-2504-4da5-bc75-f3194f18cd2b"
      },
      "source": [
        "df[np.isnan(df['WorkPlaceID'])]\n",
        "# df[np.isnan(df['school_id'])]\n"
      ],
      "execution_count": null,
      "outputs": [
        {
          "output_type": "execute_result",
          "data": {
            "text/html": [
              "<div>\n",
              "<style scoped>\n",
              "    .dataframe tbody tr th:only-of-type {\n",
              "        vertical-align: middle;\n",
              "    }\n",
              "\n",
              "    .dataframe tbody tr th {\n",
              "        vertical-align: top;\n",
              "    }\n",
              "\n",
              "    .dataframe thead th {\n",
              "        text-align: right;\n",
              "    }\n",
              "</style>\n",
              "<table border=\"1\" class=\"dataframe\">\n",
              "  <thead>\n",
              "    <tr style=\"text-align: right;\">\n",
              "      <th></th>\n",
              "      <th>SexLabel</th>\n",
              "      <th>Age</th>\n",
              "      <th>Religion</th>\n",
              "      <th>Caste</th>\n",
              "      <th>HHID</th>\n",
              "      <th>H_Lat</th>\n",
              "      <th>H_Lon</th>\n",
              "      <th>AdminUnitName</th>\n",
              "      <th>AdminUnitLatitude</th>\n",
              "      <th>AdminUnitLongitude</th>\n",
              "      <th>JobLabel</th>\n",
              "      <th>JobID</th>\n",
              "      <th>essential_worker</th>\n",
              "      <th>PublicTransport_Jobs</th>\n",
              "      <th>Adherence_to_Intervention</th>\n",
              "      <th>WorksAtSameCategory</th>\n",
              "      <th>WorkPlaceID</th>\n",
              "      <th>W_Lat</th>\n",
              "      <th>W_Lon</th>\n",
              "      <th>school_id</th>\n",
              "      <th>school_lat</th>\n",
              "      <th>school_long</th>\n",
              "      <th>public_place_id</th>\n",
              "      <th>public_place_lat</th>\n",
              "      <th>public_place_long</th>\n",
              "      <th>StateLabel</th>\n",
              "      <th>PSUID</th>\n",
              "      <th>Agent_ID</th>\n",
              "      <th>District</th>\n",
              "      <th>M_Fever</th>\n",
              "      <th>M_Cough</th>\n",
              "      <th>M_Diarrhea</th>\n",
              "      <th>M_Cataract</th>\n",
              "      <th>M_TB</th>\n",
              "      <th>M_High_BP</th>\n",
              "      <th>M_Heart_disease</th>\n",
              "      <th>M_Diabetes</th>\n",
              "      <th>M_Leprosy</th>\n",
              "      <th>M_Cancer</th>\n",
              "      <th>M_Asthma</th>\n",
              "      <th>M_Polio</th>\n",
              "      <th>M_Paralysis</th>\n",
              "      <th>M_Epilepsy</th>\n",
              "      <th>Weight</th>\n",
              "      <th>Height</th>\n",
              "    </tr>\n",
              "  </thead>\n",
              "  <tbody>\n",
              "  </tbody>\n",
              "</table>\n",
              "</div>"
            ],
            "text/plain": [
              "Empty DataFrame\n",
              "Columns: [SexLabel, Age, Religion, Caste, HHID, H_Lat, H_Lon, AdminUnitName, AdminUnitLatitude, AdminUnitLongitude, JobLabel, JobID, essential_worker, PublicTransport_Jobs, Adherence_to_Intervention, WorksAtSameCategory, WorkPlaceID, W_Lat, W_Lon, school_id, school_lat, school_long, public_place_id, public_place_lat, public_place_long, StateLabel, PSUID, Agent_ID, District, M_Fever, M_Cough, M_Diarrhea, M_Cataract, M_TB, M_High_BP, M_Heart_disease, M_Diabetes, M_Leprosy, M_Cancer, M_Asthma, M_Polio, M_Paralysis, M_Epilepsy, Weight, Height]\n",
              "Index: []"
            ]
          },
          "metadata": {
            "tags": []
          },
          "execution_count": 45
        }
      ]
    },
    {
      "cell_type": "markdown",
      "metadata": {
        "id": "enQxVph3ERFh"
      },
      "source": [
        "# updations for students' JobLabel, homebound and other "
      ]
    },
    {
      "cell_type": "code",
      "metadata": {
        "id": "XT-vhoGiYlmj"
      },
      "source": [
        "df.info()"
      ],
      "execution_count": null,
      "outputs": []
    },
    {
      "cell_type": "code",
      "metadata": {
        "id": "wCecnijbX_in"
      },
      "source": [
        "df[(df['WorkPlaceID'] == 0) & (df['school_id']!=0)]"
      ],
      "execution_count": null,
      "outputs": []
    },
    {
      "cell_type": "code",
      "metadata": {
        "id": "7VaSv0Jjni7F"
      },
      "source": [
        "# If wokplaceid=0, and school_id != 0, then assign JobLabel: Student, JobID: 199\n",
        "\n",
        "df['JobLabel'] = np.where((df['WorkPlaceID'] == 0) & (df['school_id'] != 0) , \"Student\", df['JobLabel'])\n",
        "df.loc[df.JobLabel == \"Student\", 'JobID'] = 199"
      ],
      "execution_count": null,
      "outputs": []
    },
    {
      "cell_type": "code",
      "metadata": {
        "id": "bDgJgY5anvhG"
      },
      "source": [
        "# For Age=0, 1, 2, 3 JobLabel=Homebound\n",
        "\n",
        "df['JobLabel'] = np.where((df['Age'] == 0), \"Homebound\", df['JobLabel'])\n",
        "# df['JobLabel'] = np.where((df['Age'] == 1), \"Homebound\", df['JobLabel'])\n",
        "# df['JobLabel'] = np.where((df['Age'] == 2), \"Homebound\", df['JobLabel'])\n",
        "# df['JobLabel'] = np.where((df['Age'] == 3), \"Homebound\", df['JobLabel'])\n"
      ],
      "execution_count": null,
      "outputs": []
    },
    {
      "cell_type": "code",
      "metadata": {
        "id": "7j8LRdton0MX"
      },
      "source": [
        "# for homebound people JobID\n",
        "\n",
        "df.loc[df.JobLabel == \"Homebound\", 'JobID'] = 0"
      ],
      "execution_count": null,
      "outputs": []
    },
    {
      "cell_type": "code",
      "metadata": {
        "id": "BEQggKoXn3xA"
      },
      "source": [
        "# for homebound people- School_id=0, school_lat=nan, school_long=nan, workplace_id=0, W_LAT, W_LON, essential worker=0\n",
        "\n",
        "df.loc[df.JobLabel == \"Homebound\", ['essential_worker', 'WorkPlaceID', 'W_Lat', 'W_Lon', 'school_id', 'school_lat', 'school_long' ]] = [0, 0, np.nan, np.nan, 0, np.nan, np.nan]"
      ],
      "execution_count": null,
      "outputs": []
    }
  ]
}